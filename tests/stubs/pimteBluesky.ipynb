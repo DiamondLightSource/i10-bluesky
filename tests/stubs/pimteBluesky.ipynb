{
 "cells": [
  {
   "cell_type": "code",
   "execution_count": 1,
   "id": "512ca450-4a59-4f77-bd2f-9edbfc689328",
   "metadata": {},
   "outputs": [],
   "source": [
    "from i10_bluesky.devices.rasor.detectorSlits import *\n",
    "from i10_bluesky.devices.scalerCard import ScaleCard\n",
    "from i10_bluesky.devices.pimteAD import *\n",
    "from i10_bluesky.plans.rasor.pimte_plans import AdPlan\n",
    "from ophyd_async.core import DeviceCollector\n",
    "from ophyd_async.core.async_status import AsyncStatus\n",
    "from ophyd_async.core.detector import TriggerInfo, DetectorTrigger\n",
    "from bluesky.callbacks.best_effort import BestEffortCallback\n",
    "from bluesky import RunEngine\n",
    "from bluesky.plans import count, scan  \n",
    "from bluesky.plan_stubs import *\n",
    "from bluesky.preprocessors import contingency_wrapper\n",
    "from ophyd.sim import det1\n",
    "from bluesky.utils import *\n",
    "from bluesky.utils import Msg\n",
    "from bluesky import preprocessors as bpp\n",
    "from bluesky import plan_stubs as bps\n",
    "from bluesky.protocols import *\n",
    "from dodal.beamlines.beamline_utils import set_directory_provider\n",
    "from ophyd_async.core._providers import StaticDirectoryProvider\n",
    "import asyncio\n",
    "import os\n",
    "loop = asyncio.get_event_loop()\n",
    "bec = BestEffortCallback()\n",
    "RE = RunEngine({})\n"
   ]
  },
  {
   "cell_type": "code",
   "execution_count": 2,
   "id": "346887c7-bb7d-4641-9db6-dc3ce1a1599a",
   "metadata": {},
   "outputs": [],
   "source": [
    "df =  StaticDirectoryProvider(\"/dls/i10/data/2024/cm37251-2/processing/\", \"i10-\")\n",
    "\n",
    "with DeviceCollector():\n",
    "    ds = DetectorSlits('ME01D-MO-APTR',name = \"detSlits\")\n",
    "        \n",
    "pimte = HDFStatsPimte(\n",
    "\"BL10I-EA-PIMTE-01:\",\n",
    "df,\n",
    "\"pimte\",)\n",
    "loop.create_task(pimte.connect())\n",
    "ti = TriggerInfo(1, DetectorTrigger.internal,6,0.003)"
   ]
  },
  {
   "cell_type": "code",
   "execution_count": null,
   "id": "cbce183f-6bee-46f4-ae54-92c3c971dd60",
   "metadata": {},
   "outputs": [],
   "source": [
    "result = loop.create_task(pimte.drv.acquire_time.read())"
   ]
  },
  {
   "cell_type": "code",
   "execution_count": 8,
   "id": "24cf193f-85b5-4db2-b079-84f701b50dbc",
   "metadata": {},
   "outputs": [
    {
     "name": "stdout",
     "output_type": "stream",
     "text": [
      "\n",
      "\n",
      "Transient Scan ID: 5     Time: 2024-04-08 15:01:11\n",
      "Persistent Unique Scan ID: '67e67a23-3814-4f18-8e7c-d85f0a0ad13a'\n",
      "New stream: 'primary'\n",
      "+-----------+------------+\n",
      "|   seq_num |       time |\n",
      "+-----------+------------+\n",
      "|         1 | 15:01:14.7 |\n",
      "+-----------+------------+\n",
      "generator count ['67e67a23'] (scan num: 5)\n",
      "\n",
      "\n",
      "\n"
     ]
    },
    {
     "data": {
      "text/plain": [
       "('67e67a23-3814-4f18-8e7c-d85f0a0ad13a',)"
      ]
     },
     "execution_count": 8,
     "metadata": {},
     "output_type": "execute_result"
    }
   ],
   "source": [
    "RE(count([pimte]),bec)"
   ]
  },
  {
   "cell_type": "code",
   "execution_count": 10,
   "id": "a3c8737b-74b4-4d9b-ac30-c76e782df557",
   "metadata": {},
   "outputs": [],
   "source": [
    "pimtePlan = AdPlan(pimte)"
   ]
  },
  {
   "cell_type": "code",
   "execution_count": 11,
   "id": "284e61b8-116a-496f-841a-a67841d21569",
   "metadata": {},
   "outputs": [
    {
     "name": "stdout",
     "output_type": "stream",
     "text": [
      "\n",
      "\n",
      "Transient Scan ID: 6     Time: 2024-04-08 15:01:43\n",
      "Persistent Unique Scan ID: '4e2e2ea0-e0d0-4fa0-aba5-a5e50d7d561e'\n",
      "New stream: 'primary'\n",
      "+-----------+------------+\n",
      "|   seq_num |       time |\n",
      "+-----------+------------+\n",
      "|         1 | 15:01:46.9 |\n",
      "+-----------+------------+\n",
      "generator tiggerImg ['4e2e2ea0'] (scan num: 6)\n",
      "\n",
      "\n",
      "\n"
     ]
    },
    {
     "data": {
      "text/plain": [
       "('4e2e2ea0-e0d0-4fa0-aba5-a5e50d7d561e',)"
      ]
     },
     "execution_count": 11,
     "metadata": {},
     "output_type": "execute_result"
    },
    {
     "data": {
      "image/png": "[encoded data removed]",
      "text/plain": [
       "<Figure size 500x500 with 1 Axes>"
      ]
     },
     "metadata": {},
     "output_type": "display_data"
    }
   ],
   "source": [
    "RE(AdPlan.tiggerImg(pimte,0.002),bec)"
   ]
  },
  {
   "cell_type": "code",
   "execution_count": 13,
   "id": "c6534c5a-2837-42b8-ab16-9853b315458f",
   "metadata": {},
   "outputs": [
    {
     "name": "stdout",
     "output_type": "stream",
     "text": [
      "\n",
      "\n",
      "Transient Scan ID: 8     Time: 2024-04-08 15:02:00\n",
      "Persistent Unique Scan ID: '86af960e-408d-4a70-8ccb-9f415b9b6f5c'\n",
      "New stream: 'primary'\n",
      "+-----------+------------+\n",
      "|   seq_num |       time |\n",
      "+-----------+------------+\n",
      "+-----------+------------+\n",
      "generator takeImg ['86af960e'] (scan num: 8)\n",
      "\n",
      "\n",
      "\n"
     ]
    },
    {
     "data": {
      "text/plain": [
       "('86af960e-408d-4a70-8ccb-9f415b9b6f5c',)"
      ]
     },
     "execution_count": 13,
     "metadata": {},
     "output_type": "execute_result"
    },
    {
     "data": {
      "image/png": "[encoded data removed]",
      "text/plain": [
       "<Figure size 500x500 with 1 Axes>"
      ]
     },
     "metadata": {},
     "output_type": "display_data"
    }
   ],
   "source": [
    "RE(pimtePlan.takeImg(), bec)"
   ]
  },
  {
   "cell_type": "code",
   "execution_count": 16,
   "id": "0a19c569-ed1e-4203-8b8c-2e0ff1f74549",
   "metadata": {},
   "outputs": [
    {
     "data": {
      "text/plain": [
       "('623383fa-107d-406a-bf22-b329b484482b',)"
      ]
     },
     "execution_count": 16,
     "metadata": {},
     "output_type": "execute_result"
    }
   ],
   "source": [
    "RE(pimtePlan.takeImg(exposure = 0.003, n_img = 1))"
   ]
  },
  {
   "cell_type": "code",
   "execution_count": null,
   "id": "765fd86d-bbf8-4938-8ddc-5be063e43d94",
   "metadata": {},
   "outputs": [],
   "source": [
    "asyncio.create_task(pimte.writer.open())"
   ]
  },
  {
   "cell_type": "code",
   "execution_count": null,
   "id": "fcaacc80-c145-403f-8fc2-2cd9fbff8555",
   "metadata": {},
   "outputs": [],
   "source": [
    "asyncio.wait_for(pimte.trigger(), timeout =10)"
   ]
  },
  {
   "cell_type": "code",
   "execution_count": null,
   "id": "a535ca6d-7a91-4355-af6f-27d0099e3471",
   "metadata": {},
   "outputs": [],
   "source": [
    "async def test():\n",
    "    aw = await asyncio.gather(pimte.prepare(ti))\n",
    "    await asyncio.wait_for(aw, timeout = 5)    "
   ]
  },
  {
   "cell_type": "code",
   "execution_count": null,
   "id": "a3886c6e-57f4-4dde-8f1d-589b68facde3",
   "metadata": {},
   "outputs": [],
   "source": [
    "asyncio.gather(pimtePlan.setTemp(16))"
   ]
  },
  {
   "cell_type": "code",
   "execution_count": null,
   "id": "56f4bd9d-bd5f-40d1-944c-cd3435624bbf",
   "metadata": {},
   "outputs": [],
   "source": [
    "result = asyncio.create_task(test())"
   ]
  },
  {
   "cell_type": "code",
   "execution_count": null,
   "id": "8719969b-67f0-4720-ad13-c4fac660622c",
   "metadata": {},
   "outputs": [],
   "source": [
    "print(k)"
   ]
  },
  {
   "cell_type": "code",
   "execution_count": null,
   "id": "28cce665-a913-4be4-9e9a-f9f29252ce4b",
   "metadata": {},
   "outputs": [],
   "source": [
    "RE((pimtePlan.setTemp(17)))\n",
    "RE((pimtePlan.setAdcSpeed(pimte.drv.SpeedMode.adc_200Khz)))"
   ]
  },
  {
   "cell_type": "code",
   "execution_count": null,
   "id": "061184d3-5806-4f5f-9a17-8c2d18ac0485",
   "metadata": {},
   "outputs": [],
   "source": [
    "def doublePlan():\n",
    "    yield from pimtePlan.setTemp(19)\n",
    "    yield from pimtePlan.setAdcSpeed(pimtePlan.det.drv.SpeedMode.adc_2Mhz)"
   ]
  },
  {
   "cell_type": "code",
   "execution_count": null,
   "id": "d4896e4b-bf87-4ba8-b000-2371df9ea9e3",
   "metadata": {},
   "outputs": [],
   "source": [
    "RE(doublePlan())\n"
   ]
  },
  {
   "cell_type": "code",
   "execution_count": null,
   "id": "e2c40d9a-d184-412e-a35e-8bbf1ef15251",
   "metadata": {},
   "outputs": [],
   "source": [
    "RE(AdPlan.tiggerImg(pimtePlan.det,0.02))"
   ]
  },
  {
   "cell_type": "code",
   "execution_count": null,
   "id": "4363473c-69a6-40f3-bb9d-0495469e2a36",
   "metadata": {},
   "outputs": [],
   "source": []
  },
  {
   "cell_type": "code",
   "execution_count": 17,
   "id": "3f489f72-f3db-4c84-8d99-78e7c8f1477b",
   "metadata": {},
   "outputs": [],
   "source": [
    "\n",
    "def takeImg2(det,value):  \n",
    "    grp = short_uid('takeImg')\n",
    "    yield Msg(\"open_run\")\n",
    "    yield from stage(det,  group = grp, wait = True)\n",
    "    yield from kickoff(det, group = grp, wait = True)\n",
    "    yield from prepare(det, ti, group=grp, wait = True)\n",
    "    yield from complete(det, group = grp, wait = True)\n",
    "    #yield from wait(group=grp)\n",
    "    yield Msg(\"unstage\", det, group = grp, wait = True)\n",
    "    yield Msg(\"close_run\")"
   ]
  },
  {
   "cell_type": "code",
   "execution_count": 20,
   "id": "bf2f1d42-3220-4428-8da0-3f9fb649b67e",
   "metadata": {},
   "outputs": [
    {
     "data": {
      "text/plain": [
       "('e24c8316-cde4-4eb9-94ba-b5ac86ca6adb',)"
      ]
     },
     "execution_count": 20,
     "metadata": {},
     "output_type": "execute_result"
    }
   ],
   "source": [
    "RE(takeImg2(pimte, ti))"
   ]
  },
  {
   "cell_type": "code",
   "execution_count": null,
   "id": "57696614-93ca-407d-811a-e6da53511f29",
   "metadata": {},
   "outputs": [],
   "source": [
    "def tiggerImg3(dets, value):\n",
    "    yield Msg(\"set\", pimte.drv.acquire_time, value)\n",
    "    @bpp.stage_decorator([dets])\n",
    "    @bpp.run_decorator()\n",
    "    def innerTiggerImg():\n",
    "        return (yield from bps.trigger_and_read([dets]))\n",
    "    return (yield from innerTiggerImg())"
   ]
  },
  {
   "cell_type": "code",
   "execution_count": 21,
   "id": "15c6cce5-d31b-4c8a-a1fe-8859428a787c",
   "metadata": {},
   "outputs": [
    {
     "ename": "ModuleNotFoundError",
     "evalue": "No module named 'databroker'",
     "output_type": "error",
     "traceback": [
      "\u001b[0;31m---------------------------------------------------------------------------\u001b[0m",
      "\u001b[0;31mModuleNotFoundError\u001b[0m                       Traceback (most recent call last)",
      "Cell \u001b[0;32mIn[21], line 1\u001b[0m\n\u001b[0;32m----> 1\u001b[0m \u001b[38;5;28;01mfrom\u001b[39;00m \u001b[38;5;21;01mdatabroker\u001b[39;00m \u001b[38;5;28;01mimport\u001b[39;00m Broker\n\u001b[1;32m      2\u001b[0m db \u001b[38;5;241m=\u001b[39m Broker\u001b[38;5;241m.\u001b[39mnamed(\u001b[38;5;124m'\u001b[39m\u001b[38;5;124mtemp\u001b[39m\u001b[38;5;124m'\u001b[39m)\n\u001b[1;32m      4\u001b[0m \u001b[38;5;66;03m# Insert all metadata/data captured into db.\u001b[39;00m\n",
      "\u001b[0;31mModuleNotFoundError\u001b[0m: No module named 'databroker'"
     ]
    }
   ],
   "source": [
    "from databroker import Broker\n",
    "db = Broker.named('temp')\n",
    "\n",
    "# Insert all metadata/data captured into db.\n",
    "RE.subscribe(db.insert)"
   ]
  },
  {
   "cell_type": "code",
   "execution_count": 21,
   "id": "8fdcc6d8-4c8e-4c86-b7c8-3a78fd6d6987",
   "metadata": {},
   "outputs": [],
   "source": [
    "k = asyncio.create_task(pimte.writer.hdf.file_path.get_value())\n"
   ]
  },
  {
   "cell_type": "code",
   "execution_count": 22,
   "id": "d73137f8-7697-48bd-ae18-cf3a064709d8",
   "metadata": {},
   "outputs": [
    {
     "data": {
      "text/plain": [
       "<Task finished name='Task-208' coro=<SignalR.get_value() done, defined at /venv/lib/python3.11/site-packages/ophyd_async/core/signal.py:28> result='/dls/i10/dat...2/processing/'>"
      ]
     },
     "execution_count": 22,
     "metadata": {},
     "output_type": "execute_result"
    }
   ],
   "source": [
    "k"
   ]
  },
  {
   "cell_type": "code",
   "execution_count": 32,
   "id": "f88b451f-5b7c-4fd0-93f5-dd2ecb34fe0b",
   "metadata": {},
   "outputs": [
    {
     "data": {
      "text/plain": [
       "'i10-'"
      ]
     },
     "execution_count": 32,
     "metadata": {},
     "output_type": "execute_result"
    }
   ],
   "source": [
    "pimte._writer._directory_provider().prefix"
   ]
  },
  {
   "cell_type": "code",
   "execution_count": null,
   "id": "a54fdcf5-6f64-4cd9-9635-2adbc23fd9e3",
   "metadata": {},
   "outputs": [],
   "source": []
  },
  {
   "cell_type": "code",
   "execution_count": null,
   "id": "ed6db3d7-bf3a-4c66-9ea7-de18f1eeb076",
   "metadata": {},
   "outputs": [],
   "source": []
  }
 ],
 "metadata": {
  "kernelspec": {
   "display_name": "Python 3 (ipykernel)",
   "language": "python",
   "name": "python3"
  },
  "language_info": {
   "codemirror_mode": {
    "name": "ipython",
    "version": 3
   },
   "file_extension": ".py",
   "mimetype": "text/x-python",
   "name": "python",
   "nbconvert_exporter": "python",
   "pygments_lexer": "ipython3",
   "version": "3.11.9"
  }
 },
 "nbformat": 4,
 "nbformat_minor": 5
}
