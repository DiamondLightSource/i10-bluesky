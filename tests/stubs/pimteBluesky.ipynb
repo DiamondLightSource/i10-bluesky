{
 "cells": [
  {
   "cell_type": "code",
   "execution_count": 1,
   "id": "512ca450-4a59-4f77-bd2f-9edbfc689328",
   "metadata": {},
   "outputs": [],
   "source": [
    "from i10_bluesky.devices.rasor.detectorSlits import *\n",
    "from i10_bluesky.devices.scalerCard import ScaleCard\n",
    "from i10_bluesky.devices.pimteAD import *\n",
    "from i10_bluesky.plans.rasor.pimte_plans import AdPlan\n",
    "from ophyd_async.core import DeviceCollector \n",
    "from ophyd_async.core.detector import TriggerInfo, DetectorTrigger\n",
    "from bluesky.callbacks.best_effort import BestEffortCallback\n",
    "from bluesky import RunEngine\n",
    "from bluesky.plans import count, scan  \n",
    "import bluesky.plan_stubs\n",
    "from ophyd.sim import det1\n",
    "from bluesky import utils\n",
    "from bluesky.utils import Msg\n",
    "from bluesky import preprocessors as bpp\n",
    "from bluesky import plan_stubs as bps\n",
    "from dodal.beamlines.beamline_utils import set_directory_provider\n",
    "from ophyd_async.core._providers import StaticDirectoryProvider\n",
    "import asyncio\n",
    "import os\n",
    "loop = asyncio.get_event_loop()\n",
    "bec = BestEffortCallback()\n",
    "RE = RunEngine({})\n"
   ]
  },
  {
   "cell_type": "code",
   "execution_count": 3,
   "id": "346887c7-bb7d-4641-9db6-dc3ce1a1599a",
   "metadata": {},
   "outputs": [
    {
     "data": {
      "text/plain": [
       "<Task pending name='Task-179' coro=<Device.connect() running at /venv/lib/python3.11/site-packages/ophyd_async/core/device.py:61>>"
      ]
     },
     "execution_count": 3,
     "metadata": {},
     "output_type": "execute_result"
    }
   ],
   "source": [
    "df =  StaticDirectoryProvider(\"/dls/i10/data/2024/cm37251-2/processing/\", \"i10-\")\n",
    "\n",
    "with DeviceCollector():\n",
    "    ds = DetectorSlits('ME01D-MO-APTR',name = \"detSlits\")\n",
    "        \n",
    "pimte = HDFStatsPimte(\n",
    "\"BL10I-EA-PIMTE-01:\",\n",
    "df,\n",
    "\"pimte\",)\n",
    "loop.create_task(pimte.connect())"
   ]
  },
  {
   "cell_type": "code",
   "execution_count": 4,
   "id": "cbce183f-6bee-46f4-ae54-92c3c971dd60",
   "metadata": {},
   "outputs": [],
   "source": [
    "result = loop.create_task(pimte.drv.acquire_time.read())"
   ]
  },
  {
   "cell_type": "code",
   "execution_count": 5,
   "id": "b4f8219e-5379-4e6a-b7b8-7704dd84a901",
   "metadata": {},
   "outputs": [
    {
     "data": {
      "text/plain": [
       "<Task finished name='Task-324' coro=<SignalR.read() done, defined at /venv/lib/python3.11/site-packages/ophyd_async/core/signal.py:28> result={'pimte-drv-acquire_time': {'alarm_severity': 0, 'timestamp': 1712330106.615727, 'value': 0.004}}>"
      ]
     },
     "execution_count": 5,
     "metadata": {},
     "output_type": "execute_result"
    }
   ],
   "source": [
    "result"
   ]
  },
  {
   "cell_type": "code",
   "execution_count": 10,
   "id": "24cf193f-85b5-4db2-b079-84f701b50dbc",
   "metadata": {},
   "outputs": [
    {
     "name": "stdout",
     "output_type": "stream",
     "text": [
      "\n",
      "\n",
      "Transient Scan ID: 4     Time: 2024-04-05 15:26:19\n",
      "Persistent Unique Scan ID: 'f5f3e024-1b6a-4825-b981-dac149f8caec'\n",
      "New stream: 'primary'\n",
      "+-----------+------------+\n",
      "|   seq_num |       time |\n",
      "+-----------+------------+\n",
      "|         1 | 15:26:22.5 |\n",
      "+-----------+------------+\n",
      "generator count ['f5f3e024'] (scan num: 4)\n",
      "\n",
      "\n",
      "\n"
     ]
    },
    {
     "data": {
      "text/plain": [
       "('f5f3e024-1b6a-4825-b981-dac149f8caec',)"
      ]
     },
     "execution_count": 10,
     "metadata": {},
     "output_type": "execute_result"
    }
   ],
   "source": [
    "RE(count([pimte]),bec)"
   ]
  },
  {
   "cell_type": "code",
   "execution_count": 7,
   "id": "88288e6e-a8d8-44c7-ac73-b65506245767",
   "metadata": {},
   "outputs": [],
   "source": [
    "from functools import partial\n",
    "def takeImg(dets,num, delay=None, *, per_shot=None, md=None):\n",
    "    if num is None:\n",
    "        num_intervals = None\n",
    "    else:\n",
    "        num_intervals = num - 1\n",
    "    _md = {'detectors': [det.name for det in dets],\n",
    "           'num_points': num,\n",
    "           'num_intervals': num_intervals,\n",
    "           'plan_args': {\n",
    "               'detectors': list(map(repr, dets)),\n",
    "               'num': num,\n",
    "               'delay': delay\n",
    "               },\n",
    "           'plan_name': 'count',\n",
    "           'hints': {}\n",
    "           }\n",
    "    _md.update(md or {})\n",
    "    _md['hints'].setdefault('dimensions', [(('time',), 'primary')])\n",
    "\n",
    "    # per_shot might define a different stream, so do not predeclare primary\n",
    "    predeclare = (per_shot is None and os.environ.get('BLUESKY_PREDECLARE', False))\n",
    "    if per_shot is None:\n",
    "        per_shot = bps.one_shot\n",
    "\n",
    "    @bpp.stage_decorator(dets)\n",
    "    @bpp.run_decorator(md=_md)\n",
    "    def inner_count():\n",
    "            if predeclare:\n",
    "                pass\n",
    "                #yield from bps.declare_stream(*dets, name='primary')\n",
    "            return (yield from bps.repeat(partial(per_shot, dets),\n",
    "                                          num=num, delay=delay))\n",
    "    \n",
    "    return (yield from inner_count())\n",
    "ti = TriggerInfo(1, DetectorTrigger.internal,6,0.003)"
   ]
  },
  {
   "cell_type": "code",
   "execution_count": 14,
   "id": "3f489f72-f3db-4c84-8d99-78e7c8f1477b",
   "metadata": {},
   "outputs": [],
   "source": [
    "def takeImg2(det,value):\n",
    "    yield Msg(\"stage\", det)\n",
    "    #asyncio.create_task(pimte.controller.set_temperature(19))\n",
    "    groupId = \"wnsjdnfskj\"\n",
    "    yield Msg(\"trigger\", det, group = groupId)\n",
    "    yield Msg('wait', None, group=groupId)\n",
    "    yield Msg(\"unstage\", det)"
   ]
  },
  {
   "cell_type": "code",
   "execution_count": null,
   "id": "25e54e79-7c20-4448-95a7-353f363e3df8",
   "metadata": {},
   "outputs": [],
   "source": [
    "def setTemp(det,temp):\n",
    "    asyncio.create_task(pimte.controller.set_temperature(temp))\n",
    "    yield Msg(\"read\",pimte.drv.read_backtemperture)"
   ]
  },
  {
   "cell_type": "code",
   "execution_count": 20,
   "id": "57696614-93ca-407d-811a-e6da53511f29",
   "metadata": {},
   "outputs": [],
   "source": [
    "def tiggerImg3(dets, value):\n",
    "    yield Msg(\"set\", pimte.drv.acquire_time, value)\n",
    "    @bpp.stage_decorator([dets])\n",
    "    @bpp.run_decorator()\n",
    "    def innerTiggerImg():\n",
    "        return (yield from bps.trigger_and_read([dets]))\n",
    "    return (yield from innerTiggerImg())"
   ]
  },
  {
   "cell_type": "code",
   "execution_count": 22,
   "id": "4c52acc5-4867-4973-923f-2838780d969a",
   "metadata": {},
   "outputs": [
    {
     "data": {
      "text/plain": [
       "('f14e0f59-b65b-4b88-a195-be05916299f2',)"
      ]
     },
     "execution_count": 22,
     "metadata": {},
     "output_type": "execute_result"
    }
   ],
   "source": [
    "RE(tiggerImg3(pimte,0.004))"
   ]
  },
  {
   "cell_type": "code",
   "execution_count": 23,
   "id": "4e9b70c3-d6b4-4f78-8d3d-d8b46c30ccba",
   "metadata": {},
   "outputs": [
    {
     "name": "stderr",
     "output_type": "stream",
     "text": [
      "ERROR:bluesky:Run aborted\n",
      "Traceback (most recent call last):\n",
      "  File \"/usr/local/lib/python3.11/asyncio/tasks.py\", line 500, in wait_for\n",
      "    return fut.result()\n",
      "           ^^^^^^^^^^^^\n",
      "  File \"/usr/local/lib/python3.11/asyncio/queues.py\", line 158, in get\n",
      "    await getter\n",
      "asyncio.exceptions.CancelledError\n",
      "\n",
      "The above exception was the direct cause of the following exception:\n",
      "\n",
      "Traceback (most recent call last):\n",
      "  File \"/scratch/i10-bluesky/src/i10_bluesky/devices/pimteAD.py\", line 52, in trigger\n",
      "    async for index in self.writer.observe_indices_written(\n",
      "  File \"/venv/lib/python3.11/site-packages/ophyd_async/epics/areadetector/writers/hdf_writer.py\", line 98, in observe_indices_written\n",
      "    async for num_captured in observe_value(self.hdf.num_captured, timeout):\n",
      "  File \"/venv/lib/python3.11/site-packages/ophyd_async/core/signal.py\", line 283, in observe_value\n",
      "    yield await get_value()\n",
      "          ^^^^^^^^^^^^^^^^^\n",
      "  File \"/venv/lib/python3.11/site-packages/ophyd_async/core/signal.py\", line 278, in get_value\n",
      "    return await asyncio.wait_for(q.get(), timeout)\n",
      "           ^^^^^^^^^^^^^^^^^^^^^^^^^^^^^^^^^^^^^^^^\n",
      "  File \"/usr/local/lib/python3.11/asyncio/tasks.py\", line 502, in wait_for\n",
      "    raise exceptions.TimeoutError() from exc\n",
      "TimeoutError\n",
      "\n",
      "The above exception was the direct cause of the following exception:\n",
      "\n",
      "Traceback (most recent call last):\n",
      "  File \"/venv/lib/python3.11/site-packages/bluesky/run_engine.py\", line 1522, in _run\n",
      "    msg = self._plan_stack[-1].throw(stashed_exception or resp)\n",
      "          ^^^^^^^^^^^^^^^^^^^^^^^^^^^^^^^^^^^^^^^^^^^^^^^^^^^^^\n",
      "  File \"/tmp/ipykernel_99359/2477268651.py\", line 6, in takeImg2\n",
      "    yield Msg('wait', None, group=groupId)\n",
      "  File \"/venv/lib/python3.11/site-packages/bluesky/run_engine.py\", line 2284, in _status_object_completed\n",
      "    raise FailedStatus(ret) from exc\n",
      "bluesky.utils.FailedStatus: <AsyncStatus, task: <coroutine object HDFStatsPimte.trigger at 0x7fe8a4ad6110>, errored: TimeoutError()>\n"
     ]
    },
    {
     "ename": "FailedStatus",
     "evalue": "<AsyncStatus, task: <coroutine object HDFStatsPimte.trigger at 0x7fe8a4ad6110>, errored: TimeoutError()>",
     "output_type": "error",
     "traceback": [
      "\u001b[0;31m---------------------------------------------------------------------------\u001b[0m",
      "\u001b[0;31mCancelledError\u001b[0m                            Traceback (most recent call last)",
      "File \u001b[0;32m/usr/local/lib/python3.11/asyncio/tasks.py:500\u001b[0m, in \u001b[0;36mwait_for\u001b[0;34m(fut, timeout)\u001b[0m\n\u001b[1;32m    499\u001b[0m \u001b[38;5;28;01mtry\u001b[39;00m:\n\u001b[0;32m--> 500\u001b[0m     \u001b[38;5;28;01mreturn\u001b[39;00m fut\u001b[38;5;241m.\u001b[39mresult()\n\u001b[1;32m    501\u001b[0m \u001b[38;5;28;01mexcept\u001b[39;00m exceptions\u001b[38;5;241m.\u001b[39mCancelledError \u001b[38;5;28;01mas\u001b[39;00m exc:\n",
      "File \u001b[0;32m/usr/local/lib/python3.11/asyncio/queues.py:158\u001b[0m, in \u001b[0;36mQueue.get\u001b[0;34m(self)\u001b[0m\n\u001b[1;32m    157\u001b[0m \u001b[38;5;28;01mtry\u001b[39;00m:\n\u001b[0;32m--> 158\u001b[0m     \u001b[38;5;28;01mawait\u001b[39;00m getter\n\u001b[1;32m    159\u001b[0m \u001b[38;5;28;01mexcept\u001b[39;00m:\n",
      "\u001b[0;31mCancelledError\u001b[0m: ",
      "\nThe above exception was the direct cause of the following exception:\n",
      "\u001b[0;31mTimeoutError\u001b[0m                              Traceback (most recent call last)",
      "File \u001b[0;32m/scratch/i10-bluesky/src/i10_bluesky/devices/pimteAD.py:52\u001b[0m, in \u001b[0;36mHDFStatsPimte.trigger\u001b[0;34m(self)\u001b[0m\n\u001b[1;32m     50\u001b[0m end_observation \u001b[38;5;241m=\u001b[39m indices_written \u001b[38;5;241m+\u001b[39m \u001b[38;5;241m1\u001b[39m\n\u001b[0;32m---> 52\u001b[0m \u001b[38;5;28;01masync\u001b[39;00m \u001b[38;5;28;01mfor\u001b[39;00m index \u001b[38;5;129;01min\u001b[39;00m \u001b[38;5;28mself\u001b[39m\u001b[38;5;241m.\u001b[39mwriter\u001b[38;5;241m.\u001b[39mobserve_indices_written(\n\u001b[1;32m     53\u001b[0m     \u001b[38;5;28mself\u001b[39m\u001b[38;5;241m.\u001b[39m_frame_writing_timeout\n\u001b[1;32m     54\u001b[0m ):\n\u001b[1;32m     55\u001b[0m     \u001b[38;5;28;01mif\u001b[39;00m index \u001b[38;5;241m>\u001b[39m\u001b[38;5;241m=\u001b[39m end_observation:\n",
      "File \u001b[0;32m/venv/lib/python3.11/site-packages/ophyd_async/epics/areadetector/writers/hdf_writer.py:98\u001b[0m, in \u001b[0;36mHDFWriter.observe_indices_written\u001b[0;34m(self, timeout)\u001b[0m\n\u001b[1;32m     97\u001b[0m \u001b[38;5;250m\u001b[39m\u001b[38;5;124;03m\"\"\"Wait until a specific index is ready to be collected\"\"\"\u001b[39;00m\n\u001b[0;32m---> 98\u001b[0m \u001b[38;5;28;01masync\u001b[39;00m \u001b[38;5;28;01mfor\u001b[39;00m num_captured \u001b[38;5;129;01min\u001b[39;00m observe_value(\u001b[38;5;28mself\u001b[39m\u001b[38;5;241m.\u001b[39mhdf\u001b[38;5;241m.\u001b[39mnum_captured, timeout):\n\u001b[1;32m     99\u001b[0m     \u001b[38;5;28;01myield\u001b[39;00m num_captured \u001b[38;5;241m/\u001b[39m\u001b[38;5;241m/\u001b[39m \u001b[38;5;28mself\u001b[39m\u001b[38;5;241m.\u001b[39m_multiplier\n",
      "File \u001b[0;32m/venv/lib/python3.11/site-packages/ophyd_async/core/signal.py:283\u001b[0m, in \u001b[0;36mobserve_value\u001b[0;34m(signal, timeout)\u001b[0m\n\u001b[1;32m    282\u001b[0m     \u001b[38;5;28;01mwhile\u001b[39;00m \u001b[38;5;28;01mTrue\u001b[39;00m:\n\u001b[0;32m--> 283\u001b[0m         \u001b[38;5;28;01myield\u001b[39;00m \u001b[38;5;28;01mawait\u001b[39;00m get_value()\n\u001b[1;32m    284\u001b[0m \u001b[38;5;28;01mfinally\u001b[39;00m:\n",
      "File \u001b[0;32m/venv/lib/python3.11/site-packages/ophyd_async/core/signal.py:278\u001b[0m, in \u001b[0;36mobserve_value.<locals>.get_value\u001b[0;34m()\u001b[0m\n\u001b[1;32m    277\u001b[0m \u001b[38;5;28;01masync\u001b[39;00m \u001b[38;5;28;01mdef\u001b[39;00m \u001b[38;5;21mget_value\u001b[39m():\n\u001b[0;32m--> 278\u001b[0m     \u001b[38;5;28;01mreturn\u001b[39;00m \u001b[38;5;28;01mawait\u001b[39;00m asyncio\u001b[38;5;241m.\u001b[39mwait_for(q\u001b[38;5;241m.\u001b[39mget(), timeout)\n",
      "File \u001b[0;32m/usr/local/lib/python3.11/asyncio/tasks.py:502\u001b[0m, in \u001b[0;36mwait_for\u001b[0;34m(fut, timeout)\u001b[0m\n\u001b[1;32m    501\u001b[0m         \u001b[38;5;28;01mexcept\u001b[39;00m exceptions\u001b[38;5;241m.\u001b[39mCancelledError \u001b[38;5;28;01mas\u001b[39;00m exc:\n\u001b[0;32m--> 502\u001b[0m             \u001b[38;5;28;01mraise\u001b[39;00m exceptions\u001b[38;5;241m.\u001b[39mTimeoutError() \u001b[38;5;28;01mfrom\u001b[39;00m \u001b[38;5;21;01mexc\u001b[39;00m\n\u001b[1;32m    503\u001b[0m \u001b[38;5;28;01mfinally\u001b[39;00m:\n",
      "\u001b[0;31mTimeoutError\u001b[0m: ",
      "\nThe above exception was the direct cause of the following exception:\n",
      "\u001b[0;31mFailedStatus\u001b[0m                              Traceback (most recent call last)",
      "Cell \u001b[0;32mIn[23], line 1\u001b[0m\n\u001b[0;32m----> 1\u001b[0m \u001b[43mRE\u001b[49m\u001b[43m(\u001b[49m\u001b[43mtakeImg2\u001b[49m\u001b[43m(\u001b[49m\u001b[43mpimte\u001b[49m\u001b[43m,\u001b[49m\u001b[43mti\u001b[49m\u001b[43m)\u001b[49m\u001b[43m)\u001b[49m\n",
      "File \u001b[0;32m/venv/lib/python3.11/site-packages/bluesky/run_engine.py:918\u001b[0m, in \u001b[0;36mRunEngine.__call__\u001b[0;34m(self, *args, **metadata_kw)\u001b[0m\n\u001b[1;32m    914\u001b[0m         \u001b[38;5;28mself\u001b[39m\u001b[38;5;241m.\u001b[39m_blocking_event\u001b[38;5;241m.\u001b[39mset()\n\u001b[1;32m    916\u001b[0m     \u001b[38;5;28mself\u001b[39m\u001b[38;5;241m.\u001b[39m_task_fut\u001b[38;5;241m.\u001b[39madd_done_callback(set_blocking_event)\n\u001b[0;32m--> 918\u001b[0m plan_return \u001b[38;5;241m=\u001b[39m \u001b[38;5;28;43mself\u001b[39;49m\u001b[38;5;241;43m.\u001b[39;49m\u001b[43m_resume_task\u001b[49m\u001b[43m(\u001b[49m\u001b[43minit_func\u001b[49m\u001b[38;5;241;43m=\u001b[39;49m\u001b[43m_build_task\u001b[49m\u001b[43m)\u001b[49m\n\u001b[1;32m    920\u001b[0m \u001b[38;5;28;01mif\u001b[39;00m \u001b[38;5;28mself\u001b[39m\u001b[38;5;241m.\u001b[39m_interrupted:\n\u001b[1;32m    921\u001b[0m     \u001b[38;5;28;01mraise\u001b[39;00m RunEngineInterrupted(\u001b[38;5;28mself\u001b[39m\u001b[38;5;241m.\u001b[39mpause_msg) \u001b[38;5;28;01mfrom\u001b[39;00m \u001b[38;5;28;01mNone\u001b[39;00m\n",
      "File \u001b[0;32m/venv/lib/python3.11/site-packages/bluesky/run_engine.py:1057\u001b[0m, in \u001b[0;36mRunEngine._resume_task\u001b[0;34m(self, init_func)\u001b[0m\n\u001b[1;32m   1053\u001b[0m \u001b[38;5;66;03m# if the main task exception is not None, re-raise\u001b[39;00m\n\u001b[1;32m   1054\u001b[0m \u001b[38;5;66;03m# it (unless it is a canceled error)\u001b[39;00m\n\u001b[1;32m   1055\u001b[0m \u001b[38;5;28;01mif\u001b[39;00m (exc \u001b[38;5;129;01mis\u001b[39;00m \u001b[38;5;129;01mnot\u001b[39;00m \u001b[38;5;28;01mNone\u001b[39;00m\n\u001b[1;32m   1056\u001b[0m         \u001b[38;5;129;01mand\u001b[39;00m \u001b[38;5;129;01mnot\u001b[39;00m \u001b[38;5;28misinstance\u001b[39m(exc, _RunEnginePanic)):\n\u001b[0;32m-> 1057\u001b[0m     \u001b[38;5;28;01mraise\u001b[39;00m exc\n\u001b[1;32m   1058\u001b[0m \u001b[38;5;66;03m# Only try to get a result if there wasn't an error,\u001b[39;00m\n\u001b[1;32m   1059\u001b[0m \u001b[38;5;66;03m# (other than a cancelled error)\u001b[39;00m\n\u001b[1;32m   1060\u001b[0m \u001b[38;5;28;01mif\u001b[39;00m exc \u001b[38;5;129;01mis\u001b[39;00m \u001b[38;5;28;01mNone\u001b[39;00m:\n",
      "File \u001b[0;32m/venv/lib/python3.11/site-packages/bluesky/run_engine.py:1687\u001b[0m, in \u001b[0;36mRunEngine._run\u001b[0;34m(self)\u001b[0m\n\u001b[1;32m   1685\u001b[0m     exit_reason \u001b[38;5;241m=\u001b[39m \u001b[38;5;28mstr\u001b[39m(err)\n\u001b[1;32m   1686\u001b[0m     \u001b[38;5;28mself\u001b[39m\u001b[38;5;241m.\u001b[39mlog\u001b[38;5;241m.\u001b[39mexception(\u001b[38;5;124m\"\u001b[39m\u001b[38;5;124mRun aborted\u001b[39m\u001b[38;5;124m\"\u001b[39m)\n\u001b[0;32m-> 1687\u001b[0m     \u001b[38;5;28;01mraise\u001b[39;00m err\n\u001b[1;32m   1688\u001b[0m \u001b[38;5;28;01mfinally\u001b[39;00m:\n\u001b[1;32m   1689\u001b[0m     \u001b[38;5;28;01mif\u001b[39;00m \u001b[38;5;129;01mnot\u001b[39;00m exit_reason:\n",
      "File \u001b[0;32m/venv/lib/python3.11/site-packages/bluesky/run_engine.py:1522\u001b[0m, in \u001b[0;36mRunEngine._run\u001b[0;34m(self)\u001b[0m\n\u001b[1;32m   1519\u001b[0m \u001b[38;5;28;01mif\u001b[39;00m (stashed_exception \u001b[38;5;129;01mis\u001b[39;00m \u001b[38;5;129;01mnot\u001b[39;00m \u001b[38;5;28;01mNone\u001b[39;00m \u001b[38;5;129;01mor\u001b[39;00m \u001b[38;5;28misinstance\u001b[39m(resp, \u001b[38;5;167;01mException\u001b[39;00m)):\n\u001b[1;32m   1520\u001b[0m     \u001b[38;5;66;03m# throw the exception at the current plan\u001b[39;00m\n\u001b[1;32m   1521\u001b[0m     \u001b[38;5;28;01mtry\u001b[39;00m:\n\u001b[0;32m-> 1522\u001b[0m         msg \u001b[38;5;241m=\u001b[39m \u001b[38;5;28mself\u001b[39m\u001b[38;5;241m.\u001b[39m_plan_stack[\u001b[38;5;241m-\u001b[39m\u001b[38;5;241m1\u001b[39m]\u001b[38;5;241m.\u001b[39mthrow(stashed_exception \u001b[38;5;129;01mor\u001b[39;00m resp)\n\u001b[1;32m   1523\u001b[0m     \u001b[38;5;28;01mexcept\u001b[39;00m \u001b[38;5;167;01mException\u001b[39;00m \u001b[38;5;28;01mas\u001b[39;00m e:\n\u001b[1;32m   1524\u001b[0m         \u001b[38;5;66;03m# The current plan did not handle it,\u001b[39;00m\n\u001b[1;32m   1525\u001b[0m         \u001b[38;5;66;03m# maybe the next plan (if any) would like\u001b[39;00m\n\u001b[1;32m   1526\u001b[0m         \u001b[38;5;66;03m# to try\u001b[39;00m\n\u001b[1;32m   1527\u001b[0m         \u001b[38;5;28mself\u001b[39m\u001b[38;5;241m.\u001b[39m_plan_stack\u001b[38;5;241m.\u001b[39mpop()\n",
      "Cell \u001b[0;32mIn[14], line 6\u001b[0m, in \u001b[0;36mtakeImg2\u001b[0;34m(det, value)\u001b[0m\n\u001b[1;32m      4\u001b[0m groupId \u001b[38;5;241m=\u001b[39m \u001b[38;5;124m\"\u001b[39m\u001b[38;5;124mwnsjdnfskj\u001b[39m\u001b[38;5;124m\"\u001b[39m\n\u001b[1;32m      5\u001b[0m \u001b[38;5;28;01myield\u001b[39;00m Msg(\u001b[38;5;124m\"\u001b[39m\u001b[38;5;124mtrigger\u001b[39m\u001b[38;5;124m\"\u001b[39m, det, group \u001b[38;5;241m=\u001b[39m groupId)\n\u001b[0;32m----> 6\u001b[0m \u001b[38;5;28;01myield\u001b[39;00m Msg(\u001b[38;5;124m'\u001b[39m\u001b[38;5;124mwait\u001b[39m\u001b[38;5;124m'\u001b[39m, \u001b[38;5;28;01mNone\u001b[39;00m, group\u001b[38;5;241m=\u001b[39mgroupId)\n\u001b[1;32m      7\u001b[0m \u001b[38;5;28;01myield\u001b[39;00m Msg(\u001b[38;5;124m\"\u001b[39m\u001b[38;5;124munstage\u001b[39m\u001b[38;5;124m\"\u001b[39m, det)\n",
      "File \u001b[0;32m/venv/lib/python3.11/site-packages/bluesky/run_engine.py:2284\u001b[0m, in \u001b[0;36mRunEngine._status_object_completed\u001b[0;34m(self, ret, p_event, pardon_failures)\u001b[0m\n\u001b[1;32m   2282\u001b[0m \u001b[38;5;28;01mtry\u001b[39;00m:\n\u001b[1;32m   2283\u001b[0m     exc \u001b[38;5;241m=\u001b[39m ret\u001b[38;5;241m.\u001b[39mexception(timeout\u001b[38;5;241m=\u001b[39m\u001b[38;5;241m0\u001b[39m)\n\u001b[0;32m-> 2284\u001b[0m     \u001b[38;5;28;01mraise\u001b[39;00m FailedStatus(ret) \u001b[38;5;28;01mfrom\u001b[39;00m \u001b[38;5;21;01mexc\u001b[39;00m\n\u001b[1;32m   2285\u001b[0m \u001b[38;5;28;01mexcept\u001b[39;00m \u001b[38;5;167;01mException\u001b[39;00m \u001b[38;5;28;01mas\u001b[39;00m e:\n\u001b[1;32m   2286\u001b[0m     \u001b[38;5;28mself\u001b[39m\u001b[38;5;241m.\u001b[39m_exception \u001b[38;5;241m=\u001b[39m e\n",
      "\u001b[0;31mFailedStatus\u001b[0m: <AsyncStatus, task: <coroutine object HDFStatsPimte.trigger at 0x7fe8a4ad6110>, errored: TimeoutError()>"
     ]
    }
   ],
   "source": [
    "RE(takeImg2(pimte,ti))"
   ]
  },
  {
   "cell_type": "code",
   "execution_count": 10,
   "id": "d9543db2-9e93-4876-ab6e-590f434ecf1d",
   "metadata": {},
   "outputs": [
    {
     "data": {
      "text/plain": [
       "('6b6d4507-4f45-4021-b2ac-aa8311a4cb90',)"
      ]
     },
     "execution_count": 10,
     "metadata": {},
     "output_type": "execute_result"
    }
   ],
   "source": [
    "RE(takeImg([pimte],1))"
   ]
  },
  {
   "cell_type": "code",
   "execution_count": null,
   "id": "acc83951-4685-4a50-adbf-c4495886c9c6",
   "metadata": {},
   "outputs": [],
   "source": [
    "RE(setTemp(pimte,19))"
   ]
  },
  {
   "cell_type": "code",
   "execution_count": 6,
   "id": "a3c8737b-74b4-4d9b-ac30-c76e782df557",
   "metadata": {},
   "outputs": [],
   "source": [
    "pimtePlan = AdPlan(pimte)\n"
   ]
  },
  {
   "cell_type": "code",
   "execution_count": 11,
   "id": "284e61b8-116a-496f-841a-a67841d21569",
   "metadata": {},
   "outputs": [
    {
     "name": "stdout",
     "output_type": "stream",
     "text": [
      "\n",
      "\n",
      "Transient Scan ID: 5     Time: 2024-04-05 15:26:53\n",
      "Persistent Unique Scan ID: '52646b33-9072-4a2f-9ca3-2fd0dcf71edf'\n",
      "New stream: 'primary'\n",
      "+-----------+------------+\n",
      "|   seq_num |       time |\n",
      "+-----------+------------+\n",
      "|         1 | 15:26:56.6 |\n",
      "+-----------+------------+\n",
      "generator tiggerImg ['52646b33'] (scan num: 5)\n",
      "\n",
      "\n",
      "\n"
     ]
    },
    {
     "data": {
      "text/plain": [
       "('52646b33-9072-4a2f-9ca3-2fd0dcf71edf',)"
      ]
     },
     "execution_count": 11,
     "metadata": {},
     "output_type": "execute_result"
    },
    {
     "data": {
      "image/png": "[encoded data removed]",
      "text/plain": [
       "<Figure size 500x500 with 1 Axes>"
      ]
     },
     "metadata": {},
     "output_type": "display_data"
    }
   ],
   "source": [
    "RE(AdPlan.tiggerImg(pimte,0.002),bec)"
   ]
  },
  {
   "cell_type": "code",
   "execution_count": null,
   "id": "c6534c5a-2837-42b8-ab16-9853b315458f",
   "metadata": {},
   "outputs": [],
   "source": [
    "RE(AdPlan.tiggerImg(pimtePlan.det,pimtePlan._getTriggerInfo()))"
   ]
  },
  {
   "cell_type": "code",
   "execution_count": null,
   "id": "a2701be5-0034-4a17-b595-fa87a800de25",
   "metadata": {},
   "outputs": [],
   "source": [
    "RE(pimtePlan.takeImg())"
   ]
  },
  {
   "cell_type": "code",
   "execution_count": null,
   "id": "0a19c569-ed1e-4203-8b8c-2e0ff1f74549",
   "metadata": {},
   "outputs": [],
   "source": [
    "RE(pimtePlan.takeImg(exposure = 0.003, n_img = 3))"
   ]
  },
  {
   "cell_type": "code",
   "execution_count": null,
   "id": "765fd86d-bbf8-4938-8ddc-5be063e43d94",
   "metadata": {},
   "outputs": [],
   "source": [
    "asyncio.create_task(pimte.writer.open())"
   ]
  },
  {
   "cell_type": "code",
   "execution_count": null,
   "id": "fcaacc80-c145-403f-8fc2-2cd9fbff8555",
   "metadata": {},
   "outputs": [],
   "source": [
    "asyncio.wait_for(pimte.trigger(), timeout =10)"
   ]
  },
  {
   "cell_type": "code",
   "execution_count": null,
   "id": "a535ca6d-7a91-4355-af6f-27d0099e3471",
   "metadata": {},
   "outputs": [],
   "source": []
  },
  {
   "cell_type": "code",
   "execution_count": null,
   "id": "a3886c6e-57f4-4dde-8f1d-589b68facde3",
   "metadata": {},
   "outputs": [],
   "source": [
    "asyncio.gather(pimte.writer.close(), pimte.controller.disarm())"
   ]
  },
  {
   "cell_type": "code",
   "execution_count": null,
   "id": "56f4bd9d-bd5f-40d1-944c-cd3435624bbf",
   "metadata": {},
   "outputs": [],
   "source": [
    "result = asyncio.create_task(test())"
   ]
  },
  {
   "cell_type": "code",
   "execution_count": null,
   "id": "8719969b-67f0-4720-ad13-c4fac660622c",
   "metadata": {},
   "outputs": [],
   "source": [
    "result"
   ]
  },
  {
   "cell_type": "code",
   "execution_count": null,
   "id": "28cce665-a913-4be4-9e9a-f9f29252ce4b",
   "metadata": {},
   "outputs": [],
   "source": [
    "pimte.writer.close"
   ]
  },
  {
   "cell_type": "code",
   "execution_count": null,
   "id": "061184d3-5806-4f5f-9a17-8c2d18ac0485",
   "metadata": {},
   "outputs": [],
   "source": []
  }
 ],
 "metadata": {
  "kernelspec": {
   "display_name": "Python 3 (ipykernel)",
   "language": "python",
   "name": "python3"
  },
  "language_info": {
   "codemirror_mode": {
    "name": "ipython",
    "version": 3
   },
   "file_extension": ".py",
   "mimetype": "text/x-python",
   "name": "python",
   "nbconvert_exporter": "python",
   "pygments_lexer": "ipython3",
   "version": "3.11.8"
  }
 },
 "nbformat": 4,
 "nbformat_minor": 5
}
