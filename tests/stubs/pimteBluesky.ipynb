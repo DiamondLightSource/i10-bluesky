{
 "cells": [
  {
   "cell_type": "code",
   "execution_count": 1,
   "id": "512ca450-4a59-4f77-bd2f-9edbfc689328",
   "metadata": {},
   "outputs": [],
   "source": [
    "from i10_bluesky.devices.rasor.detectorSlits import *\n",
    "from i10_bluesky.devices.scalerCard import ScaleCard\n",
    "from i10_bluesky.devices.pimteAD import *\n",
    "from i10_bluesky.plans.rasor.pimte_plans import AdPlan\n",
    "from ophyd_async.core import DeviceCollector \n",
    "from ophyd_async.core.detector import TriggerInfo, DetectorTrigger\n",
    "from bluesky.callbacks.best_effort import BestEffortCallback\n",
    "from bluesky import RunEngine\n",
    "from bluesky.plans import count, scan \n",
    "import bluesky.plan_stubs\n",
    "from ophyd.sim import det1\n",
    "from bluesky import utils\n",
    "from bluesky.utils import Msg\n",
    "from dodal.beamlines.beamline_utils import set_directory_provider\n",
    "from ophyd_async.core._providers import StaticDirectoryProvider\n",
    "import asyncio\n",
    "loop = asyncio.get_event_loop()\n",
    "bec = BestEffortCallback()\n",
    "RE = RunEngine({})\n"
   ]
  },
  {
   "cell_type": "code",
   "execution_count": 3,
   "id": "346887c7-bb7d-4641-9db6-dc3ce1a1599a",
   "metadata": {},
   "outputs": [
    {
     "data": {
      "text/plain": [
       "<Task pending name='Task-152' coro=<Device.connect() running at /venv/lib/python3.11/site-packages/ophyd_async/core/device.py:61>>"
      ]
     },
     "execution_count": 3,
     "metadata": {},
     "output_type": "execute_result"
    }
   ],
   "source": [
    "df =  StaticDirectoryProvider(\"/dls/i10/data/2024/cm37251-2/processing/\", \"i10-\")\n",
    "\n",
    "with DeviceCollector():\n",
    "       pimte = HDFStatsPimte(\n",
    "        \"BL10I-EA-PIMTE-01:\",\n",
    "        df,\n",
    "        \"pimte\",\n",
    "    )\n",
    "\n",
    "loop.create_task(pimte.connect())"
   ]
  },
  {
   "cell_type": "code",
   "execution_count": 4,
   "id": "cbce183f-6bee-46f4-ae54-92c3c971dd60",
   "metadata": {},
   "outputs": [],
   "source": [
    "result = loop.create_task(pimte.drv.acquire_time.read())"
   ]
  },
  {
   "cell_type": "code",
   "execution_count": 5,
   "id": "b4f8219e-5379-4e6a-b7b8-7704dd84a901",
   "metadata": {},
   "outputs": [
    {
     "data": {
      "text/plain": [
       "<Task finished name='Task-297' coro=<SignalR.read() done, defined at /venv/lib/python3.11/site-packages/ophyd_async/core/signal.py:28> result={'pimte-drv-acquire_time': {'alarm_severity': 0, 'timestamp': 1712155927.093704, 'value': 0.003}}>"
      ]
     },
     "execution_count": 5,
     "metadata": {},
     "output_type": "execute_result"
    }
   ],
   "source": [
    "result"
   ]
  },
  {
   "cell_type": "code",
   "execution_count": 6,
   "id": "24cf193f-85b5-4db2-b079-84f701b50dbc",
   "metadata": {},
   "outputs": [
    {
     "name": "stdout",
     "output_type": "stream",
     "text": [
      "\n",
      "\n",
      "Transient Scan ID: 1     Time: 2024-04-03 15:35:49\n",
      "Persistent Unique Scan ID: '6e6dd8fa-ed02-4971-b350-fabb7a5efc7b'\n",
      "New stream: 'primary'\n"
     ]
    },
    {
     "name": "stderr",
     "output_type": "stream",
     "text": [
      "/venv/lib/python3.11/site-packages/bluesky/callbacks/core.py:332: UserWarning: The key pimte will be skipped because LiveTable does not know how to display the dtype array\n",
      "  warnings.warn(\"The key {} will be skipped because LiveTable \"\n"
     ]
    },
    {
     "name": "stdout",
     "output_type": "stream",
     "text": [
      "+-----------+------------+\n",
      "|   seq_num |       time |\n",
      "+-----------+------------+\n",
      "|         1 | 15:35:55.8 |\n",
      "+-----------+------------+\n",
      "generator count ['6e6dd8fa'] (scan num: 1)\n",
      "\n",
      "\n",
      "\n"
     ]
    },
    {
     "data": {
      "text/plain": [
       "('6e6dd8fa-ed02-4971-b350-fabb7a5efc7b',)"
      ]
     },
     "execution_count": 6,
     "metadata": {},
     "output_type": "execute_result"
    }
   ],
   "source": [
    "RE(count([pimte]),bec)"
   ]
  },
  {
   "cell_type": "code",
   "execution_count": 7,
   "id": "88288e6e-a8d8-44c7-ac73-b65506245767",
   "metadata": {},
   "outputs": [],
   "source": [
    "def takeImg(det,value):\n",
    "    yield Msg(\"stage\", det)\n",
    "    yield Msg('prepare', det, value)\n",
    "    yield Msg(\"unstage\", det)\n",
    "ti = TriggerInfo(1, DetectorTrigger.internal,6,0.003)"
   ]
  },
  {
   "cell_type": "code",
   "execution_count": 8,
   "id": "3f489f72-f3db-4c84-8d99-78e7c8f1477b",
   "metadata": {},
   "outputs": [],
   "source": [
    "def takeImg2(det,value):\n",
    "    yield Msg(\"stage\", det)\n",
    "    yield Msg(\"trigger\", det)\n",
    "    yield Msg(\"unstage\", det)"
   ]
  },
  {
   "cell_type": "code",
   "execution_count": 44,
   "id": "4c52acc5-4867-4973-923f-2838780d969a",
   "metadata": {},
   "outputs": [],
   "source": [
    "RE(takeImg2(pimte,ti))"
   ]
  },
  {
   "cell_type": "code",
   "execution_count": 11,
   "id": "55020542-92a8-4e5d-af50-84272bdafdc5",
   "metadata": {},
   "outputs": [
    {
     "data": {
      "text/plain": [
       "()"
      ]
     },
     "execution_count": 11,
     "metadata": {},
     "output_type": "execute_result"
    }
   ],
   "source": [
    "RE(takeImg(pimte,ti))"
   ]
  },
  {
   "cell_type": "code",
   "execution_count": 10,
   "id": "a3c8737b-74b4-4d9b-ac30-c76e782df557",
   "metadata": {},
   "outputs": [],
   "source": [
    "pimtePlan = AdPlan(pimte)\n"
   ]
  },
  {
   "cell_type": "code",
   "execution_count": 31,
   "id": "284e61b8-116a-496f-841a-a67841d21569",
   "metadata": {},
   "outputs": [
    {
     "data": {
      "text/plain": [
       "()"
      ]
     },
     "execution_count": 31,
     "metadata": {},
     "output_type": "execute_result"
    }
   ],
   "source": [
    "RE(AdPlan.tiggerImg(pimte,ti))"
   ]
  },
  {
   "cell_type": "code",
   "execution_count": 10,
   "id": "c6534c5a-2837-42b8-ab16-9853b315458f",
   "metadata": {},
   "outputs": [
    {
     "data": {
      "text/plain": [
       "()"
      ]
     },
     "execution_count": 10,
     "metadata": {},
     "output_type": "execute_result"
    }
   ],
   "source": [
    "RE(AdPlan.tiggerImg(pimtePlan.det,pimtePlan._getTriggerInfo()))"
   ]
  },
  {
   "cell_type": "code",
   "execution_count": 15,
   "id": "a2701be5-0034-4a17-b595-fa87a800de25",
   "metadata": {},
   "outputs": [
    {
     "ename": "NameError",
     "evalue": "name 'md' is not defined",
     "output_type": "error",
     "traceback": [
      "\u001b[0;31m---------------------------------------------------------------------------\u001b[0m",
      "\u001b[0;31mNameError\u001b[0m                                 Traceback (most recent call last)",
      "Cell \u001b[0;32mIn[15], line 1\u001b[0m\n\u001b[0;32m----> 1\u001b[0m RE(\u001b[43mpimtePlan\u001b[49m\u001b[38;5;241;43m.\u001b[39;49m\u001b[43mtakeImg\u001b[49m\u001b[43m(\u001b[49m\u001b[43m)\u001b[49m)\n",
      "File \u001b[0;32m/scratch/i10-bluesky/src/i10_bluesky/plans/rasor/pimte_plans.py:26\u001b[0m, in \u001b[0;36mAdPlan.takeImg\u001b[0;34m(self, exposure, n_img, det_trig)\u001b[0m\n\u001b[1;32m     14\u001b[0m \u001b[38;5;28mself\u001b[39m\u001b[38;5;241m.\u001b[39m_updateDetInfo(exposure, n_img, det_trig)\n\u001b[1;32m     15\u001b[0m _md \u001b[38;5;241m=\u001b[39m {\u001b[38;5;124m'\u001b[39m\u001b[38;5;124mdetectors\u001b[39m\u001b[38;5;124m'\u001b[39m: [\u001b[38;5;28mself\u001b[39m\u001b[38;5;241m.\u001b[39mdet\u001b[38;5;241m.\u001b[39mname],\n\u001b[1;32m     16\u001b[0m         \u001b[38;5;124m'\u001b[39m\u001b[38;5;124mnum_points\u001b[39m\u001b[38;5;124m'\u001b[39m: n_img,\n\u001b[1;32m     17\u001b[0m         \u001b[38;5;124m'\u001b[39m\u001b[38;5;124mnum_intervals\u001b[39m\u001b[38;5;124m'\u001b[39m: exposure,\n\u001b[0;32m   (...)\u001b[0m\n\u001b[1;32m     24\u001b[0m    \u001b[38;5;124m'\u001b[39m\u001b[38;5;124mhints\u001b[39m\u001b[38;5;124m'\u001b[39m: {}\n\u001b[1;32m     25\u001b[0m    }\n\u001b[0;32m---> 26\u001b[0m _md\u001b[38;5;241m.\u001b[39mupdate(\u001b[43mmd\u001b[49m \u001b[38;5;129;01mor\u001b[39;00m {})\n\u001b[1;32m     27\u001b[0m _md[\u001b[38;5;124m'\u001b[39m\u001b[38;5;124mhints\u001b[39m\u001b[38;5;124m'\u001b[39m]\u001b[38;5;241m.\u001b[39msetdefault(\u001b[38;5;124m'\u001b[39m\u001b[38;5;124mdimensions\u001b[39m\u001b[38;5;124m'\u001b[39m, [((\u001b[38;5;124m'\u001b[39m\u001b[38;5;124mtime\u001b[39m\u001b[38;5;124m'\u001b[39m,), \u001b[38;5;124m'\u001b[39m\u001b[38;5;124mprimary\u001b[39m\u001b[38;5;124m'\u001b[39m)])\n\u001b[1;32m     28\u001b[0m \u001b[38;5;129m@bpp\u001b[39m\u001b[38;5;241m.\u001b[39mstage_decorator([\u001b[38;5;28mself\u001b[39m\u001b[38;5;241m.\u001b[39mdet])\n\u001b[1;32m     29\u001b[0m \u001b[38;5;129m@bpp\u001b[39m\u001b[38;5;241m.\u001b[39mrun_decorator(md\u001b[38;5;241m=\u001b[39m_md)\n\u001b[1;32m     30\u001b[0m \u001b[38;5;28;01mdef\u001b[39;00m \u001b[38;5;21minner_takeImg\u001b[39m():\n",
      "\u001b[0;31mNameError\u001b[0m: name 'md' is not defined"
     ]
    }
   ],
   "source": [
    "RE(pimtePlan.takeImg())"
   ]
  },
  {
   "cell_type": "code",
   "execution_count": 11,
   "id": "0a19c569-ed1e-4203-8b8c-2e0ff1f74549",
   "metadata": {},
   "outputs": [
    {
     "data": {
      "text/plain": [
       "()"
      ]
     },
     "execution_count": 11,
     "metadata": {},
     "output_type": "execute_result"
    }
   ],
   "source": [
    "RE(pimtePlan.takeImg(exposure = 0.003, n_img = 3))"
   ]
  },
  {
   "cell_type": "code",
   "execution_count": 13,
   "id": "765fd86d-bbf8-4938-8ddc-5be063e43d94",
   "metadata": {},
   "outputs": [
    {
     "data": {
      "text/plain": [
       "<Task pending name='Task-556' coro=<HDFWriter.open() running at /venv/lib/python3.11/site-packages/ophyd_async/epics/areadetector/writers/hdf_writer.py:43>>"
      ]
     },
     "execution_count": 13,
     "metadata": {},
     "output_type": "execute_result"
    }
   ],
   "source": [
    "asyncio.create_task(pimte.writer.open())"
   ]
  },
  {
   "cell_type": "code",
   "execution_count": 22,
   "id": "fcaacc80-c145-403f-8fc2-2cd9fbff8555",
   "metadata": {},
   "outputs": [
    {
     "data": {
      "text/plain": [
       "<coroutine object wait_for at 0x7f6359b1b890>"
      ]
     },
     "execution_count": 22,
     "metadata": {},
     "output_type": "execute_result"
    }
   ],
   "source": [
    "asyncio.wait_for(pimte.trigger(), timeout =10)"
   ]
  },
  {
   "cell_type": "code",
   "execution_count": 42,
   "id": "a535ca6d-7a91-4355-af6f-27d0099e3471",
   "metadata": {},
   "outputs": [],
   "source": []
  },
  {
   "cell_type": "code",
   "execution_count": 33,
   "id": "a3886c6e-57f4-4dde-8f1d-589b68facde3",
   "metadata": {},
   "outputs": [
    {
     "data": {
      "text/plain": [
       "<_GatheringFuture pending>"
      ]
     },
     "execution_count": 33,
     "metadata": {},
     "output_type": "execute_result"
    }
   ],
   "source": [
    "asyncio.gather(pimte.writer.close(), pimte.controller.disarm())"
   ]
  },
  {
   "cell_type": "code",
   "execution_count": 43,
   "id": "56f4bd9d-bd5f-40d1-944c-cd3435624bbf",
   "metadata": {},
   "outputs": [],
   "source": [
    "result = asyncio.create_task(test())"
   ]
  },
  {
   "cell_type": "code",
   "execution_count": 41,
   "id": "8719969b-67f0-4720-ad13-c4fac660622c",
   "metadata": {},
   "outputs": [
    {
     "data": {
      "text/plain": [
       "<Task finished name='Task-929' coro=<test() done, defined at /tmp/ipykernel_138034/2493302126.py:1> exception=RuntimeError('asyncio.run() cannot be called from a running event loop')>"
      ]
     },
     "execution_count": 41,
     "metadata": {},
     "output_type": "execute_result"
    }
   ],
   "source": [
    "result"
   ]
  },
  {
   "cell_type": "code",
   "execution_count": 16,
   "id": "28cce665-a913-4be4-9e9a-f9f29252ce4b",
   "metadata": {},
   "outputs": [
    {
     "data": {
      "text/plain": [
       "<bound method HDFWriter.close of <ophyd_async.epics.areadetector.writers.hdf_writer.HDFWriter object at 0x7f5bfe008290>>"
      ]
     },
     "execution_count": 16,
     "metadata": {},
     "output_type": "execute_result"
    }
   ],
   "source": [
    "pimte.writer.close"
   ]
  },
  {
   "cell_type": "code",
   "execution_count": null,
   "id": "061184d3-5806-4f5f-9a17-8c2d18ac0485",
   "metadata": {},
   "outputs": [],
   "source": []
  }
 ],
 "metadata": {
  "kernelspec": {
   "display_name": "Python 3 (ipykernel)",
   "language": "python",
   "name": "python3"
  },
  "language_info": {
   "codemirror_mode": {
    "name": "ipython",
    "version": 3
   },
   "file_extension": ".py",
   "mimetype": "text/x-python",
   "name": "python",
   "nbconvert_exporter": "python",
   "pygments_lexer": "ipython3",
   "version": "3.11.8"
  }
 },
 "nbformat": 4,
 "nbformat_minor": 5
}
