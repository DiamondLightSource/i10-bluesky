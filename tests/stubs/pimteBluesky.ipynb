{
 "cells": [
  {
   "cell_type": "code",
   "execution_count": 2,
   "id": "512ca450-4a59-4f77-bd2f-9edbfc689328",
   "metadata": {},
   "outputs": [],
   "source": [
    "from i10_bluesky.devices.rasor.detectorSlits import *\n",
    "from i10_bluesky.devices.scalerCard import ScaleCard\n",
    "from i10_bluesky.devices.pimteAD import *\n",
    "from i10_bluesky.plans.rasor.pimte_plans import AdPlan\n",
    "from ophyd_async.core import DeviceCollector\n",
    "from ophyd_async.core.async_status import AsyncStatus\n",
    "from ophyd_async.core.detector import TriggerInfo, DetectorTrigger\n",
    "from bluesky.callbacks.best_effort import BestEffortCallback\n",
    "from bluesky import RunEngine\n",
    "from bluesky.plans import count, scan  \n",
    "from bluesky.plan_stubs import *\n",
    "from bluesky.preprocessors import contingency_wrapper\n",
    "from ophyd.sim import det1\n",
    "from bluesky.utils import *\n",
    "from bluesky.utils import Msg\n",
    "from bluesky import preprocessors as bpp\n",
    "from bluesky import plan_stubs as bps\n",
    "from bluesky.protocols import *\n",
    "from dodal.beamlines.beamline_utils import set_directory_provider\n",
    "from ophyd_async.core._providers import StaticDirectoryProvider\n",
    "import asyncio\n",
    "import os\n",
    "loop = asyncio.get_event_loop()\n",
    "bec = BestEffortCallback()\n",
    "RE = RunEngine({})\n"
   ]
  },
  {
   "cell_type": "code",
   "execution_count": 3,
   "id": "346887c7-bb7d-4641-9db6-dc3ce1a1599a",
   "metadata": {},
   "outputs": [],
   "source": [
    "df =  StaticDirectoryProvider(\"/dls/i10/data/2024/cm37251-2/processing/\", \"i10-\")\n",
    "\n",
    "with DeviceCollector():\n",
    "    ds = DetectorSlits('ME01D-MO-APTR',name = \"detSlits\")\n",
    "        \n",
    "pimte = HDFStatsPimte(\n",
    "\"BL10I-EA-PIMTE-01:\",\n",
    "df,\n",
    "\"pimte\",)\n",
    "loop.create_task(pimte.connect())\n",
    "ti = TriggerInfo(1, DetectorTrigger.internal,6,0.003)"
   ]
  },
  {
   "cell_type": "code",
   "execution_count": 18,
   "id": "cbce183f-6bee-46f4-ae54-92c3c971dd60",
   "metadata": {},
   "outputs": [],
   "source": [
    "result = loop.create_task(pimte.drv.acquire_time.read())"
   ]
  },
  {
   "cell_type": "code",
   "execution_count": 19,
   "id": "b4f8219e-5379-4e6a-b7b8-7704dd84a901",
   "metadata": {},
   "outputs": [],
   "source": [
    "result\n",
    "from bluesky.protocols import *"
   ]
  },
  {
   "cell_type": "code",
   "execution_count": 4,
   "id": "24cf193f-85b5-4db2-b079-84f701b50dbc",
   "metadata": {},
   "outputs": [
    {
     "name": "stdout",
     "output_type": "stream",
     "text": [
      "\n",
      "\n",
      "Transient Scan ID: 1     Time: 2024-04-08 11:16:00\n",
      "Persistent Unique Scan ID: 'ef161ace-ad97-4b04-a55e-77979e15e50e'\n",
      "New stream: 'primary'\n"
     ]
    },
    {
     "name": "stderr",
     "output_type": "stream",
     "text": [
      "/venv/lib/python3.11/site-packages/bluesky/callbacks/core.py:332: UserWarning: The key pimte will be skipped because LiveTable does not know how to display the dtype array\n",
      "  warnings.warn(\"The key {} will be skipped because LiveTable \"\n"
     ]
    },
    {
     "name": "stdout",
     "output_type": "stream",
     "text": [
      "+-----------+------------+\n",
      "|   seq_num |       time |\n",
      "+-----------+------------+\n",
      "|         1 | 11:16:04.1 |\n",
      "+-----------+------------+\n",
      "generator count ['ef161ace'] (scan num: 1)\n",
      "\n",
      "\n",
      "\n"
     ]
    },
    {
     "data": {
      "text/plain": [
       "('ef161ace-ad97-4b04-a55e-77979e15e50e',)"
      ]
     },
     "execution_count": 4,
     "metadata": {},
     "output_type": "execute_result"
    }
   ],
   "source": [
    "RE(count([pimte]),bec)"
   ]
  },
  {
   "cell_type": "code",
   "execution_count": 35,
   "id": "b239c63f-a704-4df1-acc5-d6aaa69a6c03",
   "metadata": {},
   "outputs": [],
   "source": [
    "def imgPlan(devices, name = \"primary\"):\n",
    "\n",
    "    devices = separate_devices(devices)  # remove redundant entries\n",
    "    rewindable = all_safe_rewind(devices)  # if devices can be re-triggered\n",
    "\n",
    "\n",
    "    def inner_trigger_and_read():\n",
    "        grp = short_uid('trigger')\n",
    "        for obj in devices:\n",
    "            if isinstance(obj, Preparable):\n",
    "                yield from kickoff(obj, group = grp, wait = True)\n",
    "                yield from prepare(obj, ti, group=grp, wait = True, )\n",
    "                yield from complete(obj, group = grp, wait = True)\n",
    "        # Skip 'wait' if none of the devices implemented a trigger method.\n",
    "        yield from wait(group=grp)\n",
    "        yield from create(name)\n",
    "\n",
    "        def read_plan():\n",
    "            ret = {}  # collect and return readings to give plan access to them\n",
    "            for obj in devices:\n",
    "                reading = (yield from read(obj))\n",
    "                if reading is not None:\n",
    "                    ret.update(reading)\n",
    "            return ret\n",
    "\n",
    "        def standard_path():\n",
    "            yield from save()\n",
    "\n",
    "        def exception_path(exp):\n",
    "            yield from drop()\n",
    "            raise exp\n",
    "\n",
    "        ret = yield from contingency_wrapper(\n",
    "            read_plan(),\n",
    "            except_plan=exception_path,\n",
    "            else_plan=standard_path\n",
    "        )\n",
    "        return ret\n",
    "\n",
    "    from bluesky.preprocessors import rewindable_wrapper\n",
    "    return (yield from rewindable_wrapper(inner_trigger_and_read(),\n",
    "                                          rewindable))\n"
   ]
  },
  {
   "cell_type": "code",
   "execution_count": 36,
   "id": "f79d3c5c-d6c1-4dad-a216-868057ea9d9e",
   "metadata": {},
   "outputs": [],
   "source": [
    "def tiggerImg(dets, value):\n",
    "    yield Msg(\"set\", pimte.drv.acquire_time, value)\n",
    "    @bpp.stage_decorator([dets])\n",
    "    @bpp.run_decorator()\n",
    "    def innerTiggerImg():\n",
    "        return (yield from imgPlan([dets]))\n",
    "        #return (yield from bps.trigger_and_read([dets]))\n",
    "    return (yield from innerTiggerImg())"
   ]
  },
  {
   "cell_type": "code",
   "execution_count": 39,
   "id": "98442bce-4e19-426d-946f-ca5d45796dbc",
   "metadata": {},
   "outputs": [
    {
     "data": {
      "text/plain": [
       "('606ed74f-6fed-4a01-8251-cb0efc0ede5b',)"
      ]
     },
     "execution_count": 39,
     "metadata": {},
     "output_type": "execute_result"
    }
   ],
   "source": [
    "RE(tiggerImg(pimte,0.004))"
   ]
  },
  {
   "cell_type": "code",
   "execution_count": 46,
   "id": "3f489f72-f3db-4c84-8d99-78e7c8f1477b",
   "metadata": {},
   "outputs": [],
   "source": [
    "def takeImg2(det,value):\n",
    "    grp = short_uid('takeImg')\n",
    "    yield Msg(\"open_run\")\n",
    "    yield from stage(det)\n",
    "    yield from kickoff(det, group = grp, wait = True)\n",
    "    yield from prepare(det, ti, group=grp, wait = True)\n",
    "    yield from complete(det, group = grp, wait = True)\n",
    "    yield from wait(group=grp)\n",
    "    yield Msg(\"unstage\", det)\n",
    "    yield Msg(\"close_run\")"
   ]
  },
  {
   "cell_type": "code",
   "execution_count": 48,
   "id": "25e54e79-7c20-4448-95a7-353f363e3df8",
   "metadata": {},
   "outputs": [
    {
     "data": {
      "text/plain": [
       "('8086fb13-cb6c-4e31-8124-0b1ba6c3aecf',)"
      ]
     },
     "execution_count": 48,
     "metadata": {},
     "output_type": "execute_result"
    }
   ],
   "source": [
    "RE(takeImg2(pimte,ti))"
   ]
  },
  {
   "cell_type": "code",
   "execution_count": 13,
   "id": "934c5ece-40c6-490b-9733-79505e5d91e8",
   "metadata": {},
   "outputs": [
    {
     "data": {
      "text/plain": [
       "<generator object wait at 0x7fd07de75210>"
      ]
     },
     "execution_count": 13,
     "metadata": {},
     "output_type": "execute_result"
    }
   ],
   "source": [
    "grp = \"hoo\"\n",
    "wait(group = grp)"
   ]
  },
  {
   "cell_type": "code",
   "execution_count": 6,
   "id": "57696614-93ca-407d-811a-e6da53511f29",
   "metadata": {},
   "outputs": [],
   "source": [
    "def tiggerImg3(dets, value):\n",
    "    yield Msg(\"set\", pimte.drv.acquire_time, value)\n",
    "    @bpp.stage_decorator([dets])\n",
    "    @bpp.run_decorator()\n",
    "    def innerTiggerImg():\n",
    "        return (yield from bps.trigger_and_read([dets]))\n",
    "    return (yield from innerTiggerImg())"
   ]
  },
  {
   "cell_type": "code",
   "execution_count": 8,
   "id": "4c52acc5-4867-4973-923f-2838780d969a",
   "metadata": {},
   "outputs": [
    {
     "data": {
      "text/plain": [
       "('07ca7b7c-bb00-4178-a816-d8b953b071ac',)"
      ]
     },
     "execution_count": 8,
     "metadata": {},
     "output_type": "execute_result"
    }
   ],
   "source": [
    "RE(tiggerImg3(pimte,0.004))"
   ]
  },
  {
   "cell_type": "code",
   "execution_count": 8,
   "id": "4e9b70c3-d6b4-4f78-8d3d-d8b46c30ccba",
   "metadata": {},
   "outputs": [
    {
     "name": "stderr",
     "output_type": "stream",
     "text": [
      "ERROR:bluesky:Run aborted\n",
      "Traceback (most recent call last):\n",
      "  File \"/venv/lib/python3.11/site-packages/bluesky/run_engine.py\", line 1547, in _run\n",
      "    msg = self._plan_stack[-1].send(resp)\n",
      "          ^^^^^^^^^^^^^^^^^^^^^^^^^^^^^^^\n",
      "  File \"/tmp/ipykernel_43109/1191422398.py\", line 8, in takeImg2\n",
      "    return k\n",
      "           ^\n",
      "NameError: name 'k' is not defined\n"
     ]
    },
    {
     "ename": "NameError",
     "evalue": "name 'k' is not defined",
     "output_type": "error",
     "traceback": [
      "\u001b[0;31m---------------------------------------------------------------------------\u001b[0m",
      "\u001b[0;31mNameError\u001b[0m                                 Traceback (most recent call last)",
      "Cell \u001b[0;32mIn[8], line 1\u001b[0m\n\u001b[0;32m----> 1\u001b[0m \u001b[43mRE\u001b[49m\u001b[43m(\u001b[49m\u001b[43mtakeImg2\u001b[49m\u001b[43m(\u001b[49m\u001b[43mpimte\u001b[49m\u001b[43m,\u001b[49m\u001b[43mti\u001b[49m\u001b[43m)\u001b[49m\u001b[43m)\u001b[49m\n",
      "File \u001b[0;32m/venv/lib/python3.11/site-packages/bluesky/run_engine.py:918\u001b[0m, in \u001b[0;36mRunEngine.__call__\u001b[0;34m(self, *args, **metadata_kw)\u001b[0m\n\u001b[1;32m    914\u001b[0m         \u001b[38;5;28mself\u001b[39m\u001b[38;5;241m.\u001b[39m_blocking_event\u001b[38;5;241m.\u001b[39mset()\n\u001b[1;32m    916\u001b[0m     \u001b[38;5;28mself\u001b[39m\u001b[38;5;241m.\u001b[39m_task_fut\u001b[38;5;241m.\u001b[39madd_done_callback(set_blocking_event)\n\u001b[0;32m--> 918\u001b[0m plan_return \u001b[38;5;241m=\u001b[39m \u001b[38;5;28;43mself\u001b[39;49m\u001b[38;5;241;43m.\u001b[39;49m\u001b[43m_resume_task\u001b[49m\u001b[43m(\u001b[49m\u001b[43minit_func\u001b[49m\u001b[38;5;241;43m=\u001b[39;49m\u001b[43m_build_task\u001b[49m\u001b[43m)\u001b[49m\n\u001b[1;32m    920\u001b[0m \u001b[38;5;28;01mif\u001b[39;00m \u001b[38;5;28mself\u001b[39m\u001b[38;5;241m.\u001b[39m_interrupted:\n\u001b[1;32m    921\u001b[0m     \u001b[38;5;28;01mraise\u001b[39;00m RunEngineInterrupted(\u001b[38;5;28mself\u001b[39m\u001b[38;5;241m.\u001b[39mpause_msg) \u001b[38;5;28;01mfrom\u001b[39;00m \u001b[38;5;28;01mNone\u001b[39;00m\n",
      "File \u001b[0;32m/venv/lib/python3.11/site-packages/bluesky/run_engine.py:1057\u001b[0m, in \u001b[0;36mRunEngine._resume_task\u001b[0;34m(self, init_func)\u001b[0m\n\u001b[1;32m   1053\u001b[0m \u001b[38;5;66;03m# if the main task exception is not None, re-raise\u001b[39;00m\n\u001b[1;32m   1054\u001b[0m \u001b[38;5;66;03m# it (unless it is a canceled error)\u001b[39;00m\n\u001b[1;32m   1055\u001b[0m \u001b[38;5;28;01mif\u001b[39;00m (exc \u001b[38;5;129;01mis\u001b[39;00m \u001b[38;5;129;01mnot\u001b[39;00m \u001b[38;5;28;01mNone\u001b[39;00m\n\u001b[1;32m   1056\u001b[0m         \u001b[38;5;129;01mand\u001b[39;00m \u001b[38;5;129;01mnot\u001b[39;00m \u001b[38;5;28misinstance\u001b[39m(exc, _RunEnginePanic)):\n\u001b[0;32m-> 1057\u001b[0m     \u001b[38;5;28;01mraise\u001b[39;00m exc\n\u001b[1;32m   1058\u001b[0m \u001b[38;5;66;03m# Only try to get a result if there wasn't an error,\u001b[39;00m\n\u001b[1;32m   1059\u001b[0m \u001b[38;5;66;03m# (other than a cancelled error)\u001b[39;00m\n\u001b[1;32m   1060\u001b[0m \u001b[38;5;28;01mif\u001b[39;00m exc \u001b[38;5;129;01mis\u001b[39;00m \u001b[38;5;28;01mNone\u001b[39;00m:\n",
      "File \u001b[0;32m/venv/lib/python3.11/site-packages/bluesky/run_engine.py:1687\u001b[0m, in \u001b[0;36mRunEngine._run\u001b[0;34m(self)\u001b[0m\n\u001b[1;32m   1685\u001b[0m     exit_reason \u001b[38;5;241m=\u001b[39m \u001b[38;5;28mstr\u001b[39m(err)\n\u001b[1;32m   1686\u001b[0m     \u001b[38;5;28mself\u001b[39m\u001b[38;5;241m.\u001b[39mlog\u001b[38;5;241m.\u001b[39mexception(\u001b[38;5;124m\"\u001b[39m\u001b[38;5;124mRun aborted\u001b[39m\u001b[38;5;124m\"\u001b[39m)\n\u001b[0;32m-> 1687\u001b[0m     \u001b[38;5;28;01mraise\u001b[39;00m err\n\u001b[1;32m   1688\u001b[0m \u001b[38;5;28;01mfinally\u001b[39;00m:\n\u001b[1;32m   1689\u001b[0m     \u001b[38;5;28;01mif\u001b[39;00m \u001b[38;5;129;01mnot\u001b[39;00m exit_reason:\n",
      "File \u001b[0;32m/venv/lib/python3.11/site-packages/bluesky/run_engine.py:1547\u001b[0m, in \u001b[0;36mRunEngine._run\u001b[0;34m(self)\u001b[0m\n\u001b[1;32m   1544\u001b[0m \u001b[38;5;66;03m# The normal case of clean operation\u001b[39;00m\n\u001b[1;32m   1545\u001b[0m \u001b[38;5;28;01melse\u001b[39;00m:\n\u001b[1;32m   1546\u001b[0m     \u001b[38;5;28;01mtry\u001b[39;00m:\n\u001b[0;32m-> 1547\u001b[0m         msg \u001b[38;5;241m=\u001b[39m \u001b[38;5;28mself\u001b[39m\u001b[38;5;241m.\u001b[39m_plan_stack[\u001b[38;5;241m-\u001b[39m\u001b[38;5;241m1\u001b[39m]\u001b[38;5;241m.\u001b[39msend(resp)\n\u001b[1;32m   1548\u001b[0m     \u001b[38;5;66;03m# We have exhausted the top generator\u001b[39;00m\n\u001b[1;32m   1549\u001b[0m     \u001b[38;5;28;01mexcept\u001b[39;00m \u001b[38;5;167;01mStopIteration\u001b[39;00m:\n\u001b[1;32m   1550\u001b[0m         \u001b[38;5;66;03m# pop the dead generator go back to the top\u001b[39;00m\n",
      "Cell \u001b[0;32mIn[7], line 8\u001b[0m, in \u001b[0;36mtakeImg2\u001b[0;34m(det, value)\u001b[0m\n\u001b[1;32m      6\u001b[0m \u001b[38;5;28;01myield\u001b[39;00m Msg(\u001b[38;5;124m'\u001b[39m\u001b[38;5;124mwait\u001b[39m\u001b[38;5;124m'\u001b[39m, group\u001b[38;5;241m=\u001b[39mgroupId)\n\u001b[1;32m      7\u001b[0m \u001b[38;5;28;01myield\u001b[39;00m Msg(\u001b[38;5;124m\"\u001b[39m\u001b[38;5;124munstage\u001b[39m\u001b[38;5;124m\"\u001b[39m, det)\n\u001b[0;32m----> 8\u001b[0m \u001b[38;5;28;01mreturn\u001b[39;00m \u001b[43mk\u001b[49m\n",
      "\u001b[0;31mNameError\u001b[0m: name 'k' is not defined"
     ]
    }
   ],
   "source": []
  },
  {
   "cell_type": "code",
   "execution_count": 94,
   "id": "297036be-9c9d-4cc1-9d26-381af1d480a4",
   "metadata": {},
   "outputs": [
    {
     "ename": "TypeError",
     "evalue": "'tuple' object is not callable",
     "output_type": "error",
     "traceback": [
      "\u001b[0;31m---------------------------------------------------------------------------\u001b[0m",
      "\u001b[0;31mTypeError\u001b[0m                                 Traceback (most recent call last)",
      "Cell \u001b[0;32mIn[94], line 1\u001b[0m\n\u001b[0;32m----> 1\u001b[0m \u001b[43mk\u001b[49m\u001b[43m(\u001b[49m\u001b[43m)\u001b[49m\n",
      "\u001b[0;31mTypeError\u001b[0m: 'tuple' object is not callable"
     ]
    }
   ],
   "source": [
    "a"
   ]
  },
  {
   "cell_type": "code",
   "execution_count": 10,
   "id": "d9543db2-9e93-4876-ab6e-590f434ecf1d",
   "metadata": {},
   "outputs": [
    {
     "data": {
      "text/plain": [
       "('6b6d4507-4f45-4021-b2ac-aa8311a4cb90',)"
      ]
     },
     "execution_count": 10,
     "metadata": {},
     "output_type": "execute_result"
    }
   ],
   "source": [
    "RE(takeImg([pimte],1))"
   ]
  },
  {
   "cell_type": "code",
   "execution_count": 3,
   "id": "a3c8737b-74b4-4d9b-ac30-c76e782df557",
   "metadata": {},
   "outputs": [],
   "source": [
    "pimtePlan = AdPlan(pimte)"
   ]
  },
  {
   "cell_type": "code",
   "execution_count": 4,
   "id": "284e61b8-116a-496f-841a-a67841d21569",
   "metadata": {},
   "outputs": [
    {
     "name": "stdout",
     "output_type": "stream",
     "text": [
      "\n",
      "\n",
      "Transient Scan ID: 1     Time: 2024-04-08 10:56:12\n",
      "Persistent Unique Scan ID: '9c146069-b83a-481b-b73e-fed49a50d95d'\n",
      "New stream: 'primary'\n"
     ]
    },
    {
     "name": "stderr",
     "output_type": "stream",
     "text": [
      "/venv/lib/python3.11/site-packages/bluesky/callbacks/best_effort.py:248: UserWarning: Omitting pimte from plot because dtype is array\n",
      "  warn(\"Omitting {} from plot because dtype is {}\"\n",
      "/venv/lib/python3.11/site-packages/bluesky/callbacks/core.py:332: UserWarning: The key pimte will be skipped because LiveTable does not know how to display the dtype array\n",
      "  warnings.warn(\"The key {} will be skipped because LiveTable \"\n"
     ]
    },
    {
     "name": "stdout",
     "output_type": "stream",
     "text": [
      "+-----------+------------+\n",
      "|   seq_num |       time |\n",
      "+-----------+------------+\n",
      "|         1 | 10:56:15.9 |\n",
      "+-----------+------------+\n",
      "generator tiggerImg ['9c146069'] (scan num: 1)\n",
      "\n",
      "\n",
      "\n"
     ]
    },
    {
     "data": {
      "text/plain": [
       "('9c146069-b83a-481b-b73e-fed49a50d95d',)"
      ]
     },
     "execution_count": 4,
     "metadata": {},
     "output_type": "execute_result"
    },
    {
     "data": {
      "image/png": "[encoded data removed]",
      "text/plain": [
       "<Figure size 500x500 with 1 Axes>"
      ]
     },
     "metadata": {},
     "output_type": "display_data"
    }
   ],
   "source": [
    "RE(AdPlan.tiggerImg(pimte,0.002),bec)"
   ]
  },
  {
   "cell_type": "code",
   "execution_count": 8,
   "id": "c6534c5a-2837-42b8-ab16-9853b315458f",
   "metadata": {},
   "outputs": [
    {
     "name": "stdout",
     "output_type": "stream",
     "text": [
      "\n",
      "\n",
      "Transient Scan ID: 5     Time: 2024-04-08 10:58:24\n",
      "Persistent Unique Scan ID: 'ddb19899-7806-460a-8889-52d5c8507401'\n",
      "\n",
      "\n",
      "\n"
     ]
    },
    {
     "data": {
      "text/plain": [
       "('ddb19899-7806-460a-8889-52d5c8507401',)"
      ]
     },
     "execution_count": 8,
     "metadata": {},
     "output_type": "execute_result"
    }
   ],
   "source": [
    "RE(pimtePlan.takeImg(0.005,2,pimtePlan.det.drv.TriggerMode.internal),bec)"
   ]
  },
  {
   "cell_type": "code",
   "execution_count": null,
   "id": "a2701be5-0034-4a17-b595-fa87a800de25",
   "metadata": {},
   "outputs": [],
   "source": [
    "RE(pimtePlan.takeImg())"
   ]
  },
  {
   "cell_type": "code",
   "execution_count": null,
   "id": "0a19c569-ed1e-4203-8b8c-2e0ff1f74549",
   "metadata": {},
   "outputs": [],
   "source": [
    "RE(pimtePlan.takeImg(exposure = 0.003, n_img = 3))"
   ]
  },
  {
   "cell_type": "code",
   "execution_count": null,
   "id": "765fd86d-bbf8-4938-8ddc-5be063e43d94",
   "metadata": {},
   "outputs": [],
   "source": [
    "asyncio.create_task(pimte.writer.open())"
   ]
  },
  {
   "cell_type": "code",
   "execution_count": null,
   "id": "fcaacc80-c145-403f-8fc2-2cd9fbff8555",
   "metadata": {},
   "outputs": [],
   "source": [
    "asyncio.wait_for(pimte.trigger(), timeout =10)"
   ]
  },
  {
   "cell_type": "code",
   "execution_count": 39,
   "id": "a535ca6d-7a91-4355-af6f-27d0099e3471",
   "metadata": {},
   "outputs": [],
   "source": [
    "async def test():\n",
    "    aw = await asyncio.gather(pimte.prepare(ti))\n",
    "    await asyncio.wait_for(aw, timeout = 5)    "
   ]
  },
  {
   "cell_type": "code",
   "execution_count": 61,
   "id": "a3886c6e-57f4-4dde-8f1d-589b68facde3",
   "metadata": {},
   "outputs": [
    {
     "data": {
      "text/plain": [
       "<_GatheringFuture pending>"
      ]
     },
     "execution_count": 61,
     "metadata": {},
     "output_type": "execute_result"
    }
   ],
   "source": [
    "asyncio.gather(pimtePlan.setTemp(16))"
   ]
  },
  {
   "cell_type": "code",
   "execution_count": null,
   "id": "56f4bd9d-bd5f-40d1-944c-cd3435624bbf",
   "metadata": {},
   "outputs": [],
   "source": [
    "result = asyncio.create_task(test())"
   ]
  },
  {
   "cell_type": "code",
   "execution_count": 43,
   "id": "8719969b-67f0-4720-ad13-c4fac660622c",
   "metadata": {},
   "outputs": [
    {
     "name": "stdout",
     "output_type": "stream",
     "text": [
      "<_GatheringFuture finished result=[None]>\n"
     ]
    }
   ],
   "source": [
    "print(k)"
   ]
  },
  {
   "cell_type": "code",
   "execution_count": 57,
   "id": "28cce665-a913-4be4-9e9a-f9f29252ce4b",
   "metadata": {},
   "outputs": [
    {
     "data": {
      "text/plain": [
       "()"
      ]
     },
     "execution_count": 57,
     "metadata": {},
     "output_type": "execute_result"
    }
   ],
   "source": [
    "RE((pimtePlan.setTemp(17)))\n",
    "RE((pimtePlan.setAdcSpeed(pimte.drv.SpeedMode.adc_200Khz)))"
   ]
  },
  {
   "cell_type": "code",
   "execution_count": 63,
   "id": "061184d3-5806-4f5f-9a17-8c2d18ac0485",
   "metadata": {},
   "outputs": [],
   "source": [
    "def doublePlan():\n",
    "    yield from pimtePlan.setTemp(19)\n",
    "    yield from pimtePlan.setAdcSpeed(pimtePlan.det.drv.SpeedMode.adc_2Mhz)"
   ]
  },
  {
   "cell_type": "code",
   "execution_count": 64,
   "id": "d4896e4b-bf87-4ba8-b000-2371df9ea9e3",
   "metadata": {},
   "outputs": [
    {
     "data": {
      "text/plain": [
       "()"
      ]
     },
     "execution_count": 64,
     "metadata": {},
     "output_type": "execute_result"
    }
   ],
   "source": [
    "RE(doublePlan())\n"
   ]
  },
  {
   "cell_type": "code",
   "execution_count": 70,
   "id": "e2c40d9a-d184-412e-a35e-8bbf1ef15251",
   "metadata": {},
   "outputs": [
    {
     "data": {
      "text/plain": [
       "('8e44c418-883f-4688-8484-5bfa9022599b',)"
      ]
     },
     "execution_count": 70,
     "metadata": {},
     "output_type": "execute_result"
    }
   ],
   "source": [
    "RE(AdPlan.tiggerImg(pimtePlan.det,0.02))"
   ]
  },
  {
   "cell_type": "code",
   "execution_count": null,
   "id": "4363473c-69a6-40f3-bb9d-0495469e2a36",
   "metadata": {},
   "outputs": [],
   "source": []
  }
 ],
 "metadata": {
  "kernelspec": {
   "display_name": "Python 3 (ipykernel)",
   "language": "python",
   "name": "python3"
  },
  "language_info": {
   "codemirror_mode": {
    "name": "ipython",
    "version": 3
   },
   "file_extension": ".py",
   "mimetype": "text/x-python",
   "name": "python",
   "nbconvert_exporter": "python",
   "pygments_lexer": "ipython3",
   "version": "3.11.8"
  }
 },
 "nbformat": 4,
 "nbformat_minor": 5
}
