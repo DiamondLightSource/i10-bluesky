{
 "cells": [
  {
   "cell_type": "code",
   "execution_count": 40,
   "id": "b2f7ecf6-fe4b-411b-ac96-d5980c34d0f8",
   "metadata": {},
   "outputs": [],
   "source": [
    "import os\n",
    "import sys\n",
    "os.chdir('/scratch/i10-bluesky/src/')\n",
    "from i10_bluesky.devices.rasor.detectorSlits import *\n",
    "from i10_bluesky.devices.scalerCard import ScaleCard\n",
    "from bluesky import RunEngine\n",
    "from ophyd_async.core import DeviceCollector \n",
    "import bluesky.plan_stubs as bps\n",
    "from bluesky.plans import count, scan \n",
    "from ophyd.sim import motor1,det1\n",
    "from bluesky.callbacks.best_effort import BestEffortCallback\n",
    "from epics import caget\n",
    "import asyncio\n",
    "from unittest.mock import Mock, call\n",
    "\n",
    "import pytest\n",
    "from ophyd_async.core import (\n",
    "    DeviceCollector,\n",
    "    set_sim_put_proceeds,\n",
    "    set_sim_value,\n",
    ")\n",
    "\n",
    "bec = BestEffortCallback()\n",
    "RE = RunEngine({})"
   ]
  },
  {
   "cell_type": "code",
   "execution_count": 2,
   "id": "971070a1-35bd-44e0-8dda-6d305dee07f4",
   "metadata": {},
   "outputs": [],
   "source": [
    "ds = DetectorSlits('ME01D-MO-APTR',name = \"detSlits\")"
   ]
  },
  {
   "cell_type": "code",
   "execution_count": 4,
   "id": "e1af3e50-a8ab-44f0-aa2d-cbad334e42d1",
   "metadata": {},
   "outputs": [
    {
     "data": {
      "text/plain": [
       "<ophyd_async.core.signal.SignalRW at 0x7fd68bfea550>"
      ]
     },
     "execution_count": 4,
     "metadata": {},
     "output_type": "execute_result"
    }
   ],
   "source": [
    "ds.dsu.__dict__[\"setpoint\"]"
   ]
  },
  {
   "cell_type": "code",
   "execution_count": 5,
   "id": "503a9575-9f3b-4ebc-a0ad-03e50877defa",
   "metadata": {},
   "outputs": [
    {
     "data": {
      "text/plain": [
       "<i10_bluesky.devices.rasor.detectorSlits.DetectorSlits at 0x7fd68bff1310>"
      ]
     },
     "execution_count": 5,
     "metadata": {},
     "output_type": "execute_result"
    }
   ],
   "source": [
    "\n",
    "with DeviceCollector(sim=True):\n",
    "    simSlits = DetectorSlits(\"BLxxI-MO-TABLE\", \"ds\")\n",
    "    # Signals connected here\n",
    "\n",
    "aSlits = [\"dsd\", \"dsu\"] \n",
    "assert simSlits.dsd.name == \"ds-dsd\"\n",
    "assert simSlits.dsu.name == \"ds-dsu\"\n",
    "\n",
    "set_sim_value(simSlits.dsd.units, \"mm\")\n",
    "set_sim_value(simSlits.dsd.precision, 3)\n",
    "set_sim_value(simSlits.dsd.velocity, 1)\n",
    "simSlits"
   ]
  },
  {
   "cell_type": "code",
   "execution_count": 6,
   "id": "f4732cf9-5ad1-4b73-859f-4bee79f49418",
   "metadata": {},
   "outputs": [
    {
     "data": {
      "text/plain": [
       "<coroutine object SignalR.get_value at 0x7fd68bb56d40>"
      ]
     },
     "execution_count": 6,
     "metadata": {},
     "output_type": "execute_result"
    }
   ],
   "source": [
    "simSlits.dsd.units.get_value()"
   ]
  },
  {
   "cell_type": "code",
   "execution_count": 7,
   "id": "9e8c49a6-fdca-41e8-91a4-170177f0fb28",
   "metadata": {},
   "outputs": [],
   "source": [
    "result = loop.create_task(simSlits.dsd.units.get_value())"
   ]
  },
  {
   "cell_type": "code",
   "execution_count": 87,
   "id": "dec7284c-2628-4f2f-ab7d-fcec13b8934d",
   "metadata": {},
   "outputs": [
    {
     "data": {
      "text/plain": [
       "<_UnixSelectorEventLoop running=True closed=False debug=False>"
      ]
     },
     "execution_count": 87,
     "metadata": {},
     "output_type": "execute_result"
    }
   ],
   "source": []
  },
  {
   "cell_type": "code",
   "execution_count": 11,
   "id": "0dd7b0e1-2f69-4148-abe3-0accf90fb13a",
   "metadata": {},
   "outputs": [],
   "source": [
    "from abc import abstractmethod\n",
    "from typing import (\n",
    "    Any,\n",
    "    AsyncIterator,\n",
    "    Awaitable,\n",
    "    Callable,\n",
    "    Dict,\n",
    "    Generic,\n",
    "    Iterator,\n",
    "    List,\n",
    "    Literal,\n",
    "    Optional,\n",
    "    Protocol,\n",
    "    Tuple,\n",
    "    Type,\n",
    "    TypeVar,\n",
    "    Union,\n",
    "    runtime_checkable\n",
    ")\n",
    "@runtime_checkable\n",
    "class Hi(Protocol):\n",
    "    @property\n",
    "    @abstractmethod\n",
    "    def name(self) -> str:\n",
    "        ...\n",
    "        \n",
    "        "
   ]
  },
  {
   "cell_type": "code",
   "execution_count": 12,
   "id": "b2571a0b-4d35-4b31-9e7c-6ad632fe3c51",
   "metadata": {},
   "outputs": [],
   "source": [
    "class Hihi(Hi):\n",
    "    def __init__(self, temp:Union[List]):\n",
    "        self.name = temp\n",
    "    @property\n",
    "    def name(self) -> str:\n",
    "        print(\"getter\")\n",
    "        return self._name\n",
    "    @name.setter\n",
    "    def name(self,value)-> None:\n",
    "        print(\"setter\")\n",
    "        self._name = value\n",
    "        "
   ]
  },
  {
   "cell_type": "code",
   "execution_count": 13,
   "id": "6eff7917-0c2c-46d1-b594-abaf3e8b5000",
   "metadata": {},
   "outputs": [],
   "source": [
    "class Hihi(Hi):\n",
    "    def __init__(self, temp:str):\n",
    "        self.name = temp\n",
    "    def name(self) -> str:\n",
    "        print(\"getter\")\n",
    "        return self.name\n",
    "    def huh(self):\n",
    "        print(self.item())\n",
    "        "
   ]
  },
  {
   "cell_type": "code",
   "execution_count": 14,
   "id": "ad250e11-f78e-4c17-9c0a-1d27e9ec4e02",
   "metadata": {},
   "outputs": [],
   "source": [
    "ar1 = Hihi(\"9\")"
   ]
  },
  {
   "cell_type": "code",
   "execution_count": 84,
   "id": "79e15357-b171-4a9a-9889-5e13b3e56072",
   "metadata": {},
   "outputs": [
    {
     "name": "stdout",
     "output_type": "stream",
     "text": [
      "setter\n"
     ]
    }
   ],
   "source": [
    "ar.name = 5"
   ]
  },
  {
   "cell_type": "code",
   "execution_count": 17,
   "id": "6b36bff7-e73c-4263-93b0-504c85873924",
   "metadata": {},
   "outputs": [
    {
     "data": {
      "text/plain": [
       "dict_items([('name', '9')])"
      ]
     },
     "execution_count": 17,
     "metadata": {},
     "output_type": "execute_result"
    }
   ],
   "source": [
    "ar1.__dict__.items()"
   ]
  },
  {
   "cell_type": "raw",
   "id": "65e7a31a-2a91-4ffc-9d14-7e8570e487ea",
   "metadata": {},
   "source": [
    "ar1.name"
   ]
  },
  {
   "cell_type": "code",
   "execution_count": 94,
   "id": "f6024003-f89b-4cbd-b1be-192de0474330",
   "metadata": {},
   "outputs": [
    {
     "data": {
      "text/plain": [
       "False"
      ]
     },
     "execution_count": 94,
     "metadata": {},
     "output_type": "execute_result"
    }
   ],
   "source": [
    "issubclass(Hi, Hihi)"
   ]
  },
  {
   "cell_type": "code",
   "execution_count": 15,
   "id": "42ce0253-6aab-4bba-bb4d-3b78995de972",
   "metadata": {},
   "outputs": [
    {
     "ename": "AttributeError",
     "evalue": "'Hihi' object has no attribute 'item'",
     "output_type": "error",
     "traceback": [
      "\u001b[0;31m---------------------------------------------------------------------------\u001b[0m",
      "\u001b[0;31mAttributeError\u001b[0m                            Traceback (most recent call last)",
      "Cell \u001b[0;32mIn[15], line 1\u001b[0m\n\u001b[0;32m----> 1\u001b[0m \u001b[43mar1\u001b[49m\u001b[38;5;241;43m.\u001b[39;49m\u001b[43mhuh\u001b[49m\u001b[43m(\u001b[49m\u001b[43m)\u001b[49m\n",
      "Cell \u001b[0;32mIn[13], line 8\u001b[0m, in \u001b[0;36mHihi.huh\u001b[0;34m(self)\u001b[0m\n\u001b[1;32m      7\u001b[0m \u001b[38;5;28;01mdef\u001b[39;00m \u001b[38;5;21mhuh\u001b[39m(\u001b[38;5;28mself\u001b[39m):\n\u001b[0;32m----> 8\u001b[0m     \u001b[38;5;28mprint\u001b[39m(\u001b[38;5;28;43mself\u001b[39;49m\u001b[38;5;241;43m.\u001b[39;49m\u001b[43mitem\u001b[49m())\n",
      "\u001b[0;31mAttributeError\u001b[0m: 'Hihi' object has no attribute 'item'"
     ]
    }
   ],
   "source": [
    "ar1.huh()"
   ]
  },
  {
   "cell_type": "code",
   "execution_count": 19,
   "id": "e1b4a4d4-d27f-4965-b8c8-5d70ab75b4ea",
   "metadata": {},
   "outputs": [],
   "source": [
    "from ophyd_async.core import Device, DeviceVector"
   ]
  },
  {
   "cell_type": "code",
   "execution_count": 20,
   "id": "4e9c51fa-6ce9-4c2e-9bc9-74929fc9f663",
   "metadata": {},
   "outputs": [
    {
     "data": {
      "text/plain": [
       "ophyd_async.core.device.DeviceVector"
      ]
     },
     "execution_count": 20,
     "metadata": {},
     "output_type": "execute_result"
    }
   ],
   "source": [
    "DeviceVector"
   ]
  },
  {
   "cell_type": "code",
   "execution_count": 34,
   "id": "ff6b76eb-d980-4cb5-82e4-74b90488f3b3",
   "metadata": {},
   "outputs": [],
   "source": [
    "k = DeviceVector(w)"
   ]
  },
  {
   "cell_type": "code",
   "execution_count": 35,
   "id": "da6e72fa-e8bb-4f9d-b905-a3774f056e07",
   "metadata": {},
   "outputs": [
    {
     "data": {
      "text/plain": [
       "{'name': '9', 'name2': '4', 'name4': '94'}"
      ]
     },
     "execution_count": 35,
     "metadata": {},
     "output_type": "execute_result"
    }
   ],
   "source": [
    "k"
   ]
  },
  {
   "cell_type": "code",
   "execution_count": 32,
   "id": "7d795f94-c4fe-47a8-91c3-0e06c50eea88",
   "metadata": {},
   "outputs": [
    {
     "data": {
      "text/plain": [
       "{'name': '9'}"
      ]
     },
     "execution_count": 32,
     "metadata": {},
     "output_type": "execute_result"
    }
   ],
   "source": [
    "ar1.__dict__"
   ]
  },
  {
   "cell_type": "code",
   "execution_count": 33,
   "id": "a2862d8c-28c5-431f-9770-19bd1208a6e6",
   "metadata": {},
   "outputs": [],
   "source": [
    "w = {'name': '9','name2': '4','name4': '94'}"
   ]
  },
  {
   "cell_type": "code",
   "execution_count": 78,
   "id": "98cfcf7e-ac2b-409b-80d9-fb6bf4486c39",
   "metadata": {},
   "outputs": [],
   "source": [
    "try:\n",
    "    raise ValueError\n",
    "except ValueError:\n",
    "    ta, tc, tb = sys.exc_info()\n",
    "    assert tb, \"Can't get traceback, this shouldn't happen\""
   ]
  },
  {
   "cell_type": "code",
   "execution_count": 57,
   "id": "cd3b4edc-ef76-4125-8d02-f1dd6aa63e6f",
   "metadata": {},
   "outputs": [
    {
     "data": {
      "text/plain": [
       "{'__name__': '__main__',\n",
       " '__doc__': 'Automatically created module for IPython interactive environment',\n",
       " '__package__': None,\n",
       " '__loader__': None,\n",
       " '__spec__': None,\n",
       " '__builtin__': <module 'builtins' (built-in)>,\n",
       " '__builtins__': <module 'builtins' (built-in)>,\n",
       " '_ih': ['',\n",
       "  \"import os\\nos.chdir('/scratch/i10-bluesky/src/')\\nfrom i10_bluesky.devices.rasor.detectorSlits import *\\nfrom i10_bluesky.devices.scalerCard import ScaleCard\\nfrom bluesky import RunEngine\\nfrom ophyd_async.core import DeviceCollector \\nimport bluesky.plan_stubs as bps\\nfrom bluesky.plans import count, scan \\nfrom ophyd.sim import motor1,det1\\nfrom bluesky.callbacks.best_effort import BestEffortCallback\\nfrom epics import caget\\nimport asyncio\\nfrom unittest.mock import Mock, call\\n\\nimport pytest\\nfrom ophyd_async.core import (\\n    DeviceCollector,\\n    set_sim_put_proceeds,\\n    set_sim_value,\\n)\\nloop = asyncio.get_event_loop()\\nbec = BestEffortCallback()\\nRE = RunEngine({})\",\n",
       "  'ds = DetectorSlits(\\'ME01D-MO-APTR\\',name = \"detSlits\")',\n",
       "  'ds.dsu.__dict__',\n",
       "  'ds.dsu.__dict__[\"setpoint\"]',\n",
       "  'with DeviceCollector(sim=True):\\n    simSlits = DetectorSlits(\"BLxxI-MO-TABLE\", \"ds\")\\n    # Signals connected here\\n\\naSlits = [\"dsd\", \"dsu\"] \\nassert simSlits.dsd.name == \"ds-dsd\"\\nassert simSlits.dsu.name == \"ds-dsu\"\\n\\nset_sim_value(simSlits.dsd.units, \"mm\")\\nset_sim_value(simSlits.dsd.precision, 3)\\nset_sim_value(simSlits.dsd.velocity, 1)\\nsimSlits',\n",
       "  'simSlits.dsd.units.get_value()',\n",
       "  'result = loop.create_task(simSlits.dsd.units.get_value())',\n",
       "  'result',\n",
       "  'result.items()',\n",
       "  'class Hihi(Hi):\\n    def __init__(self, temp:str):\\n        self.name = temp\\n    def name(self) -> str:\\n        print(\"getter\")\\n        return self.name\\n    def huh(self):\\n        print(self.item())\\n        ',\n",
       "  'from abc import abstractmethod\\nfrom typing import (\\n    Any,\\n    AsyncIterator,\\n    Awaitable,\\n    Callable,\\n    Dict,\\n    Generic,\\n    Iterator,\\n    List,\\n    Literal,\\n    Optional,\\n    Protocol,\\n    Tuple,\\n    Type,\\n    TypeVar,\\n    Union,\\n    runtime_checkable\\n)\\n@runtime_checkable\\nclass Hi(Protocol):\\n    @property\\n    @abstractmethod\\n    def name(self) -> str:\\n        ...\\n        \\n        ',\n",
       "  'class Hihi(Hi):\\n    def __init__(self, temp:Union[List]):\\n        self.name = temp\\n    @property\\n    def name(self) -> str:\\n        print(\"getter\")\\n        return self._name\\n    @name.setter\\n    def name(self,value)-> None:\\n        print(\"setter\")\\n        self._name = value\\n        ',\n",
       "  'class Hihi(Hi):\\n    def __init__(self, temp:str):\\n        self.name = temp\\n    def name(self) -> str:\\n        print(\"getter\")\\n        return self.name\\n    def huh(self):\\n        print(self.item())\\n        ',\n",
       "  'ar1 = Hihi(\"9\")',\n",
       "  'ar1.huh()',\n",
       "  'ar1.name',\n",
       "  'ar1.__dict__.items()',\n",
       "  'from ophyd_async.core import Device',\n",
       "  'from ophyd_async.core import Device, DeviceVector',\n",
       "  'DeviceVector',\n",
       "  'k = DeviceVector([1,ds],ds.dsd)',\n",
       "  'k = DeviceVector([1,ds])',\n",
       "  'k = DeviceVector(ar1.__dict__)',\n",
       "  'k',\n",
       "  'k = DeviceVector(ar1.__dict__, ar1.__dict__)',\n",
       "  'k = DeviceVector([ar1.__dict__, ar1.__dict__])',\n",
       "  'w = {ar1.__dict__, ar1.__dict__)}',\n",
       "  'w = {ar1.__dict__, ar1.__dict__}',\n",
       "  'k',\n",
       "  'w = {ar1.__dict__}',\n",
       "  'w',\n",
       "  'ar1.__dict__',\n",
       "  \"w = {'name': '9','name2': '4','name4': '94'}\",\n",
       "  'k = DeviceVector(w)',\n",
       "  'k',\n",
       "  'try:\\n            raise ValueError\\n        except ValueError:\\n            _, _, tb = sys.exc_info()\\n            assert tb, \"Can\\'t get traceback, this shouldn\\'t happen\"',\n",
       "  'try:\\n    raise ValueError\\nexcept ValueError:\\n    _, _, tb = sys.exc_info()\\n            assert tb, \"Can\\'t get traceback, this shouldn\\'t happen\"',\n",
       "  'try:\\n    raise ValueError\\nexcept ValueError:\\n    _, _, tb = sys.exc_info()\\n    assert tb, \"Can\\'t get traceback, this shouldn\\'t happen\"',\n",
       "  \"import os\\nimport sys\\nos.chdir('/scratch/i10-bluesky/src/')\\nfrom i10_bluesky.devices.rasor.detectorSlits import *\\nfrom i10_bluesky.devices.scalerCard import ScaleCard\\nfrom bluesky import RunEngine\\nfrom ophyd_async.core import DeviceCollector \\nimport bluesky.plan_stubs as bps\\nfrom bluesky.plans import count, scan \\nfrom ophyd.sim import motor1,det1\\nfrom bluesky.callbacks.best_effort import BestEffortCallback\\nfrom epics import caget\\nimport asyncio\\nfrom unittest.mock import Mock, call\\n\\nimport pytest\\nfrom ophyd_async.core import (\\n    DeviceCollector,\\n    set_sim_put_proceeds,\\n    set_sim_value,\\n)\\nloop = asyncio.get_event_loop()\\nbec = BestEffortCallback()\\nRE = RunEngine({})\",\n",
       "  'try:\\n    raise ValueError\\nexcept ValueError:\\n    _, _, tb = sys.exc_info()\\n    assert tb, \"Can\\'t get traceback, this shouldn\\'t happen\"',\n",
       "  'tb',\n",
       "  'tb.tb_frame',\n",
       "  'tb.tb_frame.f_locals',\n",
       "  'tb.tb_frame.f_locals.get(\"self\")',\n",
       "  'tb.tb_frame.f_locals.get()',\n",
       "  'tb.tb_frame.f_locals',\n",
       "  'tb.tb_frame.f_locals.get(\"__name__\")',\n",
       "  'tb.tb_frame.f_locals.get(\"__\")',\n",
       "  'tb.tb_frame.f_locals.get()',\n",
       "  'tb.tb_frame.f_locals',\n",
       "  'tb.tb_frame.f_locals.get(\"__\")',\n",
       "  'tb.tb_frame.f_locals.get(\"_\")',\n",
       "  'tb.tb_frame.f_locals.get(\"\")',\n",
       "  'tb.tb_frame',\n",
       "  'tb.tb_frame.f_globals',\n",
       "  'tb.tb_frame.f_locals'],\n",
       " '_oh': {3: {'setpoint': <ophyd_async.core.signal.SignalRW at 0x7fd68bfea550>,\n",
       "   'readback': <ophyd_async.core.signal.SignalR at 0x7fd68bb97d10>,\n",
       "   'velocity': <ophyd_async.core.signal.SignalRW at 0x7fd68bb97b10>,\n",
       "   'units': <ophyd_async.core.signal.SignalR at 0x7fd68bb97d90>,\n",
       "   'precision': <ophyd_async.core.signal.SignalR at 0x7fd68bb97e50>,\n",
       "   'stop_': <ophyd_async.core.signal.SignalX at 0x7fd68bb97f10>,\n",
       "   '_set_success': True,\n",
       "   '_read_signals': (<ophyd_async.core.signal.SignalR at 0x7fd68bb97d10>,),\n",
       "   '_configuration_signals': (<ophyd_async.core.signal.SignalRW at 0x7fd68bb97b10>,\n",
       "    <ophyd_async.core.signal.SignalR at 0x7fd68bb97d90>),\n",
       "   '_read_uncached_signals': (),\n",
       "   '_name': 'detSlits-dsu',\n",
       "   'parent': <i10_bluesky.devices.rasor.detectorSlits.DetectorSlits at 0x7fd6a43a92d0>},\n",
       "  4: <ophyd_async.core.signal.SignalRW at 0x7fd68bfea550>,\n",
       "  5: <i10_bluesky.devices.rasor.detectorSlits.DetectorSlits at 0x7fd68bff1310>,\n",
       "  6: <coroutine object SignalR.get_value at 0x7fd68bb56d40>,\n",
       "  8: <Task finished name='Task-21' coro=<SignalR.get_value() done, defined at /venv/lib/python3.11/site-packages/ophyd_async/core/signal.py:28> result='mm'>,\n",
       "  16: '9',\n",
       "  17: dict_items([('name', '9')]),\n",
       "  20: ophyd_async.core.device.DeviceVector,\n",
       "  24: {'name': '9'},\n",
       "  29: {'name': '9'},\n",
       "  32: {'name': '9'},\n",
       "  35: {'name': '9', 'name2': '4', 'name4': '94'},\n",
       "  42: <traceback at 0x7fd68a48b180>,\n",
       "  43: <frame at 0x7fd68a8843b0, file '/tmp/ipykernel_677977/2272674088.py', line 5, code <module>>,\n",
       "  44: {...},\n",
       "  47: {...},\n",
       "  48: '__main__',\n",
       "  49: {'name': '9'},\n",
       "  51: {...},\n",
       "  52: {'name': '9'},\n",
       "  53: ValueError(),\n",
       "  55: <frame at 0x7fd68a8843b0, file '/tmp/ipykernel_677977/2272674088.py', line 5, code <module>>,\n",
       "  56: {...}},\n",
       " '_dh': [PosixPath('/scratch/i10-bluesky/tests/stubs')],\n",
       " 'In': ['',\n",
       "  \"import os\\nos.chdir('/scratch/i10-bluesky/src/')\\nfrom i10_bluesky.devices.rasor.detectorSlits import *\\nfrom i10_bluesky.devices.scalerCard import ScaleCard\\nfrom bluesky import RunEngine\\nfrom ophyd_async.core import DeviceCollector \\nimport bluesky.plan_stubs as bps\\nfrom bluesky.plans import count, scan \\nfrom ophyd.sim import motor1,det1\\nfrom bluesky.callbacks.best_effort import BestEffortCallback\\nfrom epics import caget\\nimport asyncio\\nfrom unittest.mock import Mock, call\\n\\nimport pytest\\nfrom ophyd_async.core import (\\n    DeviceCollector,\\n    set_sim_put_proceeds,\\n    set_sim_value,\\n)\\nloop = asyncio.get_event_loop()\\nbec = BestEffortCallback()\\nRE = RunEngine({})\",\n",
       "  'ds = DetectorSlits(\\'ME01D-MO-APTR\\',name = \"detSlits\")',\n",
       "  'ds.dsu.__dict__',\n",
       "  'ds.dsu.__dict__[\"setpoint\"]',\n",
       "  'with DeviceCollector(sim=True):\\n    simSlits = DetectorSlits(\"BLxxI-MO-TABLE\", \"ds\")\\n    # Signals connected here\\n\\naSlits = [\"dsd\", \"dsu\"] \\nassert simSlits.dsd.name == \"ds-dsd\"\\nassert simSlits.dsu.name == \"ds-dsu\"\\n\\nset_sim_value(simSlits.dsd.units, \"mm\")\\nset_sim_value(simSlits.dsd.precision, 3)\\nset_sim_value(simSlits.dsd.velocity, 1)\\nsimSlits',\n",
       "  'simSlits.dsd.units.get_value()',\n",
       "  'result = loop.create_task(simSlits.dsd.units.get_value())',\n",
       "  'result',\n",
       "  'result.items()',\n",
       "  'class Hihi(Hi):\\n    def __init__(self, temp:str):\\n        self.name = temp\\n    def name(self) -> str:\\n        print(\"getter\")\\n        return self.name\\n    def huh(self):\\n        print(self.item())\\n        ',\n",
       "  'from abc import abstractmethod\\nfrom typing import (\\n    Any,\\n    AsyncIterator,\\n    Awaitable,\\n    Callable,\\n    Dict,\\n    Generic,\\n    Iterator,\\n    List,\\n    Literal,\\n    Optional,\\n    Protocol,\\n    Tuple,\\n    Type,\\n    TypeVar,\\n    Union,\\n    runtime_checkable\\n)\\n@runtime_checkable\\nclass Hi(Protocol):\\n    @property\\n    @abstractmethod\\n    def name(self) -> str:\\n        ...\\n        \\n        ',\n",
       "  'class Hihi(Hi):\\n    def __init__(self, temp:Union[List]):\\n        self.name = temp\\n    @property\\n    def name(self) -> str:\\n        print(\"getter\")\\n        return self._name\\n    @name.setter\\n    def name(self,value)-> None:\\n        print(\"setter\")\\n        self._name = value\\n        ',\n",
       "  'class Hihi(Hi):\\n    def __init__(self, temp:str):\\n        self.name = temp\\n    def name(self) -> str:\\n        print(\"getter\")\\n        return self.name\\n    def huh(self):\\n        print(self.item())\\n        ',\n",
       "  'ar1 = Hihi(\"9\")',\n",
       "  'ar1.huh()',\n",
       "  'ar1.name',\n",
       "  'ar1.__dict__.items()',\n",
       "  'from ophyd_async.core import Device',\n",
       "  'from ophyd_async.core import Device, DeviceVector',\n",
       "  'DeviceVector',\n",
       "  'k = DeviceVector([1,ds],ds.dsd)',\n",
       "  'k = DeviceVector([1,ds])',\n",
       "  'k = DeviceVector(ar1.__dict__)',\n",
       "  'k',\n",
       "  'k = DeviceVector(ar1.__dict__, ar1.__dict__)',\n",
       "  'k = DeviceVector([ar1.__dict__, ar1.__dict__])',\n",
       "  'w = {ar1.__dict__, ar1.__dict__)}',\n",
       "  'w = {ar1.__dict__, ar1.__dict__}',\n",
       "  'k',\n",
       "  'w = {ar1.__dict__}',\n",
       "  'w',\n",
       "  'ar1.__dict__',\n",
       "  \"w = {'name': '9','name2': '4','name4': '94'}\",\n",
       "  'k = DeviceVector(w)',\n",
       "  'k',\n",
       "  'try:\\n            raise ValueError\\n        except ValueError:\\n            _, _, tb = sys.exc_info()\\n            assert tb, \"Can\\'t get traceback, this shouldn\\'t happen\"',\n",
       "  'try:\\n    raise ValueError\\nexcept ValueError:\\n    _, _, tb = sys.exc_info()\\n            assert tb, \"Can\\'t get traceback, this shouldn\\'t happen\"',\n",
       "  'try:\\n    raise ValueError\\nexcept ValueError:\\n    _, _, tb = sys.exc_info()\\n    assert tb, \"Can\\'t get traceback, this shouldn\\'t happen\"',\n",
       "  \"import os\\nimport sys\\nos.chdir('/scratch/i10-bluesky/src/')\\nfrom i10_bluesky.devices.rasor.detectorSlits import *\\nfrom i10_bluesky.devices.scalerCard import ScaleCard\\nfrom bluesky import RunEngine\\nfrom ophyd_async.core import DeviceCollector \\nimport bluesky.plan_stubs as bps\\nfrom bluesky.plans import count, scan \\nfrom ophyd.sim import motor1,det1\\nfrom bluesky.callbacks.best_effort import BestEffortCallback\\nfrom epics import caget\\nimport asyncio\\nfrom unittest.mock import Mock, call\\n\\nimport pytest\\nfrom ophyd_async.core import (\\n    DeviceCollector,\\n    set_sim_put_proceeds,\\n    set_sim_value,\\n)\\nloop = asyncio.get_event_loop()\\nbec = BestEffortCallback()\\nRE = RunEngine({})\",\n",
       "  'try:\\n    raise ValueError\\nexcept ValueError:\\n    _, _, tb = sys.exc_info()\\n    assert tb, \"Can\\'t get traceback, this shouldn\\'t happen\"',\n",
       "  'tb',\n",
       "  'tb.tb_frame',\n",
       "  'tb.tb_frame.f_locals',\n",
       "  'tb.tb_frame.f_locals.get(\"self\")',\n",
       "  'tb.tb_frame.f_locals.get()',\n",
       "  'tb.tb_frame.f_locals',\n",
       "  'tb.tb_frame.f_locals.get(\"__name__\")',\n",
       "  'tb.tb_frame.f_locals.get(\"__\")',\n",
       "  'tb.tb_frame.f_locals.get()',\n",
       "  'tb.tb_frame.f_locals',\n",
       "  'tb.tb_frame.f_locals.get(\"__\")',\n",
       "  'tb.tb_frame.f_locals.get(\"_\")',\n",
       "  'tb.tb_frame.f_locals.get(\"\")',\n",
       "  'tb.tb_frame',\n",
       "  'tb.tb_frame.f_globals',\n",
       "  'tb.tb_frame.f_locals'],\n",
       " 'Out': {3: {'setpoint': <ophyd_async.core.signal.SignalRW at 0x7fd68bfea550>,\n",
       "   'readback': <ophyd_async.core.signal.SignalR at 0x7fd68bb97d10>,\n",
       "   'velocity': <ophyd_async.core.signal.SignalRW at 0x7fd68bb97b10>,\n",
       "   'units': <ophyd_async.core.signal.SignalR at 0x7fd68bb97d90>,\n",
       "   'precision': <ophyd_async.core.signal.SignalR at 0x7fd68bb97e50>,\n",
       "   'stop_': <ophyd_async.core.signal.SignalX at 0x7fd68bb97f10>,\n",
       "   '_set_success': True,\n",
       "   '_read_signals': (<ophyd_async.core.signal.SignalR at 0x7fd68bb97d10>,),\n",
       "   '_configuration_signals': (<ophyd_async.core.signal.SignalRW at 0x7fd68bb97b10>,\n",
       "    <ophyd_async.core.signal.SignalR at 0x7fd68bb97d90>),\n",
       "   '_read_uncached_signals': (),\n",
       "   '_name': 'detSlits-dsu',\n",
       "   'parent': <i10_bluesky.devices.rasor.detectorSlits.DetectorSlits at 0x7fd6a43a92d0>},\n",
       "  4: <ophyd_async.core.signal.SignalRW at 0x7fd68bfea550>,\n",
       "  5: <i10_bluesky.devices.rasor.detectorSlits.DetectorSlits at 0x7fd68bff1310>,\n",
       "  6: <coroutine object SignalR.get_value at 0x7fd68bb56d40>,\n",
       "  8: <Task finished name='Task-21' coro=<SignalR.get_value() done, defined at /venv/lib/python3.11/site-packages/ophyd_async/core/signal.py:28> result='mm'>,\n",
       "  16: '9',\n",
       "  17: dict_items([('name', '9')]),\n",
       "  20: ophyd_async.core.device.DeviceVector,\n",
       "  24: {'name': '9'},\n",
       "  29: {'name': '9'},\n",
       "  32: {'name': '9'},\n",
       "  35: {'name': '9', 'name2': '4', 'name4': '94'},\n",
       "  42: <traceback at 0x7fd68a48b180>,\n",
       "  43: <frame at 0x7fd68a8843b0, file '/tmp/ipykernel_677977/2272674088.py', line 5, code <module>>,\n",
       "  44: {...},\n",
       "  47: {...},\n",
       "  48: '__main__',\n",
       "  49: {'name': '9'},\n",
       "  51: {...},\n",
       "  52: {'name': '9'},\n",
       "  53: ValueError(),\n",
       "  55: <frame at 0x7fd68a8843b0, file '/tmp/ipykernel_677977/2272674088.py', line 5, code <module>>,\n",
       "  56: {...}},\n",
       " 'get_ipython': <bound method InteractiveShell.get_ipython of <ipykernel.zmqshell.ZMQInteractiveShell object at 0x7fd727bdd610>>,\n",
       " 'exit': <IPython.core.autocall.ZMQExitAutocall at 0x7fd727be5dd0>,\n",
       " 'quit': <IPython.core.autocall.ZMQExitAutocall at 0x7fd727be5dd0>,\n",
       " 'open': <function io.open(file, mode='r', buffering=-1, encoding=None, errors=None, newline=None, closefd=True, opener=None)>,\n",
       " '_': ValueError(),\n",
       " '__': {'name': '9'},\n",
       " '___': {'name': '9'},\n",
       " '__session__': '/scratch/i10-bluesky/tests/stubs/madtest.ipynb',\n",
       " '_i': 'tb.tb_frame.f_globals',\n",
       " '_ii': 'tb.tb_frame',\n",
       " '_iii': 'tb.tb_frame.f_locals.get(\"\")',\n",
       " '_i1': \"import os\\nos.chdir('/scratch/i10-bluesky/src/')\\nfrom i10_bluesky.devices.rasor.detectorSlits import *\\nfrom i10_bluesky.devices.scalerCard import ScaleCard\\nfrom bluesky import RunEngine\\nfrom ophyd_async.core import DeviceCollector \\nimport bluesky.plan_stubs as bps\\nfrom bluesky.plans import count, scan \\nfrom ophyd.sim import motor1,det1\\nfrom bluesky.callbacks.best_effort import BestEffortCallback\\nfrom epics import caget\\nimport asyncio\\nfrom unittest.mock import Mock, call\\n\\nimport pytest\\nfrom ophyd_async.core import (\\n    DeviceCollector,\\n    set_sim_put_proceeds,\\n    set_sim_value,\\n)\\nloop = asyncio.get_event_loop()\\nbec = BestEffortCallback()\\nRE = RunEngine({})\",\n",
       " 'os': <module 'os' (frozen)>,\n",
       " 'Device': ophyd_async.core.device.Device,\n",
       " 'Motor': ophyd_async.epics.motion.motor.Motor,\n",
       " 'DetectorSlits': i10_bluesky.devices.rasor.detectorSlits.DetectorSlits,\n",
       " 'ScaleCard': i10_bluesky.devices.scalerCard.ScaleCard,\n",
       " 'RunEngine': bluesky.run_engine.RunEngine,\n",
       " 'DeviceCollector': ophyd_async.core.device.DeviceCollector,\n",
       " 'bps': <module 'bluesky.plan_stubs' from '/venv/lib/python3.11/site-packages/bluesky/plan_stubs.py'>,\n",
       " 'count': <function bluesky.plans.count(detectors, num=1, delay=None, *, per_shot=None, md=None)>,\n",
       " 'scan': <function bluesky.plans.scan(detectors, *args, num=None, per_step=None, md=None)>,\n",
       " 'motor1': SynAxis(prefix='', name='motor1', read_attrs=['readback', 'setpoint'], configuration_attrs=['velocity', 'acceleration']),\n",
       " 'det1': SynGauss(prefix='', name='det1', read_attrs=['val'], configuration_attrs=['Imax', 'center', 'sigma', 'noise', 'noise_multiplier']),\n",
       " 'BestEffortCallback': bluesky.callbacks.best_effort.BestEffortCallback,\n",
       " 'caget': <function epics.caget(pvname, as_string=False, count=None, as_numpy=True, use_monitor=True, timeout=5.0, connection_timeout=5.0)>,\n",
       " 'asyncio': <module 'asyncio' from '/usr/local/lib/python3.11/asyncio/__init__.py'>,\n",
       " 'Mock': unittest.mock.Mock,\n",
       " 'call': call,\n",
       " 'pytest': <module 'pytest' from '/venv/lib/python3.11/site-packages/pytest/__init__.py'>,\n",
       " 'set_sim_put_proceeds': <function ophyd_async.core.signal.set_sim_put_proceeds(signal: 'Signal[T]', proceeds: 'bool')>,\n",
       " 'set_sim_value': <function ophyd_async.core.signal.set_sim_value(signal: 'Signal[T]', value: 'T')>,\n",
       " 'loop': <_UnixSelectorEventLoop running=True closed=False debug=False>,\n",
       " 'bec': <bluesky.callbacks.best_effort.BestEffortCallback at 0x7fd68b289090>,\n",
       " 'RE': <bluesky.run_engine.RunEngine at 0x7fd68bbb11d0>,\n",
       " '_i2': 'ds = DetectorSlits(\\'ME01D-MO-APTR\\',name = \"detSlits\")',\n",
       " 'ds': <i10_bluesky.devices.rasor.detectorSlits.DetectorSlits at 0x7fd6a43a92d0>,\n",
       " '_i3': 'ds.dsu.__dict__',\n",
       " '_3': {'setpoint': <ophyd_async.core.signal.SignalRW at 0x7fd68bfea550>,\n",
       "  'readback': <ophyd_async.core.signal.SignalR at 0x7fd68bb97d10>,\n",
       "  'velocity': <ophyd_async.core.signal.SignalRW at 0x7fd68bb97b10>,\n",
       "  'units': <ophyd_async.core.signal.SignalR at 0x7fd68bb97d90>,\n",
       "  'precision': <ophyd_async.core.signal.SignalR at 0x7fd68bb97e50>,\n",
       "  'stop_': <ophyd_async.core.signal.SignalX at 0x7fd68bb97f10>,\n",
       "  '_set_success': True,\n",
       "  '_read_signals': (<ophyd_async.core.signal.SignalR at 0x7fd68bb97d10>,),\n",
       "  '_configuration_signals': (<ophyd_async.core.signal.SignalRW at 0x7fd68bb97b10>,\n",
       "   <ophyd_async.core.signal.SignalR at 0x7fd68bb97d90>),\n",
       "  '_read_uncached_signals': (),\n",
       "  '_name': 'detSlits-dsu',\n",
       "  'parent': <i10_bluesky.devices.rasor.detectorSlits.DetectorSlits at 0x7fd6a43a92d0>},\n",
       " '_i4': 'ds.dsu.__dict__[\"setpoint\"]',\n",
       " '_4': <ophyd_async.core.signal.SignalRW at 0x7fd68bfea550>,\n",
       " '_i5': '\\nwith DeviceCollector(sim=True):\\n    simSlits = DetectorSlits(\"BLxxI-MO-TABLE\", \"ds\")\\n    # Signals connected here\\n\\naSlits = [\"dsd\", \"dsu\"] \\nassert simSlits.dsd.name == \"ds-dsd\"\\nassert simSlits.dsu.name == \"ds-dsu\"\\n\\nset_sim_value(simSlits.dsd.units, \"mm\")\\nset_sim_value(simSlits.dsd.precision, 3)\\nset_sim_value(simSlits.dsd.velocity, 1)\\nsimSlits',\n",
       " 'simSlits': <i10_bluesky.devices.rasor.detectorSlits.DetectorSlits at 0x7fd68bff1310>,\n",
       " 'aSlits': ['dsd', 'dsu'],\n",
       " '_5': <i10_bluesky.devices.rasor.detectorSlits.DetectorSlits at 0x7fd68bff1310>,\n",
       " '_i6': 'simSlits.dsd.units.get_value()',\n",
       " '_6': <coroutine object SignalR.get_value at 0x7fd68bb56d40>,\n",
       " '_i7': 'result = loop.create_task(simSlits.dsd.units.get_value())',\n",
       " 'result': <Task finished name='Task-21' coro=<SignalR.get_value() done, defined at /venv/lib/python3.11/site-packages/ophyd_async/core/signal.py:28> result='mm'>,\n",
       " '_i8': 'result',\n",
       " '_8': <Task finished name='Task-21' coro=<SignalR.get_value() done, defined at /venv/lib/python3.11/site-packages/ophyd_async/core/signal.py:28> result='mm'>,\n",
       " '_i9': 'result.items()',\n",
       " '_i10': 'class Hihi(Hi):\\n    def __init__(self, temp:str):\\n        self.name = temp\\n    def name(self) -> str:\\n        print(\"getter\")\\n        return self.name\\n    def huh(self):\\n        print(self.item())\\n        ',\n",
       " '_i11': 'from abc import abstractmethod\\nfrom typing import (\\n    Any,\\n    AsyncIterator,\\n    Awaitable,\\n    Callable,\\n    Dict,\\n    Generic,\\n    Iterator,\\n    List,\\n    Literal,\\n    Optional,\\n    Protocol,\\n    Tuple,\\n    Type,\\n    TypeVar,\\n    Union,\\n    runtime_checkable\\n)\\n@runtime_checkable\\nclass Hi(Protocol):\\n    @property\\n    @abstractmethod\\n    def name(self) -> str:\\n        ...\\n        \\n        ',\n",
       " 'abstractmethod': <function abc.abstractmethod(funcobj)>,\n",
       " 'Any': typing.Any,\n",
       " 'AsyncIterator': typing.AsyncIterator,\n",
       " 'Awaitable': typing.Awaitable,\n",
       " 'Callable': typing.Callable,\n",
       " 'Dict': typing.Dict,\n",
       " 'Generic': typing.Generic,\n",
       " 'Iterator': typing.Iterator,\n",
       " 'List': typing.List,\n",
       " 'Literal': typing.Literal,\n",
       " 'Optional': typing.Optional,\n",
       " 'Protocol': typing.Protocol,\n",
       " 'Tuple': typing.Tuple,\n",
       " 'Type': typing.Type,\n",
       " 'TypeVar': typing.TypeVar,\n",
       " 'Union': typing.Union,\n",
       " 'runtime_checkable': <function typing.runtime_checkable(cls)>,\n",
       " 'Hi': __main__.Hi,\n",
       " '_i12': 'class Hihi(Hi):\\n    def __init__(self, temp:Union[List]):\\n        self.name = temp\\n    @property\\n    def name(self) -> str:\\n        print(\"getter\")\\n        return self._name\\n    @name.setter\\n    def name(self,value)-> None:\\n        print(\"setter\")\\n        self._name = value\\n        ',\n",
       " 'Hihi': __main__.Hihi,\n",
       " '_i13': 'class Hihi(Hi):\\n    def __init__(self, temp:str):\\n        self.name = temp\\n    def name(self) -> str:\\n        print(\"getter\")\\n        return self.name\\n    def huh(self):\\n        print(self.item())\\n        ',\n",
       " '_i14': 'ar1 = Hihi(\"9\")',\n",
       " 'ar1': <__main__.Hihi at 0x7fd68b62a590>,\n",
       " '_i15': 'ar1.huh()',\n",
       " '_i16': 'ar1.name',\n",
       " '_16': '9',\n",
       " '_i17': 'ar1.__dict__.items()',\n",
       " '_17': dict_items([('name', '9')]),\n",
       " '_i18': 'from ophyd_async.core import Device',\n",
       " '_i19': 'from ophyd_async.core import Device, DeviceVector',\n",
       " 'DeviceVector': ophyd_async.core.device.DeviceVector,\n",
       " '_i20': 'DeviceVector',\n",
       " '_20': ophyd_async.core.device.DeviceVector,\n",
       " '_i21': 'k = DeviceVector([1,ds],ds.dsd)',\n",
       " '_i22': 'k = DeviceVector([1,ds])',\n",
       " '_i23': 'k = DeviceVector(ar1.__dict__)',\n",
       " 'k': {'name': '9', 'name2': '4', 'name4': '94'},\n",
       " '_i24': 'k',\n",
       " '_24': {'name': '9'},\n",
       " '_i25': 'k = DeviceVector(ar1.__dict__, ar1.__dict__)',\n",
       " '_i26': 'k = DeviceVector([ar1.__dict__, ar1.__dict__])',\n",
       " '_i27': 'w = {ar1.__dict__, ar1.__dict__)}',\n",
       " '_i28': 'w = {ar1.__dict__, ar1.__dict__}',\n",
       " '_i29': 'k',\n",
       " '_29': {'name': '9'},\n",
       " '_i30': 'w = {ar1.__dict__}',\n",
       " '_i31': 'w',\n",
       " '_i32': 'ar1.__dict__',\n",
       " '_32': {'name': '9'},\n",
       " '_i33': \"w = {'name': '9','name2': '4','name4': '94'}\",\n",
       " 'w': {'name': '9', 'name2': '4', 'name4': '94'},\n",
       " '_i34': 'k = DeviceVector(w)',\n",
       " '_i35': 'k',\n",
       " '_35': {'name': '9', 'name2': '4', 'name4': '94'},\n",
       " '_i36': 'try:\\n            raise ValueError\\n        except ValueError:\\n            _, _, tb = sys.exc_info()\\n            assert tb, \"Can\\'t get traceback, this shouldn\\'t happen\"',\n",
       " '_i38': 'try:\\n    raise ValueError\\nexcept ValueError:\\n    _, _, tb = sys.exc_info()\\n            assert tb, \"Can\\'t get traceback, this shouldn\\'t happen\"',\n",
       " '_i39': 'try:\\n    raise ValueError\\nexcept ValueError:\\n    _, _, tb = sys.exc_info()\\n    assert tb, \"Can\\'t get traceback, this shouldn\\'t happen\"',\n",
       " '_i40': \"import os\\nimport sys\\nos.chdir('/scratch/i10-bluesky/src/')\\nfrom i10_bluesky.devices.rasor.detectorSlits import *\\nfrom i10_bluesky.devices.scalerCard import ScaleCard\\nfrom bluesky import RunEngine\\nfrom ophyd_async.core import DeviceCollector \\nimport bluesky.plan_stubs as bps\\nfrom bluesky.plans import count, scan \\nfrom ophyd.sim import motor1,det1\\nfrom bluesky.callbacks.best_effort import BestEffortCallback\\nfrom epics import caget\\nimport asyncio\\nfrom unittest.mock import Mock, call\\n\\nimport pytest\\nfrom ophyd_async.core import (\\n    DeviceCollector,\\n    set_sim_put_proceeds,\\n    set_sim_value,\\n)\\nloop = asyncio.get_event_loop()\\nbec = BestEffortCallback()\\nRE = RunEngine({})\",\n",
       " 'sys': <module 'sys' (built-in)>,\n",
       " '_i41': 'try:\\n    raise ValueError\\nexcept ValueError:\\n    _, _, tb = sys.exc_info()\\n    assert tb, \"Can\\'t get traceback, this shouldn\\'t happen\"',\n",
       " 'tb': <traceback at 0x7fd68a48b180>,\n",
       " '_i42': 'tb',\n",
       " '_42': <traceback at 0x7fd68a48b180>,\n",
       " '_i43': 'tb.tb_frame',\n",
       " '_43': <frame at 0x7fd68a8843b0, file '/tmp/ipykernel_677977/2272674088.py', line 5, code <module>>,\n",
       " '_i44': 'tb.tb_frame.f_locals',\n",
       " '_44': {...},\n",
       " '_i45': 'tb.tb_frame.f_locals.get(\"self\")',\n",
       " '_i46': 'tb.tb_frame.f_locals.get()',\n",
       " '_i47': 'tb.tb_frame.f_locals',\n",
       " '_47': {...},\n",
       " '_i48': 'tb.tb_frame.f_locals.get(\"__name__\")',\n",
       " '_48': '__main__',\n",
       " '_i49': 'tb.tb_frame.f_locals.get(\"__\")',\n",
       " '_49': {'name': '9'},\n",
       " '_i50': 'tb.tb_frame.f_locals.get()',\n",
       " '_i51': 'tb.tb_frame.f_locals',\n",
       " '_51': {...},\n",
       " '_i52': 'tb.tb_frame.f_locals.get(\"__\")',\n",
       " '_52': {'name': '9'},\n",
       " '_i53': 'tb.tb_frame.f_locals.get(\"_\")',\n",
       " '_53': ValueError(),\n",
       " '_i54': 'tb.tb_frame.f_locals.get(\"\")',\n",
       " '_i55': 'tb.tb_frame',\n",
       " '_55': <frame at 0x7fd68a8843b0, file '/tmp/ipykernel_677977/2272674088.py', line 5, code <module>>,\n",
       " '_i56': 'tb.tb_frame.f_globals',\n",
       " '_56': {...},\n",
       " '_i57': 'tb.tb_frame.f_locals'}"
      ]
     },
     "execution_count": 57,
     "metadata": {},
     "output_type": "execute_result"
    }
   ],
   "source": [
    "tb.tb_frame.f_locals"
   ]
  },
  {
   "cell_type": "code",
   "execution_count": 58,
   "id": "cffb0547-1017-46f0-9cf0-0689e176e3a6",
   "metadata": {},
   "outputs": [],
   "source": [
    "import traceback"
   ]
  },
  {
   "cell_type": "code",
   "execution_count": 86,
   "id": "660ad23e-0c3c-44ac-ba65-a23adac16112",
   "metadata": {},
   "outputs": [
    {
     "ename": "NameError",
     "evalue": "name 'exc_type' is not defined",
     "output_type": "error",
     "traceback": [
      "\u001b[0;31m---------------------------------------------------------------------------\u001b[0m",
      "\u001b[0;31mValueError\u001b[0m                                Traceback (most recent call last)",
      "Cell \u001b[0;32mIn[86], line 2\u001b[0m\n\u001b[1;32m      1\u001b[0m \u001b[38;5;28;01mtry\u001b[39;00m:\n\u001b[0;32m----> 2\u001b[0m     \u001b[38;5;28;01mraise\u001b[39;00m \u001b[38;5;167;01mValueError\u001b[39;00m\n\u001b[1;32m      3\u001b[0m \u001b[38;5;28;01mexcept\u001b[39;00m \u001b[38;5;167;01mException\u001b[39;00m:\n",
      "\u001b[0;31mValueError\u001b[0m: ",
      "\nDuring handling of the above exception, another exception occurred:\n",
      "\u001b[0;31mNameError\u001b[0m                                 Traceback (most recent call last)",
      "Cell \u001b[0;32mIn[86], line 4\u001b[0m\n\u001b[1;32m      2\u001b[0m     \u001b[38;5;28;01mraise\u001b[39;00m \u001b[38;5;167;01mValueError\u001b[39;00m\n\u001b[1;32m      3\u001b[0m \u001b[38;5;28;01mexcept\u001b[39;00m \u001b[38;5;167;01mException\u001b[39;00m:\n\u001b[0;32m----> 4\u001b[0m     tw \u001b[38;5;241m=\u001b[39mtraceback\u001b[38;5;241m.\u001b[39mTracebackException(\u001b[43mexc_type\u001b[49m, exc_value, exc_tb)\n",
      "\u001b[0;31mNameError\u001b[0m: name 'exc_type' is not defined"
     ]
    }
   ],
   "source": [
    "try:\n",
    "    raise ValueError\n",
    "except Exception:\n",
    "    tw =traceback.TracebackException(exc_type, exc_value, exc_tb)"
   ]
  },
  {
   "cell_type": "code",
   "execution_count": 84,
   "id": "55f48a4c-9d39-4d93-8960-4bf25d416c71",
   "metadata": {},
   "outputs": [
    {
     "data": {
      "text/plain": [
       "[<FrameSummary file <frozen runpy>, line 198 in _run_module_as_main>,\n",
       " <FrameSummary file <frozen runpy>, line 88 in _run_code>,\n",
       " <FrameSummary file /venv/lib/python3.11/site-packages/ipykernel_launcher.py, line 18 in <module>>,\n",
       " <FrameSummary file /venv/lib/python3.11/site-packages/traitlets/config/application.py, line 1075 in launch_instance>,\n",
       " <FrameSummary file /venv/lib/python3.11/site-packages/ipykernel/kernelapp.py, line 739 in start>,\n",
       " <FrameSummary file /venv/lib/python3.11/site-packages/tornado/platform/asyncio.py, line 205 in start>,\n",
       " <FrameSummary file /usr/local/lib/python3.11/asyncio/base_events.py, line 608 in run_forever>,\n",
       " <FrameSummary file /usr/local/lib/python3.11/asyncio/base_events.py, line 1936 in _run_once>,\n",
       " <FrameSummary file /usr/local/lib/python3.11/asyncio/events.py, line 84 in _run>,\n",
       " <FrameSummary file /venv/lib/python3.11/site-packages/ipykernel/kernelbase.py, line 545 in dispatch_queue>,\n",
       " <FrameSummary file /venv/lib/python3.11/site-packages/ipykernel/kernelbase.py, line 534 in process_one>,\n",
       " <FrameSummary file /venv/lib/python3.11/site-packages/ipykernel/kernelbase.py, line 437 in dispatch_shell>,\n",
       " <FrameSummary file /venv/lib/python3.11/site-packages/ipykernel/ipkernel.py, line 359 in execute_request>,\n",
       " <FrameSummary file /venv/lib/python3.11/site-packages/ipykernel/kernelbase.py, line 778 in execute_request>,\n",
       " <FrameSummary file /venv/lib/python3.11/site-packages/ipykernel/ipkernel.py, line 446 in do_execute>,\n",
       " <FrameSummary file /venv/lib/python3.11/site-packages/ipykernel/zmqshell.py, line 549 in run_cell>,\n",
       " <FrameSummary file /venv/lib/python3.11/site-packages/IPython/core/interactiveshell.py, line 3075 in run_cell>,\n",
       " <FrameSummary file /venv/lib/python3.11/site-packages/IPython/core/interactiveshell.py, line 3130 in _run_cell>,\n",
       " <FrameSummary file /venv/lib/python3.11/site-packages/IPython/core/async_helpers.py, line 129 in _pseudo_sync_runner>,\n",
       " <FrameSummary file /venv/lib/python3.11/site-packages/IPython/core/interactiveshell.py, line 3334 in run_cell_async>,\n",
       " <FrameSummary file /venv/lib/python3.11/site-packages/IPython/core/interactiveshell.py, line 3517 in run_ast_nodes>,\n",
       " <FrameSummary file /venv/lib/python3.11/site-packages/IPython/core/interactiveshell.py, line 3577 in run_code>,\n",
       " <FrameSummary file /tmp/ipykernel_677977/3963501648.py, line 4 in <module>>]"
      ]
     },
     "execution_count": 84,
     "metadata": {},
     "output_type": "execute_result"
    }
   ],
   "source": []
  },
  {
   "cell_type": "code",
   "execution_count": null,
   "id": "ece5bf86-94f5-4696-9459-5fb488851060",
   "metadata": {},
   "outputs": [],
   "source": []
  }
 ],
 "metadata": {
  "kernelspec": {
   "display_name": "Python 3 (ipykernel)",
   "language": "python",
   "name": "python3"
  },
  "language_info": {
   "codemirror_mode": {
    "name": "ipython",
    "version": 3
   },
   "file_extension": ".py",
   "mimetype": "text/x-python",
   "name": "python",
   "nbconvert_exporter": "python",
   "pygments_lexer": "ipython3",
   "version": "3.11.8"
  }
 },
 "nbformat": 4,
 "nbformat_minor": 5
}
