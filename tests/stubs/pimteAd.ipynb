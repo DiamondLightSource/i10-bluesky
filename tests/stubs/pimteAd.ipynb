{
 "cells": [
  {
   "cell_type": "code",
   "execution_count": 16,
   "id": "bb301d15-5db2-419a-a964-bcf2700e6c69",
   "metadata": {},
   "outputs": [],
   "source": [
    "from i10_bluesky.devices.rasor.i10 import pimte\n",
    "from i10_bluesky.devices.rasor.detectorSlits import *\n",
    "from i10_bluesky.devices.pimteAD import HDFStatsPimte\n",
    "from i10_bluesky.epics.pimte_controller import PimteController\n",
    "from ophyd_async.core import DeviceCollector \n",
    "from bluesky.callbacks.best_effort import BestEffortCallback\n",
    "from bluesky import RunEngine\n",
    "import asyncio\n",
    "from dodal.beamlines.beamline_utils import device_instantiation, get_directory_provider, set_directory_provider\n",
    "from ophyd_async.core._providers import DirectoryInfo\n",
    "loop = asyncio.get_event_loop()\n",
    "bec = BestEffortCallback()\n",
    "RE = RunEngine({})\n",
    "dataDir = DirectoryInfo(\"/scratch/i10-bluesky/\", \"rasor/\")"
   ]
  },
  {
   "cell_type": "code",
   "execution_count": 14,
   "id": "e6b2237a-dbc9-4255-90aa-c9f09c2335f9",
   "metadata": {},
   "outputs": [
    {
     "ename": "TypeError",
     "evalue": "HDFStatsPimte.__init__() got multiple values for argument 'directory_provider'",
     "output_type": "error",
     "traceback": [
      "\u001b[0;31m---------------------------------------------------------------------------\u001b[0m",
      "\u001b[0;31mTypeError\u001b[0m                                 Traceback (most recent call last)",
      "Cell \u001b[0;32mIn[14], line 2\u001b[0m\n\u001b[1;32m      1\u001b[0m \u001b[38;5;28;01mwith\u001b[39;00m DeviceCollector():\n\u001b[0;32m----> 2\u001b[0m     ds \u001b[38;5;241m=\u001b[39m\u001b[43mHDFStatsPimte\u001b[49m\u001b[43m(\u001b[49m\n\u001b[1;32m      3\u001b[0m \u001b[43m        \u001b[49m\u001b[38;5;124;43m\"\u001b[39;49m\u001b[38;5;124;43mpimte\u001b[39;49m\u001b[38;5;124;43m\"\u001b[39;49m\u001b[43m,\u001b[49m\n\u001b[1;32m      4\u001b[0m \u001b[43m        \u001b[49m\u001b[38;5;124;43m\"\u001b[39;49m\u001b[38;5;124;43mBL10I-EA-PIMTE-01\u001b[39;49m\u001b[38;5;124;43m\"\u001b[39;49m\u001b[43m,\u001b[49m\n\u001b[1;32m      5\u001b[0m \u001b[43m        \u001b[49m\u001b[38;5;28;43;01mTrue\u001b[39;49;00m\u001b[43m,\u001b[49m\n\u001b[1;32m      6\u001b[0m \u001b[43m        \u001b[49m\u001b[38;5;28;43;01mFalse\u001b[39;49;00m\u001b[43m,\u001b[49m\n\u001b[1;32m      7\u001b[0m \u001b[43m        \u001b[49m\u001b[43mdirectory_provider\u001b[49m\u001b[38;5;241;43m=\u001b[39;49m\u001b[43mdataDir\u001b[49m\u001b[43m,\u001b[49m\n\u001b[1;32m      8\u001b[0m \u001b[43m    \u001b[49m\u001b[43m)\u001b[49m\n\u001b[1;32m      9\u001b[0m     \u001b[38;5;66;03m#pimteR = pimte()\u001b[39;00m\n",
      "\u001b[0;31mTypeError\u001b[0m: HDFStatsPimte.__init__() got multiple values for argument 'directory_provider'"
     ]
    }
   ],
   "source": [
    "pCon = PimteController("
   ]
  },
  {
   "cell_type": "code",
   "execution_count": 3,
   "id": "94d77650-970d-484c-963e-6ff4f82b7505",
   "metadata": {},
   "outputs": [],
   "source": [
    "result = loop.create_task(ds.dsd.read())"
   ]
  },
  {
   "cell_type": "raw",
   "id": "9bbef85b-e753-4bf9-baa4-6960950cacf0",
   "metadata": {},
   "source": [
    "RE(count([ds.dsd,ds.dsu],10,0.2),bec)"
   ]
  },
  {
   "cell_type": "code",
   "execution_count": 2,
   "id": "77b36321-d765-4803-8778-75d0692f1f17",
   "metadata": {},
   "outputs": [
    {
     "ename": "NotConnected",
     "evalue": " Could not connect devices. Is the bluesky event loop running? See https://blueskyproject.io/ophyd-async/main/user/explanations/event-loop-choice.html for more info.\n",
     "output_type": "error",
     "traceback": [
      "\u001b[0;31m---------------------------------------------------------------------------\u001b[0m",
      "\u001b[0;31mRuntimeError\u001b[0m                              Traceback (most recent call last)",
      "File \u001b[0;32m/venv/lib/python3.11/site-packages/ophyd_async/core/device.py:177\u001b[0m, in \u001b[0;36mDeviceCollector.__exit__\u001b[0;34m(self, type_, value, traceback)\u001b[0m\n\u001b[1;32m    176\u001b[0m \u001b[38;5;28;01mtry\u001b[39;00m:\n\u001b[0;32m--> 177\u001b[0m     fut \u001b[38;5;241m=\u001b[39m \u001b[43mcall_in_bluesky_event_loop\u001b[49m\u001b[43m(\u001b[49m\u001b[38;5;28;43mself\u001b[39;49m\u001b[38;5;241;43m.\u001b[39;49m\u001b[43m_on_exit\u001b[49m\u001b[43m(\u001b[49m\u001b[43m)\u001b[49m\u001b[43m)\u001b[49m\n\u001b[1;32m    178\u001b[0m \u001b[38;5;28;01mexcept\u001b[39;00m \u001b[38;5;167;01mRuntimeError\u001b[39;00m:\n",
      "File \u001b[0;32m/venv/lib/python3.11/site-packages/bluesky/run_engine.py:2777\u001b[0m, in \u001b[0;36mcall_in_bluesky_event_loop\u001b[0;34m(coro, timeout)\u001b[0m\n\u001b[1;32m   2776\u001b[0m         coro\u001b[38;5;241m.\u001b[39mclose()\n\u001b[0;32m-> 2777\u001b[0m     \u001b[38;5;28;01mraise\u001b[39;00m \u001b[38;5;167;01mRuntimeError\u001b[39;00m(\u001b[38;5;124m\"\u001b[39m\u001b[38;5;124mBluesky event loop not running\u001b[39m\u001b[38;5;124m\"\u001b[39m)\n\u001b[1;32m   2778\u001b[0m fut \u001b[38;5;241m=\u001b[39m asyncio\u001b[38;5;241m.\u001b[39mrun_coroutine_threadsafe(\n\u001b[1;32m   2779\u001b[0m     coro,\n\u001b[1;32m   2780\u001b[0m     loop\u001b[38;5;241m=\u001b[39m_bluesky_event_loop,\n\u001b[1;32m   2781\u001b[0m )\n",
      "\u001b[0;31mRuntimeError\u001b[0m: Bluesky event loop not running",
      "\nDuring handling of the above exception, another exception occurred:\n",
      "\u001b[0;31mNotConnected\u001b[0m                              Traceback (most recent call last)",
      "Cell \u001b[0;32mIn[2], line 1\u001b[0m\n\u001b[0;32m----> 1\u001b[0m \u001b[38;5;28;43;01mwith\u001b[39;49;00m\u001b[43m \u001b[49m\u001b[43mDeviceCollector\u001b[49m\u001b[43m(\u001b[49m\u001b[43m)\u001b[49m\u001b[43m:\u001b[49m\n\u001b[1;32m      2\u001b[0m \u001b[43m    \u001b[49m\u001b[43mds\u001b[49m\u001b[43m \u001b[49m\u001b[38;5;241;43m=\u001b[39;49m\u001b[43m \u001b[49m\u001b[43mDetectorSlits\u001b[49m\u001b[43m(\u001b[49m\u001b[38;5;124;43m'\u001b[39;49m\u001b[38;5;124;43mME01D-MO-APTR\u001b[39;49m\u001b[38;5;124;43m'\u001b[39;49m\u001b[43m,\u001b[49m\u001b[43mname\u001b[49m\u001b[43m \u001b[49m\u001b[38;5;241;43m=\u001b[39;49m\u001b[43m \u001b[49m\u001b[38;5;124;43m\"\u001b[39;49m\u001b[38;5;124;43mdetSlits\u001b[39;49m\u001b[38;5;124;43m\"\u001b[39;49m\u001b[43m)\u001b[49m\n",
      "File \u001b[0;32m/venv/lib/python3.11/site-packages/ophyd_async/core/device.py:179\u001b[0m, in \u001b[0;36mDeviceCollector.__exit__\u001b[0;34m(self, type_, value, traceback)\u001b[0m\n\u001b[1;32m    177\u001b[0m     fut \u001b[38;5;241m=\u001b[39m call_in_bluesky_event_loop(\u001b[38;5;28mself\u001b[39m\u001b[38;5;241m.\u001b[39m_on_exit())\n\u001b[1;32m    178\u001b[0m \u001b[38;5;28;01mexcept\u001b[39;00m \u001b[38;5;167;01mRuntimeError\u001b[39;00m:\n\u001b[0;32m--> 179\u001b[0m     \u001b[38;5;28;01mraise\u001b[39;00m NotConnected(\n\u001b[1;32m    180\u001b[0m         \u001b[38;5;124m\"\u001b[39m\u001b[38;5;124mCould not connect devices. Is the bluesky event loop running? See \u001b[39m\u001b[38;5;124m\"\u001b[39m\n\u001b[1;32m    181\u001b[0m         \u001b[38;5;124m\"\u001b[39m\u001b[38;5;124mhttps://blueskyproject.io/ophyd-async/main/\u001b[39m\u001b[38;5;124m\"\u001b[39m\n\u001b[1;32m    182\u001b[0m         \u001b[38;5;124m\"\u001b[39m\u001b[38;5;124muser/explanations/event-loop-choice.html for more info.\u001b[39m\u001b[38;5;124m\"\u001b[39m\n\u001b[1;32m    183\u001b[0m     )\n\u001b[1;32m    184\u001b[0m \u001b[38;5;28;01mreturn\u001b[39;00m fut\n",
      "\u001b[0;31mNotConnected\u001b[0m:  Could not connect devices. Is the bluesky event loop running? See https://blueskyproject.io/ophyd-async/main/user/explanations/event-loop-choice.html for more info.\n"
     ]
    }
   ],
   "source": [
    "with DeviceCollector():\n",
    "    ds = DetectorSlits('ME01D-MO-APTR',name = \"detSlits\")"
   ]
  },
  {
   "cell_type": "code",
   "execution_count": 4,
   "id": "c071f809-8b38-4cdb-96f5-2700fd77ae10",
   "metadata": {},
   "outputs": [
    {
     "data": {
      "text/plain": [
       "<Task finished name='Task-33' coro=<StandardReadable.read() done, defined at /venv/lib/python3.11/site-packages/ophyd_async/core/standard_readable.py:68> result={'detSlits-dsd': {'alarm_severity': 0, 'timestamp': 1711449273.729834, 'value': 25.6000703125}}>"
      ]
     },
     "execution_count": 4,
     "metadata": {},
     "output_type": "execute_result"
    }
   ],
   "source": [
    "result"
   ]
  },
  {
   "cell_type": "code",
   "execution_count": null,
   "id": "0ee14de8-0141-4e32-9811-29e6707434ab",
   "metadata": {},
   "outputs": [],
   "source": []
  }
 ],
 "metadata": {
  "kernelspec": {
   "display_name": "Python 3 (ipykernel)",
   "language": "python",
   "name": "python3"
  },
  "language_info": {
   "codemirror_mode": {
    "name": "ipython",
    "version": 3
   },
   "file_extension": ".py",
   "mimetype": "text/x-python",
   "name": "python",
   "nbconvert_exporter": "python",
   "pygments_lexer": "ipython3",
   "version": "3.11.8"
  }
 },
 "nbformat": 4,
 "nbformat_minor": 5
}
