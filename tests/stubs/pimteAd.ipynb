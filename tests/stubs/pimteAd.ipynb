{
 "cells": [
  {
   "cell_type": "code",
   "execution_count": 1,
   "id": "bb301d15-5db2-419a-a964-bcf2700e6c69",
   "metadata": {},
   "outputs": [],
   "source": [
    "from i10_bluesky.devices.rasor.detectorSlits import *\n",
    "from i10_bluesky.devices.scalerCard import ScaleCard\n",
    "from i10_bluesky.devices.pimteAD import *\n",
    "from ophyd_async.core import DeviceCollector \n",
    "from bluesky.callbacks.best_effort import BestEffortCallback\n",
    "from bluesky import RunEngine\n",
    "from bluesky.plans import count, scan \n",
    "from dodal.beamlines.beamline_utils import set_directory_provider\n",
    "from ophyd_async.core._providers import StaticDirectoryProvider\n",
    "import asyncio\n",
    "loop = asyncio.get_event_loop()\n",
    "bec = BestEffortCallback()\n",
    "RE = RunEngine({})"
   ]
  },
  {
   "cell_type": "code",
   "execution_count": 2,
   "id": "e6b2237a-dbc9-4255-90aa-c9f09c2335f9",
   "metadata": {},
   "outputs": [],
   "source": [
    "with DeviceCollector():\n",
    "    ds = DetectorSlits('ME01D-MO-APTR',name = \"detSlits\")\n",
    "    #scaler = ScaleCard(\"ME01D-EA-SCLR-01\", name = \"rscaler\")"
   ]
  },
  {
   "cell_type": "code",
   "execution_count": 3,
   "id": "94d77650-970d-484c-963e-6ff4f82b7505",
   "metadata": {},
   "outputs": [],
   "source": [
    "result = loop.create_task(ds.dsd.read())\n"
   ]
  },
  {
   "cell_type": "code",
   "execution_count": 5,
   "id": "9fc0c9f5-4b31-4861-af13-eb3430d0ad6f",
   "metadata": {},
   "outputs": [
    {
     "data": {
      "text/plain": [
       "{'detSlits-dsd': {'value': 25.6000703125,\n",
       "  'timestamp': 1711555058.902779,\n",
       "  'alarm_severity': 0}}"
      ]
     },
     "execution_count": 5,
     "metadata": {},
     "output_type": "execute_result"
    }
   ],
   "source": [
    "result.result()"
   ]
  },
  {
   "cell_type": "code",
   "execution_count": 6,
   "id": "77b36321-d765-4803-8778-75d0692f1f17",
   "metadata": {},
   "outputs": [],
   "source": [
    "#RE(count([ds.dsd,ds.dsu],10,0.2),bec)"
   ]
  },
  {
   "cell_type": "code",
   "execution_count": 7,
   "id": "c071f809-8b38-4cdb-96f5-2700fd77ae10",
   "metadata": {},
   "outputs": [],
   "source": [
    "df =  StaticDirectoryProvider(\"/dls/i10/data/2024/cm37251-2/processing/\", \"i10-\")"
   ]
  },
  {
   "cell_type": "code",
   "execution_count": 8,
   "id": "0ee14de8-0141-4e32-9811-29e6707434ab",
   "metadata": {},
   "outputs": [],
   "source": [
    "pimte = HDFStatsPimte(\n",
    "        \"BL10I-EA-PIMTE-01:\",\n",
    "        df,\n",
    "        \"pimte\",\n",
    "    )"
   ]
  },
  {
   "cell_type": "code",
   "execution_count": 9,
   "id": "c6b02bdb-1a06-4c12-bfba-1b2f631a915b",
   "metadata": {},
   "outputs": [
    {
     "data": {
      "text/plain": [
       "<Task pending name='Task-36' coro=<Device.connect() running at /venv/lib/python3.11/site-packages/ophyd_async/core/device.py:61>>"
      ]
     },
     "execution_count": 9,
     "metadata": {},
     "output_type": "execute_result"
    }
   ],
   "source": [
    "loop.create_task(pimte.connect())"
   ]
  },
  {
   "cell_type": "code",
   "execution_count": 10,
   "id": "35d12611-faf3-4a81-8fab-057cc9a1261b",
   "metadata": {},
   "outputs": [],
   "source": [
    "result = loop.create_task(pimte.drv.acquire_time.read())"
   ]
  },
  {
   "cell_type": "code",
   "execution_count": 11,
   "id": "793dd0b1-dba2-4c54-9d2b-35139ae30dfc",
   "metadata": {},
   "outputs": [
    {
     "data": {
      "text/plain": [
       "{'pimte-drv-acquire_time': {'value': 0.002,\n",
       "  'timestamp': 1711535777.067056,\n",
       "  'alarm_severity': 0}}"
      ]
     },
     "execution_count": 11,
     "metadata": {},
     "output_type": "execute_result"
    }
   ],
   "source": [
    "result.result()"
   ]
  },
  {
   "cell_type": "code",
   "execution_count": 20,
   "id": "a27fcf1b-6fa9-4937-9edb-d8586666966a",
   "metadata": {},
   "outputs": [
    {
     "name": "stdout",
     "output_type": "stream",
     "text": [
      "\n",
      "\n",
      "Transient Scan ID: 2     Time: 2024-03-28 09:40:58\n",
      "Persistent Unique Scan ID: '9d9801e9-df47-4f7e-bbc2-71caab5bca70'\n",
      "New stream: 'primary'\n"
     ]
    },
    {
     "name": "stderr",
     "output_type": "stream",
     "text": [
      "/venv/lib/python3.11/site-packages/bluesky/callbacks/core.py:332: UserWarning: The key pimte will be skipped because LiveTable does not know how to display the dtype array\n",
      "  warnings.warn(\"The key {} will be skipped because LiveTable \"\n"
     ]
    },
    {
     "name": "stdout",
     "output_type": "stream",
     "text": [
      "+-----------+------------+\n",
      "|   seq_num |       time |\n",
      "+-----------+------------+\n",
      "|         1 | 09:41:01.5 |\n",
      "+-----------+------------+\n",
      "generator count ['9d9801e9'] (scan num: 2)\n",
      "\n",
      "\n",
      "\n"
     ]
    },
    {
     "data": {
      "text/plain": [
       "('9d9801e9-df47-4f7e-bbc2-71caab5bca70',)"
      ]
     },
     "execution_count": 20,
     "metadata": {},
     "output_type": "execute_result"
    }
   ],
   "source": [
    "RE(count([pimte],1,0.2),bec)"
   ]
  },
  {
   "cell_type": "code",
   "execution_count": 19,
   "id": "a415ba5a-e507-413d-ae49-d21a79338140",
   "metadata": {},
   "outputs": [
    {
     "data": {
      "text/plain": [
       "<bound method PimteController.arm of <i10_bluesky.epics.pimte_controller.PimteController object at 0x7ff48cddf850>>"
      ]
     },
     "execution_count": 19,
     "metadata": {},
     "output_type": "execute_result"
    }
   ],
   "source": [
    "pimte._controller."
   ]
  },
  {
   "cell_type": "code",
   "execution_count": null,
   "id": "44929567-16bc-42d4-a368-5b8fa85ff8f6",
   "metadata": {},
   "outputs": [],
   "source": [
    "TRIGGER_MODE"
   ]
  },
  {
   "cell_type": "code",
   "execution_count": null,
   "id": "8aef2f52-1c3e-4305-87b5-99eef2513548",
   "metadata": {},
   "outputs": [],
   "source": [
    "result.result()"
   ]
  },
  {
   "cell_type": "code",
   "execution_count": 13,
   "id": "7e0627c3-4e35-431f-bb73-2392a3d3db22",
   "metadata": {},
   "outputs": [],
   "source": [
    "from ophyd_async.core import AsyncStatus, DetectorControl, DetectorTrigger\n",
    "TRIGGER_MODE = {\n",
    "    DetectorTrigger.internal: Pimte1Driver.TriggerMode.internal,\n",
    "    DetectorTrigger.constant_gate: Pimte1Driver.TriggerMode.ext_trigger,\n",
    "    DetectorTrigger.variable_gate: Pimte1Driver.TriggerMode.ext_trigger,\n",
    "}"
   ]
  },
  {
   "cell_type": "code",
   "execution_count": 18,
   "id": "a70c7308-086a-4d35-b27f-be12da31bd16",
   "metadata": {},
   "outputs": [
    {
     "data": {
      "text/plain": [
       "<TriggerMode.internal: 'Free Run'>"
      ]
     },
     "execution_count": 18,
     "metadata": {},
     "output_type": "execute_result"
    }
   ],
   "source": [
    "TRIGGER_MODE[DetectorTrigger.internal]"
   ]
  },
  {
   "cell_type": "code",
   "execution_count": null,
   "id": "2f7e288d-0984-4250-bdaf-b25338eb79da",
   "metadata": {},
   "outputs": [],
   "source": []
  }
 ],
 "metadata": {
  "kernelspec": {
   "display_name": "Python 3 (ipykernel)",
   "language": "python",
   "name": "python3"
  },
  "language_info": {
   "codemirror_mode": {
    "name": "ipython",
    "version": 3
   },
   "file_extension": ".py",
   "mimetype": "text/x-python",
   "name": "python",
   "nbconvert_exporter": "python",
   "pygments_lexer": "ipython3",
   "version": "3.11.8"
  }
 },
 "nbformat": 4,
 "nbformat_minor": 5
}
