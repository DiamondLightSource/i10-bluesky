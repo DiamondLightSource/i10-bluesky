{
 "cells": [
  {
   "cell_type": "code",
   "execution_count": 1,
   "id": "43adefac-3263-445d-b94c-c83ae7b672bb",
   "metadata": {},
   "outputs": [],
   "source": [
    "import asyncio\n",
    "from i10_bluesky.epics.pimte_controller import PimteController\n",
    "from i10_bluesky.epics.drivers.pimte1_driver import *\n",
    "import asyncio\n",
    "loop = asyncio.get_event_loop()"
   ]
  },
  {
   "cell_type": "code",
   "execution_count": 2,
   "id": "c2e665c9-c583-4c6f-8278-73b75145734e",
   "metadata": {},
   "outputs": [],
   "source": [
    "pimteDrv = Pimte1Driver(\"BL10I-EA-PIMTE-01:CAM:\") "
   ]
  },
  {
   "cell_type": "code",
   "execution_count": 3,
   "id": "b163a86d-3e93-454a-a693-52a05f09d332",
   "metadata": {},
   "outputs": [
    {
     "data": {
      "text/plain": [
       "<Task pending name='Task-5' coro=<Device.connect() running at /venv/lib/python3.11/site-packages/ophyd_async/core/device.py:61>>"
      ]
     },
     "execution_count": 3,
     "metadata": {},
     "output_type": "execute_result"
    }
   ],
   "source": [
    "loop.create_task(pimteDrv.connect())"
   ]
  },
  {
   "cell_type": "code",
   "execution_count": 4,
   "id": "51891e72-ca6e-4b43-8609-0535c0fcae96",
   "metadata": {},
   "outputs": [],
   "source": [
    "task = asyncio.gather(pimteDrv.setTemperture.set(17))"
   ]
  },
  {
   "cell_type": "code",
   "execution_count": 5,
   "id": "f76cccd5-8af3-4a1f-8a46-d27da5f57632",
   "metadata": {},
   "outputs": [],
   "source": [
    "result = asyncio.gather(pimteDrv.getTemperture.read())\n"
   ]
  },
  {
   "cell_type": "code",
   "execution_count": 6,
   "id": "f4094d38-634d-497a-83a2-27ccb1048261",
   "metadata": {},
   "outputs": [
    {
     "name": "stdout",
     "output_type": "stream",
     "text": [
      "19.5\n"
     ]
    }
   ],
   "source": [
    "print(result.result()[0]['']['value'])\n"
   ]
  },
  {
   "cell_type": "code",
   "execution_count": 7,
   "id": "5e028977-bc36-49b1-b85e-476dcd413fc5",
   "metadata": {},
   "outputs": [],
   "source": [
    "result = asyncio.gather(pimteDrv.speed.read())"
   ]
  },
  {
   "cell_type": "code",
   "execution_count": 8,
   "id": "9fdf23ff-71d4-4ae7-956f-57b6b3594c83",
   "metadata": {},
   "outputs": [
    {
     "data": {
      "text/plain": [
       "<GeneratedChoices.4: 1 MHz - 1000 ns: '4: 1 MHz - 1000 ns'>"
      ]
     },
     "execution_count": 8,
     "metadata": {},
     "output_type": "execute_result"
    }
   ],
   "source": [
    "result.result()[0]['']['value']"
   ]
  },
  {
   "cell_type": "code",
   "execution_count": 21,
   "id": "83724a28-c21b-4401-9338-8f966a461fc3",
   "metadata": {},
   "outputs": [
    {
     "data": {
      "text/plain": [
       "<_GatheringFuture pending>"
      ]
     },
     "execution_count": 21,
     "metadata": {},
     "output_type": "execute_result"
    }
   ],
   "source": [
    "asyncio.gather(pimteDrv.acquire.set(1))"
   ]
  },
  {
   "cell_type": "code",
   "execution_count": 12,
   "id": "c744e104-7e04-4007-adbb-98874dca3622",
   "metadata": {},
   "outputs": [
    {
     "data": {
      "text/plain": [
       "<AsyncStatus, task: <coroutine object CaSignalBackend.put at 0x7f28b4feadf0>, pending>"
      ]
     },
     "execution_count": 12,
     "metadata": {},
     "output_type": "execute_result"
    }
   ],
   "source": [
    "pimteDrv.setTemperture.set(17)"
   ]
  },
  {
   "cell_type": "code",
   "execution_count": null,
   "id": "f6c38f20-82df-4b32-8445-e1f0035f7816",
   "metadata": {},
   "outputs": [],
   "source": []
  }
 ],
 "metadata": {
  "kernelspec": {
   "display_name": "Python 3 (ipykernel)",
   "language": "python",
   "name": "python3"
  },
  "language_info": {
   "codemirror_mode": {
    "name": "ipython",
    "version": 3
   },
   "file_extension": ".py",
   "mimetype": "text/x-python",
   "name": "python",
   "nbconvert_exporter": "python",
   "pygments_lexer": "ipython3",
   "version": "3.11.8"
  }
 },
 "nbformat": 4,
 "nbformat_minor": 5
}
