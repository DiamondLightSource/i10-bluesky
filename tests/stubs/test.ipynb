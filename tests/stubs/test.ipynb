{
 "cells": [
  {
   "cell_type": "code",
   "execution_count": 13,
   "id": "0d05fa27-9358-4467-903a-a737014b98e1",
   "metadata": {},
   "outputs": [],
   "source": [
    "import os\n",
    "os.chdir('/scratch/i10-bluesky/src/')\n",
    "from i10_bluesky.devices.rasor.detectorSlits import *\n",
    "from i10_bluesky.devices.scalerCard import ScaleCard\n",
    "from bluesky import RunEngine\n",
    "from ophyd_async.core import DeviceCollector \n",
    "import bluesky.plan_stubs as bps\n",
    "from bluesky.plans import count, scan \n",
    "from ophyd.sim import motor1,det1\n",
    "from bluesky.callbacks.best_effort import BestEffortCallback\n",
    "import asyncio\n",
    "loop = asyncio.get_event_loop()\n",
    "bec = BestEffortCallback()\n",
    "RE = RunEngine({})"
   ]
  },
  {
   "cell_type": "code",
   "execution_count": 2,
   "id": "7a22864d-84a1-445f-bfb2-ef8344f292d1",
   "metadata": {},
   "outputs": [],
   "source": [
    "with DeviceCollector():\n",
    "    ds = DetectorSlits('ME01D-MO-APTR',name = \"detSlits\")\n",
    "    dsd = Slits('ME01D-MO-APTR', \"-01:TRANS.RBV\", \"dsd\")\n",
    "    scaler = ScaleCard(\"ME01D-EA-SCLR-01\", name = \"rscaler\")\n",
    "    "
   ]
  },
  {
   "cell_type": "code",
   "execution_count": 3,
   "id": "73055b65-5649-466c-a5bc-a3ecd9723ec8",
   "metadata": {},
   "outputs": [
    {
     "name": "stdout",
     "output_type": "stream",
     "text": [
      "\n",
      "\n",
      "Transient Scan ID: 1     Time: 2024-03-04 13:42:26\n",
      "Persistent Unique Scan ID: '569c229f-1670-4d65-af3f-74e877277ad9'\n",
      "New stream: 'primary'\n",
      "+-----------+------------+--------------+--------------+\n",
      "|   seq_num |       time | detSlits-dsd | detSlits-dsu |\n",
      "+-----------+------------+--------------+--------------+\n",
      "|         1 | 13:42:26.3 |       25.600 |       26.091 |\n",
      "|         2 | 13:42:26.5 |       25.600 |       26.091 |\n",
      "|         3 | 13:42:26.7 |       25.600 |       26.091 |\n",
      "|         4 | 13:42:26.9 |       25.600 |       26.091 |\n",
      "|         5 | 13:42:27.1 |       25.600 |       26.091 |\n",
      "|         6 | 13:42:27.3 |       25.600 |       26.091 |\n",
      "|         7 | 13:42:27.5 |       25.600 |       26.091 |\n",
      "|         8 | 13:42:27.7 |       25.600 |       26.091 |\n",
      "|         9 | 13:42:27.9 |       25.600 |       26.091 |\n",
      "|        10 | 13:42:28.1 |       25.600 |       26.091 |\n",
      "+-----------+------------+--------------+--------------+\n",
      "generator count ['569c229f'] (scan num: 1)\n",
      "\n",
      "\n",
      "\n"
     ]
    },
    {
     "data": {
      "text/plain": [
       "('569c229f-1670-4d65-af3f-74e877277ad9',)"
      ]
     },
     "execution_count": 3,
     "metadata": {},
     "output_type": "execute_result"
    },
    {
     "data": {
      "image/png": "[encoded data removed]",
      "text/plain": [
       "<Figure size 500x1000 with 2 Axes>"
      ]
     },
     "metadata": {},
     "output_type": "display_data"
    }
   ],
   "source": [
    "RE(count([ds.dsd,ds.dsu,scaler],10,0.2),bec)"
   ]
  },
  {
   "cell_type": "code",
   "execution_count": 11,
   "id": "0d90b50c-411d-4daa-bcdc-676d4c792125",
   "metadata": {},
   "outputs": [],
   "source": [
    "scaler.hints.setdefault('mac17')"
   ]
  },
  {
   "cell_type": "code",
   "execution_count": 11,
   "id": "85b5f852-ca95-436e-9745-e01489c9a5e5",
   "metadata": {},
   "outputs": [
    {
     "data": {
      "text/plain": [
       "ScaleCard(prefix='ME01D-EA-SCLR-01', name='rscaler', read_attrs=['macr1'], configuration_attrs=[])"
      ]
     },
     "execution_count": 11,
     "metadata": {},
     "output_type": "execute_result"
    }
   ],
   "source": [
    "scaler"
   ]
  },
  {
   "cell_type": "code",
   "execution_count": 4,
   "id": "75b0c281-b539-43ec-a3cb-795d4c96911c",
   "metadata": {},
   "outputs": [],
   "source": [
    "scaler = ScaleCard(\"ME01D-EA-SCLR-01\", name = \"rscaler\")"
   ]
  },
  {
   "cell_type": "code",
   "execution_count": 14,
   "id": "eff5556b-d603-4884-b950-bb702dffea5a",
   "metadata": {},
   "outputs": [],
   "source": [
    "loop = asyncio.get_event_loop()\n",
    "result = loop.create_task(ds.dsd.read())"
   ]
  },
  {
   "cell_type": "code",
   "execution_count": 16,
   "id": "6a38ba0c-8e88-4b18-989c-8c6a5a394fd4",
   "metadata": {},
   "outputs": [
    {
     "data": {
      "text/plain": [
       "{'detSlits-dsd': {'value': 25.6000703125,\n",
       "  'timestamp': 1709561796.608889,\n",
       "  'alarm_severity': 0}}"
      ]
     },
     "execution_count": 16,
     "metadata": {},
     "output_type": "execute_result"
    }
   ],
   "source": [
    "result.result()"
   ]
  },
  {
   "cell_type": "code",
   "execution_count": 17,
   "id": "7bd505ed-98ee-4e0d-961c-6f80ab32d9f9",
   "metadata": {},
   "outputs": [
    {
     "data": {
      "text/plain": [
       "ScaleCard(prefix='ME01D-EA-SCLR-01', name='rscaler', read_attrs=['macr1'], configuration_attrs=[])"
      ]
     },
     "execution_count": 17,
     "metadata": {},
     "output_type": "execute_result"
    }
   ],
   "source": [
    "scaler"
   ]
  },
  {
   "cell_type": "code",
   "execution_count": 72,
   "id": "56c5ef23-d7f7-41f9-a55f-f79e389dd525",
   "metadata": {},
   "outputs": [],
   "source": [
    "async def test():\n",
    "    y = await ds.dsu.read()\n",
    "    print(y)\n",
    "    return y"
   ]
  },
  {
   "cell_type": "code",
   "execution_count": 20,
   "id": "0667a5d7-67b1-4197-9073-47dc9992a665",
   "metadata": {},
   "outputs": [],
   "source": [
    "from ophyd_async.core import DeviceCollector"
   ]
  },
  {
   "cell_type": "code",
   "execution_count": 21,
   "id": "111d35e6-b0c4-4813-a95e-a93b41bc446d",
   "metadata": {},
   "outputs": [],
   "source": [
    "with DeviceCollector():\n",
    "    ds"
   ]
  },
  {
   "cell_type": "code",
   "execution_count": 76,
   "id": "737e902e-a681-42c4-8b15-4c255f070408",
   "metadata": {},
   "outputs": [
    {
     "name": "stderr",
     "output_type": "stream",
     "text": [
      "/tmp/ipykernel_19415/3708891618.py:3: RuntimeWarning: coroutine 'main' was never awaited\n",
      "  next(main())\n",
      "RuntimeWarning: Enable tracemalloc to get the object allocation traceback\n"
     ]
    },
    {
     "ename": "TypeError",
     "evalue": "'coroutine' object is not an iterator",
     "output_type": "error",
     "traceback": [
      "\u001b[0;31m---------------------------------------------------------------------------\u001b[0m",
      "\u001b[0;31mTypeError\u001b[0m                                 Traceback (most recent call last)",
      "Cell \u001b[0;32mIn[76], line 3\u001b[0m\n\u001b[1;32m      1\u001b[0m \u001b[38;5;28;01masync\u001b[39;00m \u001b[38;5;28;01mdef\u001b[39;00m \u001b[38;5;21mmain\u001b[39m():\n\u001b[1;32m      2\u001b[0m     \u001b[38;5;28;01mawait\u001b[39;00m asyncio\u001b[38;5;241m.\u001b[39mgather(test(), test(), test())\n\u001b[0;32m----> 3\u001b[0m \u001b[38;5;28;43mnext\u001b[39;49m\u001b[43m(\u001b[49m\u001b[43mmain\u001b[49m\u001b[43m(\u001b[49m\u001b[43m)\u001b[49m\u001b[43m)\u001b[49m\n",
      "\u001b[0;31mTypeError\u001b[0m: 'coroutine' object is not an iterator"
     ]
    }
   ],
   "source": [
    "async def main():\n",
    "    await asyncio.gather(test(), test(), test())\n"
   ]
  },
  {
   "cell_type": "code",
   "execution_count": 36,
   "id": "2850a155-4052-43ba-bcc4-0af92244f940",
   "metadata": {},
   "outputs": [
    {
     "data": {
      "text/plain": [
       "<coroutine object SignalR.get_value at 0x7fb9fa960540>"
      ]
     },
     "execution_count": 36,
     "metadata": {},
     "output_type": "execute_result"
    }
   ],
   "source": [
    "ds.dsd.readback.get_value()"
   ]
  },
  {
   "cell_type": "code",
   "execution_count": 11,
   "id": "2a0d6813-5228-4df0-887d-9af3c9768985",
   "metadata": {},
   "outputs": [],
   "source": [
    "from bluesky.plan_stubs import checkpoint, abs_set, trigger_and_read\n",
    "def one_1d_step(detectors):\n",
    "    yield from count(detectors,10,0.1)\n",
    "    yield from count(detectors,5,0.1)"
   ]
  },
  {
   "cell_type": "code",
   "execution_count": 12,
   "id": "6a1d7ecc-7bcb-473a-be2a-3e7c51066263",
   "metadata": {},
   "outputs": [
    {
     "name": "stdout",
     "output_type": "stream",
     "text": [
      "\n",
      "\n",
      "Transient Scan ID: 4     Time: 2024-03-04 13:45:37\n",
      "Persistent Unique Scan ID: '7605219a-8bb1-48fc-aa71-6ca8a3ea1a13'\n",
      "New stream: 'primary'\n",
      "+-----------+------------+--------------+--------------+\n",
      "|   seq_num |       time | detSlits-dsd | detSlits-dsu |\n",
      "+-----------+------------+--------------+--------------+\n",
      "|         1 | 13:45:37.4 |       25.600 |       26.091 |\n",
      "|         2 | 13:45:37.5 |       25.600 |       26.091 |\n",
      "|         3 | 13:45:37.6 |       25.600 |       26.091 |\n",
      "|         4 | 13:45:37.7 |       25.600 |       26.091 |\n",
      "|         5 | 13:45:37.9 |       25.600 |       26.091 |\n",
      "|         6 | 13:45:38.0 |       25.600 |       26.091 |\n",
      "|         7 | 13:45:38.1 |       25.600 |       26.091 |\n",
      "|         8 | 13:45:38.2 |       25.600 |       26.091 |\n",
      "|         9 | 13:45:38.3 |       25.600 |       26.091 |\n",
      "|        10 | 13:45:38.4 |       25.600 |       26.091 |\n",
      "+-----------+------------+--------------+--------------+\n",
      "generator count ['7605219a'] (scan num: 4)\n",
      "\n",
      "\n",
      "\n",
      "\n",
      "\n",
      "Transient Scan ID: 5     Time: 2024-03-04 13:45:38\n",
      "Persistent Unique Scan ID: 'd7ac88cf-7d9f-4fba-812b-4943669f234e'\n",
      "New stream: 'primary'\n",
      "+-----------+------------+--------------+--------------+\n",
      "|   seq_num |       time | detSlits-dsd | detSlits-dsu |\n",
      "+-----------+------------+--------------+--------------+\n",
      "|         1 | 13:45:38.7 |       25.600 |       26.091 |\n",
      "|         2 | 13:45:38.8 |       25.600 |       26.091 |\n",
      "|         3 | 13:45:38.9 |       25.600 |       26.091 |\n",
      "|         4 | 13:45:39.1 |       25.600 |       26.091 |\n",
      "|         5 | 13:45:39.2 |       25.600 |       26.091 |\n",
      "+-----------+------------+--------------+--------------+\n",
      "generator count ['d7ac88cf'] (scan num: 5)\n",
      "\n",
      "\n",
      "\n"
     ]
    },
    {
     "data": {
      "text/plain": [
       "('7605219a-8bb1-48fc-aa71-6ca8a3ea1a13',\n",
       " 'd7ac88cf-7d9f-4fba-812b-4943669f234e')"
      ]
     },
     "execution_count": 12,
     "metadata": {},
     "output_type": "execute_result"
    },
    {
     "data": {
      "image/png": "[encoded data removed]",
      "text/plain": [
       "<Figure size 500x1000 with 2 Axes>"
      ]
     },
     "metadata": {},
     "output_type": "display_data"
    }
   ],
   "source": [
    "RE(one_1d_step([ds.dsd,ds.dsu]),bec)"
   ]
  },
  {
   "cell_type": "code",
   "execution_count": null,
   "id": "b5e20ff7-a359-44b9-84f8-297e171a99ff",
   "metadata": {},
   "outputs": [],
   "source": []
  }
 ],
 "metadata": {
  "kernelspec": {
   "display_name": "Python 3 (ipykernel)",
   "language": "python",
   "name": "python3"
  },
  "language_info": {
   "codemirror_mode": {
    "name": "ipython",
    "version": 3
   },
   "file_extension": ".py",
   "mimetype": "text/x-python",
   "name": "python",
   "nbconvert_exporter": "python",
   "pygments_lexer": "ipython3",
   "version": "3.11.5"
  }
 },
 "nbformat": 4,
 "nbformat_minor": 5
}
