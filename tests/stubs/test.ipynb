{
 "cells": [
  {
   "cell_type": "code",
   "execution_count": 1,
   "id": "0d05fa27-9358-4467-903a-a737014b98e1",
   "metadata": {},
   "outputs": [],
   "source": [
    "import os\n",
    "os.chdir('/scratch/i10-bluesky/src/')\n",
    "from i10_bluesky.devices.rasor.detectorSlits import *\n",
    "from i10_bluesky.devices.scalerCard import ScaleCard\n",
    "from bluesky import RunEngine\n",
    "from ophyd_async.core import DeviceCollector \n",
    "import bluesky.plan_stubs as bps\n",
    "from bluesky.plans import count, scan \n",
    "from ophyd.sim import motor1,det1\n",
    "from bluesky.callbacks.best_effort import BestEffortCallback\n",
    "from epics import caget\n",
    "import asyncio\n",
    "loop = asyncio.get_event_loop()\n",
    "bec = BestEffortCallback()\n",
    "RE = RunEngine({})"
   ]
  },
  {
   "cell_type": "code",
   "execution_count": 2,
   "id": "7a22864d-84a1-445f-bfb2-ef8344f292d1",
   "metadata": {},
   "outputs": [],
   "source": [
    "with DeviceCollector():\n",
    "    ds = DetectorSlits('ME01D-MO-APTR',name = \"detSlits\")\n",
    "    #dsd = Slits('ME01D-MO-APTR', \"-01:TRANS.RBV\", \"dsd\")\n",
    "    scaler = ScaleCard(\"ME01D-EA-SCLR-01\", name = \"rscaler\")\n",
    "    "
   ]
  },
  {
   "cell_type": "code",
   "execution_count": 3,
   "id": "73055b65-5649-466c-a5bc-a3ecd9723ec8",
   "metadata": {},
   "outputs": [
    {
     "name": "stdout",
     "output_type": "stream",
     "text": [
      "\n",
      "\n",
      "Transient Scan ID: 1     Time: 2024-03-27 11:03:17\n",
      "Persistent Unique Scan ID: '690fc10a-9922-42b6-b43a-62889e1b47ec'\n",
      "New stream: 'primary'\n",
      "+-----------+------------+--------------+--------------+\n",
      "|   seq_num |       time | detSlits-dsd | detSlits-dsu |\n",
      "+-----------+------------+--------------+--------------+\n",
      "|         1 | 11:03:17.6 |       25.600 |       26.091 |\n",
      "|         2 | 11:03:17.8 |       25.600 |       26.091 |\n",
      "|         3 | 11:03:18.0 |       25.600 |       26.091 |\n",
      "|         4 | 11:03:18.2 |       25.600 |       26.091 |\n",
      "|         5 | 11:03:18.4 |       25.600 |       26.091 |\n",
      "|         6 | 11:03:18.6 |       25.600 |       26.091 |\n",
      "|         7 | 11:03:18.8 |       25.600 |       26.091 |\n",
      "|         8 | 11:03:19.0 |       25.600 |       26.091 |\n",
      "|         9 | 11:03:19.2 |       25.600 |       26.091 |\n",
      "|        10 | 11:03:19.4 |       25.600 |       26.091 |\n",
      "+-----------+------------+--------------+--------------+\n",
      "generator count ['690fc10a'] (scan num: 1)\n",
      "\n",
      "\n",
      "\n"
     ]
    },
    {
     "data": {
      "text/plain": [
       "('690fc10a-9922-42b6-b43a-62889e1b47ec',)"
      ]
     },
     "execution_count": 3,
     "metadata": {},
     "output_type": "execute_result"
    },
    {
     "data": {
      "image/png": "[encoded data removed]",
      "text/plain": [
       "<Figure size 500x1000 with 2 Axes>"
      ]
     },
     "metadata": {},
     "output_type": "display_data"
    }
   ],
   "source": [
    "RE(count([ds.dsd,ds.dsu],10,0.2),bec)"
   ]
  },
  {
   "cell_type": "code",
   "execution_count": 28,
   "id": "0d90b50c-411d-4daa-bcdc-676d4c792125",
   "metadata": {},
   "outputs": [
    {
     "ename": "TypeError",
     "evalue": "a coroutine was expected, got <AsyncStatus pending>",
     "output_type": "error",
     "traceback": [
      "\u001b[0;31m---------------------------------------------------------------------------\u001b[0m",
      "\u001b[0;31mTypeError\u001b[0m                                 Traceback (most recent call last)",
      "Cell \u001b[0;32mIn[28], line 2\u001b[0m\n\u001b[1;32m      1\u001b[0m loop \u001b[38;5;241m=\u001b[39m asyncio\u001b[38;5;241m.\u001b[39mget_event_loop()\n\u001b[0;32m----> 2\u001b[0m result \u001b[38;5;241m=\u001b[39m \u001b[43mloop\u001b[49m\u001b[38;5;241;43m.\u001b[39;49m\u001b[43mcreate_task\u001b[49m\u001b[43m(\u001b[49m\u001b[43mds\u001b[49m\u001b[38;5;241;43m.\u001b[39;49m\u001b[43mdsd\u001b[49m\u001b[38;5;241;43m.\u001b[39;49m\u001b[43mset\u001b[49m\u001b[43m(\u001b[49m\u001b[38;5;241;43m2.5\u001b[39;49m\u001b[43m)\u001b[49m\u001b[43m)\u001b[49m\n\u001b[1;32m      3\u001b[0m \u001b[38;5;28mprint\u001b[39m(result)\n",
      "File \u001b[0;32m/usr/local/lib/python3.11/asyncio/base_events.py:437\u001b[0m, in \u001b[0;36mBaseEventLoop.create_task\u001b[0;34m(self, coro, name, context)\u001b[0m\n\u001b[1;32m    435\u001b[0m \u001b[38;5;28mself\u001b[39m\u001b[38;5;241m.\u001b[39m_check_closed()\n\u001b[1;32m    436\u001b[0m \u001b[38;5;28;01mif\u001b[39;00m \u001b[38;5;28mself\u001b[39m\u001b[38;5;241m.\u001b[39m_task_factory \u001b[38;5;129;01mis\u001b[39;00m \u001b[38;5;28;01mNone\u001b[39;00m:\n\u001b[0;32m--> 437\u001b[0m     task \u001b[38;5;241m=\u001b[39m \u001b[43mtasks\u001b[49m\u001b[38;5;241;43m.\u001b[39;49m\u001b[43mTask\u001b[49m\u001b[43m(\u001b[49m\u001b[43mcoro\u001b[49m\u001b[43m,\u001b[49m\u001b[43m \u001b[49m\u001b[43mloop\u001b[49m\u001b[38;5;241;43m=\u001b[39;49m\u001b[38;5;28;43mself\u001b[39;49m\u001b[43m,\u001b[49m\u001b[43m \u001b[49m\u001b[43mname\u001b[49m\u001b[38;5;241;43m=\u001b[39;49m\u001b[43mname\u001b[49m\u001b[43m,\u001b[49m\u001b[43m \u001b[49m\u001b[43mcontext\u001b[49m\u001b[38;5;241;43m=\u001b[39;49m\u001b[43mcontext\u001b[49m\u001b[43m)\u001b[49m\n\u001b[1;32m    438\u001b[0m     \u001b[38;5;28;01mif\u001b[39;00m task\u001b[38;5;241m.\u001b[39m_source_traceback:\n\u001b[1;32m    439\u001b[0m         \u001b[38;5;28;01mdel\u001b[39;00m task\u001b[38;5;241m.\u001b[39m_source_traceback[\u001b[38;5;241m-\u001b[39m\u001b[38;5;241m1\u001b[39m]\n",
      "\u001b[0;31mTypeError\u001b[0m: a coroutine was expected, got <AsyncStatus pending>"
     ]
    }
   ],
   "source": [
    "loop = asyncio.get_event_loop()\n",
    "result = loop.create_task(ds.dsd.set(2.5))\n",
    "print(result)"
   ]
  },
  {
   "cell_type": "code",
   "execution_count": 26,
   "id": "85b5f852-ca95-436e-9745-e01489c9a5e5",
   "metadata": {},
   "outputs": [
    {
     "data": {
      "text/plain": [
       "25.600070798748"
      ]
     },
     "execution_count": 26,
     "metadata": {},
     "output_type": "execute_result"
    }
   ],
   "source": [
    "result.result()"
   ]
  },
  {
   "cell_type": "code",
   "execution_count": 21,
   "id": "dd60520d-3251-4cc8-91cc-949348ddbf23",
   "metadata": {},
   "outputs": [
    {
     "data": {
      "text/plain": [
       "<coroutine object SignalR.get_value at 0x7fcf3c8f7340>"
      ]
     },
     "execution_count": 21,
     "metadata": {},
     "output_type": "execute_result"
    }
   ],
   "source": [
    "ds.dsd.setpoint.get_value()"
   ]
  },
  {
   "cell_type": "code",
   "execution_count": 2,
   "id": "fb389003-7714-41f5-9409-4a96af295ca1",
   "metadata": {},
   "outputs": [],
   "source": [
    "from enum import Enum\n",
    "\n",
    "class TriggerMode(str, Enum):\n",
    "    internal = \"Internal\"\n",
    "    ext_enable = \"Ext. Enable\"\n",
    "    ext_trigger = \"Ext. Trigger\"\n",
    "    mult_trigger = \"Mult. Trigger\"\n",
    "    alignment = \"Alignment\"\n"
   ]
  },
  {
   "cell_type": "code",
   "execution_count": 12,
   "id": "1de83778-42df-4d39-bde3-cd34dade323b",
   "metadata": {},
   "outputs": [
    {
     "data": {
      "text/plain": [
       "'Internal'"
      ]
     },
     "execution_count": 12,
     "metadata": {},
     "output_type": "execute_result"
    }
   ],
   "source": [
    "TriggerMode.internal.value"
   ]
  },
  {
   "cell_type": "code",
   "execution_count": 6,
   "id": "4b994583-a252-40ff-97c1-8c705c846075",
   "metadata": {},
   "outputs": [
    {
     "data": {
      "text/plain": [
       "<TriggerMode.internal: 'Internal'>"
      ]
     },
     "execution_count": 6,
     "metadata": {},
     "output_type": "execute_result"
    }
   ],
   "source": [
    "TriggerMode(\"Internal\")"
   ]
  },
  {
   "cell_type": "code",
   "execution_count": 7,
   "id": "f4722b20-7918-4b09-931d-8bda624ed726",
   "metadata": {},
   "outputs": [
    {
     "name": "stdout",
     "output_type": "stream",
     "text": [
      "TriggerMode.internal\n",
      "TriggerMode.ext_enable\n",
      "TriggerMode.ext_trigger\n",
      "TriggerMode.mult_trigger\n",
      "TriggerMode.alignment\n"
     ]
    }
   ],
   "source": [
    "for i in TriggerMode:\n",
    "    print(i)"
   ]
  },
  {
   "cell_type": "code",
   "execution_count": null,
   "id": "b685496d-c07e-4a35-be57-bfcb18f6e8ea",
   "metadata": {},
   "outputs": [],
   "source": []
  }
 ],
 "metadata": {
  "kernelspec": {
   "display_name": "Python 3 (ipykernel)",
   "language": "python",
   "name": "python3"
  },
  "language_info": {
   "codemirror_mode": {
    "name": "ipython",
    "version": 3
   },
   "file_extension": ".py",
   "mimetype": "text/x-python",
   "name": "python",
   "nbconvert_exporter": "python",
   "pygments_lexer": "ipython3",
   "version": "3.11.8"
  }
 },
 "nbformat": 4,
 "nbformat_minor": 5
}
