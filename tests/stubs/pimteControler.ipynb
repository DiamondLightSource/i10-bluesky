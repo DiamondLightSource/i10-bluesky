{
 "cells": [
  {
   "cell_type": "code",
   "execution_count": 1,
   "id": "d6af20bc-f62c-48fe-a1af-a4bf09519813",
   "metadata": {},
   "outputs": [
    {
     "data": {
      "text/plain": [
       "<Task pending name='Task-5' coro=<Device.connect() running at /venv/lib/python3.11/site-packages/ophyd_async/core/device.py:61>>"
      ]
     },
     "execution_count": 1,
     "metadata": {},
     "output_type": "execute_result"
    }
   ],
   "source": [
    "import asyncio\n",
    "from i10_bluesky.epics.pimte_controller import *\n",
    "from i10_bluesky.epics.drivers.pimte1_driver import Pimte1Driver\n",
    "import asyncio\n",
    "loop = asyncio.get_event_loop()\n",
    "pimteDrv = Pimte1Driver(\"BL10I-EA-PIMTE-01:CAM:\") \n",
    "loop.create_task(pimteDrv.connect())"
   ]
  },
  {
   "cell_type": "code",
   "execution_count": 2,
   "id": "9249120f-bf44-40c5-bf4a-233e37b9b299",
   "metadata": {},
   "outputs": [],
   "source": [
    "pimCon=PimteController(pimteDrv)"
   ]
  },
  {
   "cell_type": "code",
   "execution_count": 3,
   "id": "2555b81a-b56f-4175-a402-61dc90366dd5",
   "metadata": {},
   "outputs": [],
   "source": [
    "result = asyncio.gather(pimCon.driver.acquire_time.get_value(),pimCon.set_temperature(22))"
   ]
  },
  {
   "cell_type": "code",
   "execution_count": 4,
   "id": "53bb0a67-3b07-4906-92d7-b3df11376a7c",
   "metadata": {},
   "outputs": [],
   "source": [
    "asyncio.create_task(pimCon.set_speed(Pimte1Driver.SpeedMode.adc_2Mhz))\n",
    "speed = asyncio.create_task(pimCon.driver.speed.read())"
   ]
  },
  {
   "cell_type": "code",
   "execution_count": 5,
   "id": "b1da070f-189c-45ba-930a-0d20ee47ea8b",
   "metadata": {},
   "outputs": [
    {
     "data": {
      "text/plain": [
       "<GeneratedChoices.5: 2 MHz - 500 ns: '5: 2 MHz - 500 ns'>"
      ]
     },
     "execution_count": 5,
     "metadata": {},
     "output_type": "execute_result"
    }
   ],
   "source": [
    "speed.result()[\"\"][\"value\"]"
   ]
  },
  {
   "cell_type": "code",
   "execution_count": 6,
   "id": "31ad0b61-d01c-40f0-a395-e734e2b06244",
   "metadata": {},
   "outputs": [
    {
     "data": {
      "text/plain": [
       "<Task pending name='Task-76' coro=<PimteController.arm() running at /scratch/i10-bluesky/src/i10_bluesky/epics/pimte_controller.py:43>>"
      ]
     },
     "execution_count": 6,
     "metadata": {},
     "output_type": "execute_result"
    }
   ],
   "source": [
    "loop.create_task(pimCon.arm(1,DetectorTrigger.internal,0.002))"
   ]
  },
  {
   "cell_type": "code",
   "execution_count": 7,
   "id": "7c2cbfa3-d6db-4d38-91ad-09c6d74c78c4",
   "metadata": {},
   "outputs": [],
   "source": [
    "result = asyncio.create_task(pimCon.driver.acquire_time.get_value())"
   ]
  },
  {
   "cell_type": "code",
   "execution_count": 8,
   "id": "b2bbc994-d718-4aee-a8dc-f0d22949b1b6",
   "metadata": {},
   "outputs": [
    {
     "data": {
      "text/plain": [
       "0.002"
      ]
     },
     "execution_count": 8,
     "metadata": {},
     "output_type": "execute_result"
    }
   ],
   "source": [
    "result.result()"
   ]
  },
  {
   "cell_type": "code",
   "execution_count": 9,
   "id": "1ec231e7-f33d-4c3a-b60c-c238a6bc72cc",
   "metadata": {},
   "outputs": [
    {
     "data": {
      "text/plain": [
       "'2 MHz - 500 ns'"
      ]
     },
     "execution_count": 9,
     "metadata": {},
     "output_type": "execute_result"
    }
   ],
   "source": [
    "speed.result()[\"\"][\"value\"][3:]"
   ]
  },
  {
   "cell_type": "code",
   "execution_count": 12,
   "id": "cc14e33d-90f9-41d6-9021-106951b0d756",
   "metadata": {},
   "outputs": [
    {
     "data": {
      "text/plain": [
       "<_GatheringFuture pending>"
      ]
     },
     "execution_count": 12,
     "metadata": {},
     "output_type": "execute_result"
    }
   ],
   "source": [
    "asyncio.gather(pimCon.driver.trigger_mode.set(Pimte1Driver.TriggerMode.bulb_mode))\n",
    "asyncio.gather(pimCon.driver.initialize.set(1))"
   ]
  },
  {
   "cell_type": "code",
   "execution_count": 13,
   "id": "c842704e-f576-4523-888d-a155952648fe",
   "metadata": {},
   "outputs": [
    {
     "data": {
      "text/plain": [
       "<Task pending name='Task-134' coro=<PimteController.arm() running at /scratch/i10-bluesky/src/i10_bluesky/epics/pimte_controller.py:43>>"
      ]
     },
     "execution_count": 13,
     "metadata": {},
     "output_type": "execute_result"
    }
   ],
   "source": [
    "asyncio.create_task(pimCon.arm())"
   ]
  },
  {
   "cell_type": "code",
   "execution_count": null,
   "id": "593d68b6-8ce8-4a16-9a47-edc513dad423",
   "metadata": {},
   "outputs": [],
   "source": []
  }
 ],
 "metadata": {
  "kernelspec": {
   "display_name": "Python 3 (ipykernel)",
   "language": "python",
   "name": "python3"
  },
  "language_info": {
   "codemirror_mode": {
    "name": "ipython",
    "version": 3
   },
   "file_extension": ".py",
   "mimetype": "text/x-python",
   "name": "python",
   "nbconvert_exporter": "python",
   "pygments_lexer": "ipython3",
   "version": "3.11.8"
  }
 },
 "nbformat": 4,
 "nbformat_minor": 5
}
