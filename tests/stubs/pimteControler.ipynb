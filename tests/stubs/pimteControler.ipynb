{
 "cells": [
  {
   "cell_type": "code",
   "execution_count": 1,
   "id": "d6af20bc-f62c-48fe-a1af-a4bf09519813",
   "metadata": {},
   "outputs": [
    {
     "data": {
      "text/plain": [
       "<Task pending name='Task-5' coro=<Device.connect() running at /venv/lib/python3.11/site-packages/ophyd_async/core/device.py:61>>"
      ]
     },
     "execution_count": 1,
     "metadata": {},
     "output_type": "execute_result"
    }
   ],
   "source": [
    "import asyncio\n",
    "from i10_bluesky.epics.pimte_controller import *\n",
    "from i10_bluesky.epics.drivers.pimte1_driver import *\n",
    "import asyncio\n",
    "loop = asyncio.get_event_loop()\n",
    "pimteDrv = Pimte1Driver(\"BL10I-EA-PIMTE-01:CAM:\") \n",
    "loop.create_task(pimteDrv.connect())"
   ]
  },
  {
   "cell_type": "code",
   "execution_count": 2,
   "id": "9249120f-bf44-40c5-bf4a-233e37b9b299",
   "metadata": {},
   "outputs": [],
   "source": [
    "pimCon=PimteController(pimteDrv)"
   ]
  },
  {
   "cell_type": "code",
   "execution_count": 5,
   "id": "2555b81a-b56f-4175-a402-61dc90366dd5",
   "metadata": {},
   "outputs": [],
   "source": [
    "pimCon.set_temperature(21)\n",
    "result = asyncio.gather(pimCon.driver.acquire_time.get_value())"
   ]
  },
  {
   "cell_type": "code",
   "execution_count": 13,
   "id": "53bb0a67-3b07-4906-92d7-b3df11376a7c",
   "metadata": {},
   "outputs": [],
   "source": [
    "pimCon.speed=(SpeedMode.adc_1Mhz)"
   ]
  },
  {
   "cell_type": "code",
   "execution_count": 14,
   "id": "d65a018f-4952-44bb-a06c-487338fdd4c9",
   "metadata": {},
   "outputs": [
    {
     "data": {
      "text/plain": [
       "<coroutine object SignalR.read at 0x7fbb9bc0b040>"
      ]
     },
     "execution_count": 14,
     "metadata": {},
     "output_type": "execute_result"
    }
   ],
   "source": [
    "pimCon.speed"
   ]
  },
  {
   "cell_type": "code",
   "execution_count": 5,
   "id": "31ad0b61-d01c-40f0-a395-e734e2b06244",
   "metadata": {},
   "outputs": [
    {
     "data": {
      "text/plain": [
       "<Task pending name='Task-102' coro=<PimteController.arm() running at /scratch/i10-bluesky/src/i10_bluesky/epics/pimte_controller.py:40>>"
      ]
     },
     "execution_count": 5,
     "metadata": {},
     "output_type": "execute_result"
    }
   ],
   "source": [
    "loop.create_task(pimCon.arm(1,0.05))"
   ]
  },
  {
   "cell_type": "code",
   "execution_count": 6,
   "id": "7c2cbfa3-d6db-4d38-91ad-09c6d74c78c4",
   "metadata": {},
   "outputs": [
    {
     "data": {
      "text/plain": [
       "0.002"
      ]
     },
     "execution_count": 6,
     "metadata": {},
     "output_type": "execute_result"
    }
   ],
   "source": [
    "result.result()[0]"
   ]
  },
  {
   "cell_type": "code",
   "execution_count": null,
   "id": "1ec231e7-f33d-4c3a-b60c-c238a6bc72cc",
   "metadata": {},
   "outputs": [],
   "source": []
  }
 ],
 "metadata": {
  "kernelspec": {
   "display_name": "Python 3 (ipykernel)",
   "language": "python",
   "name": "python3"
  },
  "language_info": {
   "codemirror_mode": {
    "name": "ipython",
    "version": 3
   },
   "file_extension": ".py",
   "mimetype": "text/x-python",
   "name": "python",
   "nbconvert_exporter": "python",
   "pygments_lexer": "ipython3",
   "version": "3.11.8"
  }
 },
 "nbformat": 4,
 "nbformat_minor": 5
}
