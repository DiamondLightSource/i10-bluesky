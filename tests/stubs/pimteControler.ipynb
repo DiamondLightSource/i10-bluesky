{
 "cells": [
  {
   "cell_type": "code",
   "execution_count": 1,
   "id": "d6af20bc-f62c-48fe-a1af-a4bf09519813",
   "metadata": {},
   "outputs": [
    {
     "data": {
      "text/plain": [
       "<Task pending name='Task-5' coro=<Device.connect() running at /venv/lib/python3.11/site-packages/ophyd_async/core/device.py:61>>"
      ]
     },
     "execution_count": 1,
     "metadata": {},
     "output_type": "execute_result"
    }
   ],
   "source": [
    "import asyncio\n",
    "from i10_bluesky.epics.pimte_controller import *\n",
    "from i10_bluesky.epics.drivers.pimte1_driver import *\n",
    "import asyncio\n",
    "loop = asyncio.get_event_loop()\n",
    "pimteDrv = Pimte1Driver(\"BL10I-EA-PIMTE-01:CAM:\") \n",
    "loop.create_task(pimteDrv.connect())"
   ]
  },
  {
   "cell_type": "code",
   "execution_count": 2,
   "id": "9249120f-bf44-40c5-bf4a-233e37b9b299",
   "metadata": {},
   "outputs": [],
   "source": [
    "pimCon=PimteController(pimteDrv)"
   ]
  },
  {
   "cell_type": "code",
   "execution_count": 3,
   "id": "2555b81a-b56f-4175-a402-61dc90366dd5",
   "metadata": {},
   "outputs": [],
   "source": [
    "result = asyncio.gather(pimCon.driver.acquire_time.get_value(),pimCon.set_temperature(20))"
   ]
  },
  {
   "cell_type": "code",
   "execution_count": 4,
   "id": "53bb0a67-3b07-4906-92d7-b3df11376a7c",
   "metadata": {},
   "outputs": [],
   "source": [
    "asyncio.create_task(pimCon.set_speed(Pimte1Driver.SpeedMode.adc_2Mhz))\n",
    "speed = asyncio.create_task(pimCon.driver.speed.read())"
   ]
  },
  {
   "cell_type": "code",
   "execution_count": 5,
   "id": "b1da070f-189c-45ba-930a-0d20ee47ea8b",
   "metadata": {},
   "outputs": [
    {
     "data": {
      "text/plain": [
       "<GeneratedChoices.1: 100 kHz - 10000 ns: '1: 100 kHz - 10000 ns'>"
      ]
     },
     "execution_count": 5,
     "metadata": {},
     "output_type": "execute_result"
    }
   ],
   "source": [
    "speed.result()[\"\"][\"value\"]"
   ]
  },
  {
   "cell_type": "code",
   "execution_count": 3,
   "id": "31ad0b61-d01c-40f0-a395-e734e2b06244",
   "metadata": {},
   "outputs": [
    {
     "data": {
      "text/plain": [
       "<Task pending name='Task-62' coro=<PimteController.arm() running at /scratch/i10-bluesky/src/i10_bluesky/epics/pimte_controller.py:43>>"
      ]
     },
     "execution_count": 3,
     "metadata": {},
     "output_type": "execute_result"
    }
   ],
   "source": [
    "loop.create_task(pimCon.arm(1,0.002,Pimte1Driver.TriggerMode.internal))"
   ]
  },
  {
   "cell_type": "code",
   "execution_count": 7,
   "id": "f57c0ba6-db0a-4e88-a48a-9943b2452023",
   "metadata": {},
   "outputs": [
    {
     "data": {
      "text/plain": [
       "<TriggerMode.internal: 'Free Run'>"
      ]
     },
     "execution_count": 7,
     "metadata": {},
     "output_type": "execute_result"
    }
   ],
   "source": [
    "Pimte1Driver.TriggerMode.internal"
   ]
  },
  {
   "cell_type": "code",
   "execution_count": 15,
   "id": "7c2cbfa3-d6db-4d38-91ad-09c6d74c78c4",
   "metadata": {},
   "outputs": [
    {
     "data": {
      "text/plain": [
       "0.002"
      ]
     },
     "execution_count": 15,
     "metadata": {},
     "output_type": "execute_result"
    }
   ],
   "source": [
    "result.result()[0]"
   ]
  },
  {
   "cell_type": "code",
   "execution_count": 35,
   "id": "1ec231e7-f33d-4c3a-b60c-c238a6bc72cc",
   "metadata": {},
   "outputs": [
    {
     "data": {
      "text/plain": [
       "'2 MHz - 500 ns'"
      ]
     },
     "execution_count": 35,
     "metadata": {},
     "output_type": "execute_result"
    }
   ],
   "source": [
    "speed.result()[3:]"
   ]
  },
  {
   "cell_type": "code",
   "execution_count": 10,
   "id": "03400ad6-b9ea-48bc-8a76-af533ffc86b7",
   "metadata": {},
   "outputs": [
    {
     "data": {
      "text/plain": [
       "<TriggerMode.internal: 'Free Run'>"
      ]
     },
     "execution_count": 10,
     "metadata": {},
     "output_type": "execute_result"
    }
   ],
   "source": [
    "Pimte1Driver.TriggerMode.internal"
   ]
  },
  {
   "cell_type": "code",
   "execution_count": 7,
   "id": "ef9856d2-7140-4455-a27c-8c705f04b6a1",
   "metadata": {},
   "outputs": [
    {
     "ename": "AttributeError",
     "evalue": "'_UnixSelectorEventLoop' object has no attribute 'gather'",
     "output_type": "error",
     "traceback": [
      "\u001b[0;31m---------------------------------------------------------------------------\u001b[0m",
      "\u001b[0;31mAttributeError\u001b[0m                            Traceback (most recent call last)",
      "Cell \u001b[0;32mIn[7], line 1\u001b[0m\n\u001b[0;32m----> 1\u001b[0m \u001b[43mloop\u001b[49m\u001b[38;5;241;43m.\u001b[39;49m\u001b[43mgather\u001b[49m(pimCon\u001b[38;5;241m.\u001b[39mdriver\u001b[38;5;241m.\u001b[39mtrigger_mode\u001b[38;5;241m.\u001b[39mset(Pimte1Driver\u001b[38;5;241m.\u001b[39mTriggerMode\u001b[38;5;241m.\u001b[39mext_trigger))\n",
      "\u001b[0;31mAttributeError\u001b[0m: '_UnixSelectorEventLoop' object has no attribute 'gather'"
     ]
    }
   ],
   "source": [
    "loop.(pimCon.driver.trigger_mode.set(Pimte1Driver.TriggerMode.ext_trigger))"
   ]
  },
  {
   "cell_type": "code",
   "execution_count": 25,
   "id": "cc14e33d-90f9-41d6-9021-106951b0d756",
   "metadata": {},
   "outputs": [
    {
     "data": {
      "text/plain": [
       "<_GatheringFuture pending>"
      ]
     },
     "execution_count": 25,
     "metadata": {},
     "output_type": "execute_result"
    }
   ],
   "source": [
    "asyncio.gather(pimCon.driver.trigger_mode.set(Pimte1Driver.TriggerMode.internal))\n",
    "asyncio.gather(pimCon.driver.initialize.set(1))"
   ]
  },
  {
   "cell_type": "code",
   "execution_count": 18,
   "id": "c842704e-f576-4523-888d-a155952648fe",
   "metadata": {},
   "outputs": [
    {
     "ename": "TypeError",
     "evalue": "a coroutine was expected, got <AsyncStatus, task: <coroutine object CaSignalBackend.put at 0x7f504b2857a0>, pending>",
     "output_type": "error",
     "traceback": [
      "\u001b[0;31m---------------------------------------------------------------------------\u001b[0m",
      "\u001b[0;31mTypeError\u001b[0m                                 Traceback (most recent call last)",
      "Cell \u001b[0;32mIn[18], line 1\u001b[0m\n\u001b[0;32m----> 1\u001b[0m \u001b[43masyncio\u001b[49m\u001b[38;5;241;43m.\u001b[39;49m\u001b[43mcreate_task\u001b[49m\u001b[43m(\u001b[49m\u001b[43mpimCon\u001b[49m\u001b[38;5;241;43m.\u001b[39;49m\u001b[43mdriver\u001b[49m\u001b[38;5;241;43m.\u001b[39;49m\u001b[43minitialize\u001b[49m\u001b[38;5;241;43m.\u001b[39;49m\u001b[43mset\u001b[49m\u001b[43m(\u001b[49m\u001b[38;5;241;43m1\u001b[39;49m\u001b[43m)\u001b[49m\u001b[43m)\u001b[49m\n",
      "File \u001b[0;32m/usr/local/lib/python3.11/asyncio/tasks.py:384\u001b[0m, in \u001b[0;36mcreate_task\u001b[0;34m(coro, name, context)\u001b[0m\n\u001b[1;32m    381\u001b[0m loop \u001b[38;5;241m=\u001b[39m events\u001b[38;5;241m.\u001b[39mget_running_loop()\n\u001b[1;32m    382\u001b[0m \u001b[38;5;28;01mif\u001b[39;00m context \u001b[38;5;129;01mis\u001b[39;00m \u001b[38;5;28;01mNone\u001b[39;00m:\n\u001b[1;32m    383\u001b[0m     \u001b[38;5;66;03m# Use legacy API if context is not needed\u001b[39;00m\n\u001b[0;32m--> 384\u001b[0m     task \u001b[38;5;241m=\u001b[39m \u001b[43mloop\u001b[49m\u001b[38;5;241;43m.\u001b[39;49m\u001b[43mcreate_task\u001b[49m\u001b[43m(\u001b[49m\u001b[43mcoro\u001b[49m\u001b[43m)\u001b[49m\n\u001b[1;32m    385\u001b[0m \u001b[38;5;28;01melse\u001b[39;00m:\n\u001b[1;32m    386\u001b[0m     task \u001b[38;5;241m=\u001b[39m loop\u001b[38;5;241m.\u001b[39mcreate_task(coro, context\u001b[38;5;241m=\u001b[39mcontext)\n",
      "File \u001b[0;32m/usr/local/lib/python3.11/asyncio/base_events.py:437\u001b[0m, in \u001b[0;36mBaseEventLoop.create_task\u001b[0;34m(self, coro, name, context)\u001b[0m\n\u001b[1;32m    435\u001b[0m \u001b[38;5;28mself\u001b[39m\u001b[38;5;241m.\u001b[39m_check_closed()\n\u001b[1;32m    436\u001b[0m \u001b[38;5;28;01mif\u001b[39;00m \u001b[38;5;28mself\u001b[39m\u001b[38;5;241m.\u001b[39m_task_factory \u001b[38;5;129;01mis\u001b[39;00m \u001b[38;5;28;01mNone\u001b[39;00m:\n\u001b[0;32m--> 437\u001b[0m     task \u001b[38;5;241m=\u001b[39m \u001b[43mtasks\u001b[49m\u001b[38;5;241;43m.\u001b[39;49m\u001b[43mTask\u001b[49m\u001b[43m(\u001b[49m\u001b[43mcoro\u001b[49m\u001b[43m,\u001b[49m\u001b[43m \u001b[49m\u001b[43mloop\u001b[49m\u001b[38;5;241;43m=\u001b[39;49m\u001b[38;5;28;43mself\u001b[39;49m\u001b[43m,\u001b[49m\u001b[43m \u001b[49m\u001b[43mname\u001b[49m\u001b[38;5;241;43m=\u001b[39;49m\u001b[43mname\u001b[49m\u001b[43m,\u001b[49m\u001b[43m \u001b[49m\u001b[43mcontext\u001b[49m\u001b[38;5;241;43m=\u001b[39;49m\u001b[43mcontext\u001b[49m\u001b[43m)\u001b[49m\n\u001b[1;32m    438\u001b[0m     \u001b[38;5;28;01mif\u001b[39;00m task\u001b[38;5;241m.\u001b[39m_source_traceback:\n\u001b[1;32m    439\u001b[0m         \u001b[38;5;28;01mdel\u001b[39;00m task\u001b[38;5;241m.\u001b[39m_source_traceback[\u001b[38;5;241m-\u001b[39m\u001b[38;5;241m1\u001b[39m]\n",
      "\u001b[0;31mTypeError\u001b[0m: a coroutine was expected, got <AsyncStatus, task: <coroutine object CaSignalBackend.put at 0x7f504b2857a0>, pending>"
     ]
    }
   ],
   "source": [
    "asyncio.create_task(pimCon.arm())"
   ]
  },
  {
   "cell_type": "code",
   "execution_count": null,
   "id": "593d68b6-8ce8-4a16-9a47-edc513dad423",
   "metadata": {},
   "outputs": [],
   "source": []
  }
 ],
 "metadata": {
  "kernelspec": {
   "display_name": "Python 3 (ipykernel)",
   "language": "python",
   "name": "python3"
  },
  "language_info": {
   "codemirror_mode": {
    "name": "ipython",
    "version": 3
   },
   "file_extension": ".py",
   "mimetype": "text/x-python",
   "name": "python",
   "nbconvert_exporter": "python",
   "pygments_lexer": "ipython3",
   "version": "3.11.8"
  }
 },
 "nbformat": 4,
 "nbformat_minor": 5
}
